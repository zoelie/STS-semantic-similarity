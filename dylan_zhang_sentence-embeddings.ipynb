{
 "cells": [
  {
   "cell_type": "code",
   "execution_count": 1,
   "metadata": {},
   "outputs": [],
   "source": [
    "import numpy as np\n",
    "import pandas as pd\n",
    "import tensorflow as tf\n",
    "import matplotlib\n",
    "from matplotlib import pyplot as plt\n",
    "import csv\n",
    "import seaborn as sns\n",
    "import string\n",
    "from collections import Counter"
   ]
  },
  {
   "cell_type": "code",
   "execution_count": 2,
   "metadata": {},
   "outputs": [],
   "source": [
    "colnames = ['genre','filename', 'year','id', 'Similarity_score', 'Sentence_1', 'Sentence_2']"
   ]
  },
  {
   "cell_type": "code",
   "execution_count": 3,
   "metadata": {},
   "outputs": [
    {
     "data": {
      "text/html": [
       "<div>\n",
       "<style scoped>\n",
       "    .dataframe tbody tr th:only-of-type {\n",
       "        vertical-align: middle;\n",
       "    }\n",
       "\n",
       "    .dataframe tbody tr th {\n",
       "        vertical-align: top;\n",
       "    }\n",
       "\n",
       "    .dataframe thead th {\n",
       "        text-align: right;\n",
       "    }\n",
       "</style>\n",
       "<table border=\"1\" class=\"dataframe\">\n",
       "  <thead>\n",
       "    <tr style=\"text-align: right;\">\n",
       "      <th></th>\n",
       "      <th>genre</th>\n",
       "      <th>filename</th>\n",
       "      <th>year</th>\n",
       "      <th>id</th>\n",
       "      <th>Similarity_score</th>\n",
       "      <th>Sentence_1</th>\n",
       "      <th>Sentence_2</th>\n",
       "    </tr>\n",
       "  </thead>\n",
       "  <tbody>\n",
       "    <tr>\n",
       "      <th>0</th>\n",
       "      <td>main-captions</td>\n",
       "      <td>MSRvid</td>\n",
       "      <td>2012test</td>\n",
       "      <td>1</td>\n",
       "      <td>5.00</td>\n",
       "      <td>A plane is taking off.</td>\n",
       "      <td>An air plane is taking off.</td>\n",
       "    </tr>\n",
       "    <tr>\n",
       "      <th>1</th>\n",
       "      <td>main-captions</td>\n",
       "      <td>MSRvid</td>\n",
       "      <td>2012test</td>\n",
       "      <td>4</td>\n",
       "      <td>3.80</td>\n",
       "      <td>A man is playing a large flute.</td>\n",
       "      <td>A man is playing a flute.</td>\n",
       "    </tr>\n",
       "    <tr>\n",
       "      <th>2</th>\n",
       "      <td>main-captions</td>\n",
       "      <td>MSRvid</td>\n",
       "      <td>2012test</td>\n",
       "      <td>5</td>\n",
       "      <td>3.80</td>\n",
       "      <td>A man is spreading shreded cheese on a pizza.</td>\n",
       "      <td>A man is spreading shredded cheese on an uncoo...</td>\n",
       "    </tr>\n",
       "    <tr>\n",
       "      <th>3</th>\n",
       "      <td>main-captions</td>\n",
       "      <td>MSRvid</td>\n",
       "      <td>2012test</td>\n",
       "      <td>6</td>\n",
       "      <td>2.60</td>\n",
       "      <td>Three men are playing chess.</td>\n",
       "      <td>Two men are playing chess.</td>\n",
       "    </tr>\n",
       "    <tr>\n",
       "      <th>4</th>\n",
       "      <td>main-captions</td>\n",
       "      <td>MSRvid</td>\n",
       "      <td>2012test</td>\n",
       "      <td>9</td>\n",
       "      <td>4.25</td>\n",
       "      <td>A man is playing the cello.</td>\n",
       "      <td>A man seated is playing the cello.</td>\n",
       "    </tr>\n",
       "  </tbody>\n",
       "</table>\n",
       "</div>"
      ],
      "text/plain": [
       "           genre filename      year  id  Similarity_score  \\\n",
       "0  main-captions   MSRvid  2012test   1              5.00   \n",
       "1  main-captions   MSRvid  2012test   4              3.80   \n",
       "2  main-captions   MSRvid  2012test   5              3.80   \n",
       "3  main-captions   MSRvid  2012test   6              2.60   \n",
       "4  main-captions   MSRvid  2012test   9              4.25   \n",
       "\n",
       "                                      Sentence_1  \\\n",
       "0                         A plane is taking off.   \n",
       "1                A man is playing a large flute.   \n",
       "2  A man is spreading shreded cheese on a pizza.   \n",
       "3                   Three men are playing chess.   \n",
       "4                    A man is playing the cello.   \n",
       "\n",
       "                                          Sentence_2  \n",
       "0                        An air plane is taking off.  \n",
       "1                          A man is playing a flute.  \n",
       "2  A man is spreading shredded cheese on an uncoo...  \n",
       "3                         Two men are playing chess.  \n",
       "4                 A man seated is playing the cello.  "
      ]
     },
     "execution_count": 3,
     "metadata": {},
     "output_type": "execute_result"
    }
   ],
   "source": [
    "# Preprocessing for training dataset\n",
    "sentence_train = pd.read_csv('/Users/dz/Desktop/MSCourses/CMPE255DataMining/Project/datasets/sts-train.csv', names= colnames, delimiter = '\\t')\n",
    "sentence_train.head()"
   ]
  },
  {
   "cell_type": "code",
   "execution_count": 4,
   "metadata": {},
   "outputs": [
    {
     "data": {
      "text/html": [
       "<div>\n",
       "<style scoped>\n",
       "    .dataframe tbody tr th:only-of-type {\n",
       "        vertical-align: middle;\n",
       "    }\n",
       "\n",
       "    .dataframe tbody tr th {\n",
       "        vertical-align: top;\n",
       "    }\n",
       "\n",
       "    .dataframe thead th {\n",
       "        text-align: right;\n",
       "    }\n",
       "</style>\n",
       "<table border=\"1\" class=\"dataframe\">\n",
       "  <thead>\n",
       "    <tr style=\"text-align: right;\">\n",
       "      <th></th>\n",
       "      <th>Similarity_score</th>\n",
       "      <th>Sentence_1</th>\n",
       "      <th>Sentence_2</th>\n",
       "    </tr>\n",
       "  </thead>\n",
       "  <tbody>\n",
       "    <tr>\n",
       "      <th>0</th>\n",
       "      <td>5.00</td>\n",
       "      <td>A plane is taking off.</td>\n",
       "      <td>An air plane is taking off.</td>\n",
       "    </tr>\n",
       "    <tr>\n",
       "      <th>1</th>\n",
       "      <td>3.80</td>\n",
       "      <td>A man is playing a large flute.</td>\n",
       "      <td>A man is playing a flute.</td>\n",
       "    </tr>\n",
       "    <tr>\n",
       "      <th>2</th>\n",
       "      <td>3.80</td>\n",
       "      <td>A man is spreading shreded cheese on a pizza.</td>\n",
       "      <td>A man is spreading shredded cheese on an uncoo...</td>\n",
       "    </tr>\n",
       "    <tr>\n",
       "      <th>3</th>\n",
       "      <td>2.60</td>\n",
       "      <td>Three men are playing chess.</td>\n",
       "      <td>Two men are playing chess.</td>\n",
       "    </tr>\n",
       "    <tr>\n",
       "      <th>4</th>\n",
       "      <td>4.25</td>\n",
       "      <td>A man is playing the cello.</td>\n",
       "      <td>A man seated is playing the cello.</td>\n",
       "    </tr>\n",
       "  </tbody>\n",
       "</table>\n",
       "</div>"
      ],
      "text/plain": [
       "   Similarity_score                                     Sentence_1  \\\n",
       "0              5.00                         A plane is taking off.   \n",
       "1              3.80                A man is playing a large flute.   \n",
       "2              3.80  A man is spreading shreded cheese on a pizza.   \n",
       "3              2.60                   Three men are playing chess.   \n",
       "4              4.25                    A man is playing the cello.   \n",
       "\n",
       "                                          Sentence_2  \n",
       "0                        An air plane is taking off.  \n",
       "1                          A man is playing a flute.  \n",
       "2  A man is spreading shredded cheese on an uncoo...  \n",
       "3                         Two men are playing chess.  \n",
       "4                 A man seated is playing the cello.  "
      ]
     },
     "execution_count": 4,
     "metadata": {},
     "output_type": "execute_result"
    }
   ],
   "source": [
    "# Clean training dataset\n",
    "sentence_train.drop(columns = ['genre','filename','year','id'], inplace = True)\n",
    "sentence_train.head()"
   ]
  },
  {
   "cell_type": "code",
   "execution_count": 5,
   "metadata": {
    "scrolled": false
   },
   "outputs": [
    {
     "data": {
      "text/html": [
       "<div>\n",
       "<style scoped>\n",
       "    .dataframe tbody tr th:only-of-type {\n",
       "        vertical-align: middle;\n",
       "    }\n",
       "\n",
       "    .dataframe tbody tr th {\n",
       "        vertical-align: top;\n",
       "    }\n",
       "\n",
       "    .dataframe thead th {\n",
       "        text-align: right;\n",
       "    }\n",
       "</style>\n",
       "<table border=\"1\" class=\"dataframe\">\n",
       "  <thead>\n",
       "    <tr style=\"text-align: right;\">\n",
       "      <th></th>\n",
       "      <th>genre</th>\n",
       "      <th>filename</th>\n",
       "      <th>year</th>\n",
       "      <th>id</th>\n",
       "      <th>Similarity_score</th>\n",
       "      <th>Sentence_1</th>\n",
       "      <th>Sentence_2</th>\n",
       "    </tr>\n",
       "  </thead>\n",
       "  <tbody>\n",
       "    <tr>\n",
       "      <th>0</th>\n",
       "      <td>main-captions</td>\n",
       "      <td>MSRvid</td>\n",
       "      <td>2012test</td>\n",
       "      <td>24</td>\n",
       "      <td>2.5</td>\n",
       "      <td>A girl is styling her hair.</td>\n",
       "      <td>A girl is brushing her hair.</td>\n",
       "    </tr>\n",
       "    <tr>\n",
       "      <th>1</th>\n",
       "      <td>main-captions</td>\n",
       "      <td>MSRvid</td>\n",
       "      <td>2012test</td>\n",
       "      <td>33</td>\n",
       "      <td>3.6</td>\n",
       "      <td>A group of men play soccer on the beach.</td>\n",
       "      <td>A group of boys are playing soccer on the beach.</td>\n",
       "    </tr>\n",
       "    <tr>\n",
       "      <th>2</th>\n",
       "      <td>main-captions</td>\n",
       "      <td>MSRvid</td>\n",
       "      <td>2012test</td>\n",
       "      <td>45</td>\n",
       "      <td>5.0</td>\n",
       "      <td>One woman is measuring another woman's ankle.</td>\n",
       "      <td>A woman measures another woman's ankle.</td>\n",
       "    </tr>\n",
       "    <tr>\n",
       "      <th>3</th>\n",
       "      <td>main-captions</td>\n",
       "      <td>MSRvid</td>\n",
       "      <td>2012test</td>\n",
       "      <td>63</td>\n",
       "      <td>4.2</td>\n",
       "      <td>A man is cutting up a cucumber.</td>\n",
       "      <td>A man is slicing a cucumber.</td>\n",
       "    </tr>\n",
       "    <tr>\n",
       "      <th>4</th>\n",
       "      <td>main-captions</td>\n",
       "      <td>MSRvid</td>\n",
       "      <td>2012test</td>\n",
       "      <td>66</td>\n",
       "      <td>1.5</td>\n",
       "      <td>A man is playing a harp.</td>\n",
       "      <td>A man is playing a keyboard.</td>\n",
       "    </tr>\n",
       "  </tbody>\n",
       "</table>\n",
       "</div>"
      ],
      "text/plain": [
       "           genre filename      year  id  Similarity_score  \\\n",
       "0  main-captions   MSRvid  2012test  24               2.5   \n",
       "1  main-captions   MSRvid  2012test  33               3.6   \n",
       "2  main-captions   MSRvid  2012test  45               5.0   \n",
       "3  main-captions   MSRvid  2012test  63               4.2   \n",
       "4  main-captions   MSRvid  2012test  66               1.5   \n",
       "\n",
       "                                      Sentence_1  \\\n",
       "0                    A girl is styling her hair.   \n",
       "1       A group of men play soccer on the beach.   \n",
       "2  One woman is measuring another woman's ankle.   \n",
       "3                A man is cutting up a cucumber.   \n",
       "4                       A man is playing a harp.   \n",
       "\n",
       "                                         Sentence_2  \n",
       "0                      A girl is brushing her hair.  \n",
       "1  A group of boys are playing soccer on the beach.  \n",
       "2           A woman measures another woman's ankle.  \n",
       "3                      A man is slicing a cucumber.  \n",
       "4                      A man is playing a keyboard.  "
      ]
     },
     "execution_count": 5,
     "metadata": {},
     "output_type": "execute_result"
    }
   ],
   "source": [
    "# Preprocessing for testing dataset. Noticed qutotation marks.\n",
    "sentence_test = pd.read_csv('/Users/dz/Desktop/MSCourses/CMPE255DataMining/Project/datasets/sts-test.csv', names= colnames, quoting = csv.QUOTE_NONE, delimiter = '\\t')\n",
    "sentence_test.head()"
   ]
  },
  {
   "cell_type": "code",
   "execution_count": 6,
   "metadata": {},
   "outputs": [
    {
     "data": {
      "text/html": [
       "<div>\n",
       "<style scoped>\n",
       "    .dataframe tbody tr th:only-of-type {\n",
       "        vertical-align: middle;\n",
       "    }\n",
       "\n",
       "    .dataframe tbody tr th {\n",
       "        vertical-align: top;\n",
       "    }\n",
       "\n",
       "    .dataframe thead th {\n",
       "        text-align: right;\n",
       "    }\n",
       "</style>\n",
       "<table border=\"1\" class=\"dataframe\">\n",
       "  <thead>\n",
       "    <tr style=\"text-align: right;\">\n",
       "      <th></th>\n",
       "      <th>Similarity_score</th>\n",
       "      <th>Sentence_1</th>\n",
       "      <th>Sentence_2</th>\n",
       "    </tr>\n",
       "  </thead>\n",
       "  <tbody>\n",
       "    <tr>\n",
       "      <th>0</th>\n",
       "      <td>2.5</td>\n",
       "      <td>A girl is styling her hair.</td>\n",
       "      <td>A girl is brushing her hair.</td>\n",
       "    </tr>\n",
       "    <tr>\n",
       "      <th>1</th>\n",
       "      <td>3.6</td>\n",
       "      <td>A group of men play soccer on the beach.</td>\n",
       "      <td>A group of boys are playing soccer on the beach.</td>\n",
       "    </tr>\n",
       "    <tr>\n",
       "      <th>2</th>\n",
       "      <td>5.0</td>\n",
       "      <td>One woman is measuring another woman's ankle.</td>\n",
       "      <td>A woman measures another woman's ankle.</td>\n",
       "    </tr>\n",
       "    <tr>\n",
       "      <th>3</th>\n",
       "      <td>4.2</td>\n",
       "      <td>A man is cutting up a cucumber.</td>\n",
       "      <td>A man is slicing a cucumber.</td>\n",
       "    </tr>\n",
       "    <tr>\n",
       "      <th>4</th>\n",
       "      <td>1.5</td>\n",
       "      <td>A man is playing a harp.</td>\n",
       "      <td>A man is playing a keyboard.</td>\n",
       "    </tr>\n",
       "  </tbody>\n",
       "</table>\n",
       "</div>"
      ],
      "text/plain": [
       "   Similarity_score                                     Sentence_1  \\\n",
       "0               2.5                    A girl is styling her hair.   \n",
       "1               3.6       A group of men play soccer on the beach.   \n",
       "2               5.0  One woman is measuring another woman's ankle.   \n",
       "3               4.2                A man is cutting up a cucumber.   \n",
       "4               1.5                       A man is playing a harp.   \n",
       "\n",
       "                                         Sentence_2  \n",
       "0                      A girl is brushing her hair.  \n",
       "1  A group of boys are playing soccer on the beach.  \n",
       "2           A woman measures another woman's ankle.  \n",
       "3                      A man is slicing a cucumber.  \n",
       "4                      A man is playing a keyboard.  "
      ]
     },
     "execution_count": 6,
     "metadata": {},
     "output_type": "execute_result"
    }
   ],
   "source": [
    "# Clean testing dataset\n",
    "sentence_test.drop(columns = ['genre','filename','year','id'], inplace = True)\n",
    "sentence_test.head()"
   ]
  },
  {
   "cell_type": "code",
   "execution_count": 7,
   "metadata": {},
   "outputs": [
    {
     "data": {
      "text/html": [
       "<div>\n",
       "<style scoped>\n",
       "    .dataframe tbody tr th:only-of-type {\n",
       "        vertical-align: middle;\n",
       "    }\n",
       "\n",
       "    .dataframe tbody tr th {\n",
       "        vertical-align: top;\n",
       "    }\n",
       "\n",
       "    .dataframe thead th {\n",
       "        text-align: right;\n",
       "    }\n",
       "</style>\n",
       "<table border=\"1\" class=\"dataframe\">\n",
       "  <thead>\n",
       "    <tr style=\"text-align: right;\">\n",
       "      <th></th>\n",
       "      <th>genre</th>\n",
       "      <th>filename</th>\n",
       "      <th>year</th>\n",
       "      <th>id</th>\n",
       "      <th>Similarity_score</th>\n",
       "      <th>Sentence_1</th>\n",
       "      <th>Sentence_2</th>\n",
       "    </tr>\n",
       "  </thead>\n",
       "  <tbody>\n",
       "    <tr>\n",
       "      <th>0</th>\n",
       "      <td>main-captions</td>\n",
       "      <td>MSRvid</td>\n",
       "      <td>2012test</td>\n",
       "      <td>0</td>\n",
       "      <td>5.00</td>\n",
       "      <td>A man with a hard hat is dancing.</td>\n",
       "      <td>A man wearing a hard hat is dancing.</td>\n",
       "    </tr>\n",
       "    <tr>\n",
       "      <th>1</th>\n",
       "      <td>main-captions</td>\n",
       "      <td>MSRvid</td>\n",
       "      <td>2012test</td>\n",
       "      <td>2</td>\n",
       "      <td>4.75</td>\n",
       "      <td>A young child is riding a horse.</td>\n",
       "      <td>A child is riding a horse.</td>\n",
       "    </tr>\n",
       "    <tr>\n",
       "      <th>2</th>\n",
       "      <td>main-captions</td>\n",
       "      <td>MSRvid</td>\n",
       "      <td>2012test</td>\n",
       "      <td>3</td>\n",
       "      <td>5.00</td>\n",
       "      <td>A man is feeding a mouse to a snake.</td>\n",
       "      <td>The man is feeding a mouse to the snake.</td>\n",
       "    </tr>\n",
       "    <tr>\n",
       "      <th>3</th>\n",
       "      <td>main-captions</td>\n",
       "      <td>MSRvid</td>\n",
       "      <td>2012test</td>\n",
       "      <td>7</td>\n",
       "      <td>2.40</td>\n",
       "      <td>A woman is playing the guitar.</td>\n",
       "      <td>A man is playing guitar.</td>\n",
       "    </tr>\n",
       "    <tr>\n",
       "      <th>4</th>\n",
       "      <td>main-captions</td>\n",
       "      <td>MSRvid</td>\n",
       "      <td>2012test</td>\n",
       "      <td>8</td>\n",
       "      <td>2.75</td>\n",
       "      <td>A woman is playing the flute.</td>\n",
       "      <td>A man is playing a flute.</td>\n",
       "    </tr>\n",
       "  </tbody>\n",
       "</table>\n",
       "</div>"
      ],
      "text/plain": [
       "           genre filename      year  id  Similarity_score  \\\n",
       "0  main-captions   MSRvid  2012test   0              5.00   \n",
       "1  main-captions   MSRvid  2012test   2              4.75   \n",
       "2  main-captions   MSRvid  2012test   3              5.00   \n",
       "3  main-captions   MSRvid  2012test   7              2.40   \n",
       "4  main-captions   MSRvid  2012test   8              2.75   \n",
       "\n",
       "                             Sentence_1  \\\n",
       "0     A man with a hard hat is dancing.   \n",
       "1      A young child is riding a horse.   \n",
       "2  A man is feeding a mouse to a snake.   \n",
       "3        A woman is playing the guitar.   \n",
       "4         A woman is playing the flute.   \n",
       "\n",
       "                                 Sentence_2  \n",
       "0      A man wearing a hard hat is dancing.  \n",
       "1                A child is riding a horse.  \n",
       "2  The man is feeding a mouse to the snake.  \n",
       "3                  A man is playing guitar.  \n",
       "4                 A man is playing a flute.  "
      ]
     },
     "execution_count": 7,
     "metadata": {},
     "output_type": "execute_result"
    }
   ],
   "source": [
    "# Preprocessing for dev dataset\n",
    "sentence_dev = pd.read_csv('/Users/dz/Desktop/MSCourses/CMPE255DataMining/Project/datasets/sts-dev.csv', names= colnames, quoting = csv.QUOTE_NONE, delimiter = '\\t')\n",
    "sentence_dev.head()"
   ]
  },
  {
   "cell_type": "code",
   "execution_count": 8,
   "metadata": {},
   "outputs": [
    {
     "data": {
      "text/html": [
       "<div>\n",
       "<style scoped>\n",
       "    .dataframe tbody tr th:only-of-type {\n",
       "        vertical-align: middle;\n",
       "    }\n",
       "\n",
       "    .dataframe tbody tr th {\n",
       "        vertical-align: top;\n",
       "    }\n",
       "\n",
       "    .dataframe thead th {\n",
       "        text-align: right;\n",
       "    }\n",
       "</style>\n",
       "<table border=\"1\" class=\"dataframe\">\n",
       "  <thead>\n",
       "    <tr style=\"text-align: right;\">\n",
       "      <th></th>\n",
       "      <th>Similarity_score</th>\n",
       "      <th>Sentence_1</th>\n",
       "      <th>Sentence_2</th>\n",
       "    </tr>\n",
       "  </thead>\n",
       "  <tbody>\n",
       "    <tr>\n",
       "      <th>0</th>\n",
       "      <td>5.00</td>\n",
       "      <td>A man with a hard hat is dancing.</td>\n",
       "      <td>A man wearing a hard hat is dancing.</td>\n",
       "    </tr>\n",
       "    <tr>\n",
       "      <th>1</th>\n",
       "      <td>4.75</td>\n",
       "      <td>A young child is riding a horse.</td>\n",
       "      <td>A child is riding a horse.</td>\n",
       "    </tr>\n",
       "    <tr>\n",
       "      <th>2</th>\n",
       "      <td>5.00</td>\n",
       "      <td>A man is feeding a mouse to a snake.</td>\n",
       "      <td>The man is feeding a mouse to the snake.</td>\n",
       "    </tr>\n",
       "    <tr>\n",
       "      <th>3</th>\n",
       "      <td>2.40</td>\n",
       "      <td>A woman is playing the guitar.</td>\n",
       "      <td>A man is playing guitar.</td>\n",
       "    </tr>\n",
       "    <tr>\n",
       "      <th>4</th>\n",
       "      <td>2.75</td>\n",
       "      <td>A woman is playing the flute.</td>\n",
       "      <td>A man is playing a flute.</td>\n",
       "    </tr>\n",
       "  </tbody>\n",
       "</table>\n",
       "</div>"
      ],
      "text/plain": [
       "   Similarity_score                            Sentence_1  \\\n",
       "0              5.00     A man with a hard hat is dancing.   \n",
       "1              4.75      A young child is riding a horse.   \n",
       "2              5.00  A man is feeding a mouse to a snake.   \n",
       "3              2.40        A woman is playing the guitar.   \n",
       "4              2.75         A woman is playing the flute.   \n",
       "\n",
       "                                 Sentence_2  \n",
       "0      A man wearing a hard hat is dancing.  \n",
       "1                A child is riding a horse.  \n",
       "2  The man is feeding a mouse to the snake.  \n",
       "3                  A man is playing guitar.  \n",
       "4                 A man is playing a flute.  "
      ]
     },
     "execution_count": 8,
     "metadata": {},
     "output_type": "execute_result"
    }
   ],
   "source": [
    "# Clean dev dataset\n",
    "sentence_dev.drop(columns = ['genre','filename','year','id'], inplace = True)\n",
    "sentence_dev.head()"
   ]
  },
  {
   "cell_type": "code",
   "execution_count": 9,
   "metadata": {},
   "outputs": [
    {
     "name": "stdout",
     "output_type": "stream",
     "text": [
      "Total train samples : 5711\n",
      "Total test samples : 1379\n",
      "Total validation samples : 1500\n"
     ]
    }
   ],
   "source": [
    "# Print size of each \n",
    "print(f\"Total train samples : {sentence_train.shape[0]}\")\n",
    "print(f\"Total test samples : {sentence_test.shape[0]}\")\n",
    "print(f\"Total validation samples : {sentence_dev.shape[0]}\")"
   ]
  },
  {
   "cell_type": "code",
   "execution_count": 10,
   "metadata": {},
   "outputs": [
    {
     "name": "stdout",
     "output_type": "stream",
     "text": [
      "Sentence1: A man is playing a large flute.\n",
      "Sentence2: A man is playing a flute.\n",
      "Similarity: 3.8\n"
     ]
    }
   ],
   "source": [
    "# Select one row as sample from dataset\n",
    "print(f\"Sentence1: {sentence_train.loc[1, 'Sentence_1']}\")\n",
    "print(f\"Sentence2: {sentence_train.loc[1, 'Sentence_2']}\")\n",
    "print(f\"Similarity: {sentence_train.loc[1, 'Similarity_score']}\")"
   ]
  },
  {
   "cell_type": "code",
   "execution_count": 11,
   "metadata": {},
   "outputs": [
    {
     "name": "stdout",
     "output_type": "stream",
     "text": [
      "Number of missing values: \n",
      "Similarity_score    0\n",
      "Sentence_1          0\n",
      "Sentence_2          3\n",
      "dtype: int64\n"
     ]
    }
   ],
   "source": [
    "# checking how many NaN in training dataset\n",
    "print (\"Number of missing values: \")\n",
    "print(sentence_train.isnull().sum())"
   ]
  },
  {
   "cell_type": "code",
   "execution_count": 12,
   "metadata": {},
   "outputs": [
    {
     "name": "stdout",
     "output_type": "stream",
     "text": [
      "Similarity_score    0\n",
      "Sentence_1          0\n",
      "Sentence_2          0\n",
      "dtype: int64\n"
     ]
    }
   ],
   "source": [
    "# drop missing values\n",
    "sentence_train.dropna(axis = 0, inplace = True)\n",
    "print(sentence_train.isnull().sum())"
   ]
  },
  {
   "cell_type": "code",
   "execution_count": 13,
   "metadata": {},
   "outputs": [
    {
     "data": {
      "image/png": "[encoded data removed]",
      "text/plain": [
       "<Figure size 432x288 with 1 Axes>"
      ]
     },
     "metadata": {
      "needs_background": "light"
     },
     "output_type": "display_data"
    }
   ],
   "source": [
    "# Testing datset sample, I used histogram plot that represesnt sentences' length and count by x, y axis \n",
    "sentence_test['Sentence_1'].str.len().hist()\n",
    "plt.show()"
   ]
  },
  {
   "cell_type": "code",
   "execution_count": 14,
   "metadata": {},
   "outputs": [],
   "source": [
    "import nltk\n",
    "# Install nltk all package, otherwise, it doesn't work\n",
    "# link: https://www.nltk.org/data.html\n",
    "# nltk.download()\n",
    "STOP = set(nltk.corpus.stopwords.words(\"english\"))"
   ]
  },
  {
   "cell_type": "code",
   "execution_count": 15,
   "metadata": {},
   "outputs": [],
   "source": [
    "class Sentence:\n",
    "    \"\"\"\n",
    "    Used as a base class to preprocess any \n",
    "    sentence by tokenizing and removing stopwords.\n",
    "    This doesn't remove punctuations.\n",
    "    \"\"\"\n",
    "    def __init__(self, sentence):\n",
    "        self.raw = sentence\n",
    "        normalized_sentence = sentence.replace(\"‘\", \"'\").replace(\"’\", \"'\")\n",
    "        self.tokens = [t.lower() for t in nltk.word_tokenize(normalized_sentence)]\n",
    "        self.tokens_without_stop = [t for t in self.tokens if t not in STOP]"
   ]
  },
  {
   "cell_type": "code",
   "execution_count": 16,
   "metadata": {},
   "outputs": [],
   "source": [
    "Sentence_1 = [Sentence(s) for s in sentence_train['Sentence_1']]\n",
    "Sentence_2 = [Sentence(str(s)) for s in sentence_train['Sentence_2']]"
   ]
  },
  {
   "cell_type": "code",
   "execution_count": 17,
   "metadata": {},
   "outputs": [],
   "source": [
    "table = str.maketrans('', '', string.punctuation)\n",
    "sen1_words = list()\n",
    "sen2_words = list()\n",
    "\n",
    "for i in range(0,len(Sentence_1)):\n",
    "    \n",
    "    stripped_1 = [w.translate(table) for w in Sentence_1[i].tokens_without_stop]\n",
    "    stripped_2 = [w.translate(table) for w in Sentence_2[i].tokens_without_stop]\n",
    "    \n",
    "    sen1_words += stripped_1\n",
    "    sen2_words += stripped_2"
   ]
  },
  {
   "cell_type": "code",
   "execution_count": 18,
   "metadata": {},
   "outputs": [],
   "source": [
    "# Count frequency word and plot\n",
    "word_freq_sentence1 = []\n",
    "word_freq_sentence2 = []\n",
    "word_freq_sentence1= Counter(sen1_words)  \n",
    "word_freq_sentence2 = Counter(sen2_words)\n",
    "\n",
    "colnames = ['Word','Frequency']\n",
    "word_freq_sentence1 =  pd.DataFrame(sorted(word_freq_sentence1.items(), key=lambda pair: pair[1], reverse=True),columns=colnames)\n",
    "word_freq_sentence2 =  pd.DataFrame(sorted(word_freq_sentence2.items(), key=lambda pair: pair[1], reverse=True),columns=colnames)"
   ]
  },
  {
   "cell_type": "code",
   "execution_count": 19,
   "metadata": {},
   "outputs": [
    {
     "data": {
      "image/png": "[encoded data removed]",
      "text/plain": [
       "<Figure size 1152x432 with 1 Axes>"
      ]
     },
     "metadata": {},
     "output_type": "display_data"
    },
    {
     "data": {
      "image/png": "[encoded data removed]",
      "text/plain": [
       "<Figure size 1152x432 with 1 Axes>"
      ]
     },
     "metadata": {},
     "output_type": "display_data"
    }
   ],
   "source": [
    "# Training datasete sample, I used bar plot that represented the Top 15 frequent words in sentence 1 and 2 in training dataset\n",
    "sns.set(style=\"whitegrid\")\n",
    "plt.figure(figsize=(16, 6))\n",
    "plt.title(\"Word Frequency in Sentence 1\")\n",
    "ax = sns.barplot(x=\"Word\", y=\"Frequency\", data = word_freq_sentence1[:15])\n",
    "\n",
    "sns.set(style=\"whitegrid\")\n",
    "plt.figure(figsize=(16, 6))\n",
    "plt.title(\"Word Frequency in Sentence 2\")\n",
    "ax = sns.barplot(x=\"Word\", y=\"Frequency\", data=word_freq_sentence2[:15])"
   ]
  },
  {
   "cell_type": "code",
   "execution_count": 20,
   "metadata": {},
   "outputs": [
    {
     "name": "stdout",
     "output_type": "stream",
     "text": [
      "Training dataset distribution: \n",
      "0.000000    367\n",
      "4.000000    350\n",
      "3.000000    308\n",
      "5.000000    265\n",
      "3.800000    263\n",
      "           ... \n",
      "3.933000      1\n",
      "2.830000      1\n",
      "0.944000      1\n",
      "4.571000      1\n",
      "3.333333      1\n",
      "Name: Similarity_score, Length: 139, dtype: int64\n"
     ]
    }
   ],
   "source": [
    "# Distribution of training, testing and dev \n",
    "print(\"Training dataset distribution: \")\n",
    "print(sentence_train.Similarity_score.value_counts())"
   ]
  },
  {
   "cell_type": "code",
   "execution_count": 21,
   "metadata": {},
   "outputs": [
    {
     "name": "stdout",
     "output_type": "stream",
     "text": [
      "Testing dataset distribution: \n",
      "0.000    112\n",
      "4.000    107\n",
      "5.000     97\n",
      "2.000     93\n",
      "3.000     87\n",
      "        ... \n",
      "2.670      1\n",
      "4.222      1\n",
      "1.300      1\n",
      "0.533      1\n",
      "3.176      1\n",
      "Name: Similarity_score, Length: 70, dtype: int64\n"
     ]
    }
   ],
   "source": [
    "print(\"Testing dataset distribution: \")\n",
    "print(sentence_test.Similarity_score.value_counts())"
   ]
  },
  {
   "cell_type": "code",
   "execution_count": 22,
   "metadata": {},
   "outputs": [
    {
     "name": "stdout",
     "output_type": "stream",
     "text": [
      "Dev dataset distribution: \n",
      "0.000    139\n",
      "3.000     86\n",
      "3.200     63\n",
      "2.600     61\n",
      "3.800     60\n",
      "        ... \n",
      "4.667      1\n",
      "1.154      1\n",
      "2.692      1\n",
      "1.670      1\n",
      "1.667      1\n",
      "Name: Similarity_score, Length: 78, dtype: int64\n"
     ]
    }
   ],
   "source": [
    "print(\"Dev dataset distribution: \")\n",
    "print(sentence_dev.Similarity_score.value_counts())"
   ]
  },
  {
   "cell_type": "code",
   "execution_count": 23,
   "metadata": {},
   "outputs": [],
   "source": [
    "# skip the sample with \"-\" in training and dev dataset\n",
    "sentence_train = (sentence_train[sentence_train.Similarity_score != \"-\"].sample(frac = 1.0, random_state = 42).\n",
    "                 reset_index(drop = True))\n",
    "sentence_dev = (sentence_dev[sentence_dev.Similarity_score != \"-\"].sample(frac = 1.0, random_state = 42).\n",
    "                 reset_index(drop = True))"
   ]
  },
  {
   "cell_type": "code",
   "execution_count": 24,
   "metadata": {
    "scrolled": true
   },
   "outputs": [],
   "source": [
    "# Testing BERT for semantic similarity\n",
    "# !pip install -U sentence-transformers\n",
    "import torch\n",
    "from sentence_transformers import SentenceTransformer\n",
    "from scipy.spatial import distance"
   ]
  },
  {
   "cell_type": "code",
   "execution_count": 25,
   "metadata": {},
   "outputs": [],
   "source": [
    "# Load BERT model\n",
    "# https://pypi.org/project/sentence-transformers/\n",
    "model = SentenceTransformer('distilbert-base-nli-mean-tokens') "
   ]
  },
  {
   "cell_type": "code",
   "execution_count": 26,
   "metadata": {},
   "outputs": [],
   "source": [
    "sentence_train = pd.pandas.read_table(\n",
    "    '/Users/dz/Desktop/MSCourses/CMPE255DataMining/Project/datasets/sts-train.csv', error_bad_lines=False,\n",
    "    skip_blank_lines=True, usecols=[4, 5, 6], names=[\"Similarity_score\", \"Sentence_1\", \"Sentence_2\"])"
   ]
  },
  {
   "cell_type": "code",
   "execution_count": 27,
   "metadata": {},
   "outputs": [
    {
     "data": {
      "text/html": [
       "<div>\n",
       "<style scoped>\n",
       "    .dataframe tbody tr th:only-of-type {\n",
       "        vertical-align: middle;\n",
       "    }\n",
       "\n",
       "    .dataframe tbody tr th {\n",
       "        vertical-align: top;\n",
       "    }\n",
       "\n",
       "    .dataframe thead th {\n",
       "        text-align: right;\n",
       "    }\n",
       "</style>\n",
       "<table border=\"1\" class=\"dataframe\">\n",
       "  <thead>\n",
       "    <tr style=\"text-align: right;\">\n",
       "      <th></th>\n",
       "      <th>Similarity_score</th>\n",
       "      <th>Sentence_1</th>\n",
       "      <th>Sentence_2</th>\n",
       "    </tr>\n",
       "  </thead>\n",
       "  <tbody>\n",
       "    <tr>\n",
       "      <th>0</th>\n",
       "      <td>5.00</td>\n",
       "      <td>A plane is taking off.</td>\n",
       "      <td>An air plane is taking off.</td>\n",
       "    </tr>\n",
       "    <tr>\n",
       "      <th>1</th>\n",
       "      <td>3.80</td>\n",
       "      <td>A man is playing a large flute.</td>\n",
       "      <td>A man is playing a flute.</td>\n",
       "    </tr>\n",
       "    <tr>\n",
       "      <th>2</th>\n",
       "      <td>3.80</td>\n",
       "      <td>A man is spreading shreded cheese on a pizza.</td>\n",
       "      <td>A man is spreading shredded cheese on an uncoo...</td>\n",
       "    </tr>\n",
       "    <tr>\n",
       "      <th>3</th>\n",
       "      <td>2.60</td>\n",
       "      <td>Three men are playing chess.</td>\n",
       "      <td>Two men are playing chess.</td>\n",
       "    </tr>\n",
       "    <tr>\n",
       "      <th>4</th>\n",
       "      <td>4.25</td>\n",
       "      <td>A man is playing the cello.</td>\n",
       "      <td>A man seated is playing the cello.</td>\n",
       "    </tr>\n",
       "  </tbody>\n",
       "</table>\n",
       "</div>"
      ],
      "text/plain": [
       "   Similarity_score                                     Sentence_1  \\\n",
       "0              5.00                         A plane is taking off.   \n",
       "1              3.80                A man is playing a large flute.   \n",
       "2              3.80  A man is spreading shreded cheese on a pizza.   \n",
       "3              2.60                   Three men are playing chess.   \n",
       "4              4.25                    A man is playing the cello.   \n",
       "\n",
       "                                          Sentence_2  \n",
       "0                        An air plane is taking off.  \n",
       "1                          A man is playing a flute.  \n",
       "2  A man is spreading shredded cheese on an uncoo...  \n",
       "3                         Two men are playing chess.  \n",
       "4                 A man seated is playing the cello.  "
      ]
     },
     "execution_count": 27,
     "metadata": {},
     "output_type": "execute_result"
    }
   ],
   "source": [
    "# check training dataset that will be using later\n",
    "sentence_train.head()"
   ]
  },
  {
   "cell_type": "code",
   "execution_count": 28,
   "metadata": {},
   "outputs": [
    {
     "data": {
      "text/html": [
       "<div>\n",
       "<style scoped>\n",
       "    .dataframe tbody tr th:only-of-type {\n",
       "        vertical-align: middle;\n",
       "    }\n",
       "\n",
       "    .dataframe tbody tr th {\n",
       "        vertical-align: top;\n",
       "    }\n",
       "\n",
       "    .dataframe thead th {\n",
       "        text-align: right;\n",
       "    }\n",
       "</style>\n",
       "<table border=\"1\" class=\"dataframe\">\n",
       "  <thead>\n",
       "    <tr style=\"text-align: right;\">\n",
       "      <th></th>\n",
       "      <th>Similarity_score</th>\n",
       "      <th>Sentence_1</th>\n",
       "      <th>Sentence_2</th>\n",
       "    </tr>\n",
       "  </thead>\n",
       "  <tbody>\n",
       "    <tr>\n",
       "      <th>5706</th>\n",
       "      <td>0.0</td>\n",
       "      <td>Severe Gales As Storm Clodagh Hits Britain</td>\n",
       "      <td>Merkel pledges NATO solidarity with Latvia</td>\n",
       "    </tr>\n",
       "    <tr>\n",
       "      <th>5707</th>\n",
       "      <td>0.0</td>\n",
       "      <td>Dozens of Egyptians hostages taken by Libyan t...</td>\n",
       "      <td>Egyptian boat crash death toll rises as more b...</td>\n",
       "    </tr>\n",
       "    <tr>\n",
       "      <th>5708</th>\n",
       "      <td>0.0</td>\n",
       "      <td>President heading to Bahrain</td>\n",
       "      <td>President Xi: China to continue help to fight ...</td>\n",
       "    </tr>\n",
       "    <tr>\n",
       "      <th>5709</th>\n",
       "      <td>0.0</td>\n",
       "      <td>China, India vow to further bilateral ties</td>\n",
       "      <td>China Scrambles to Reassure Jittery Stock Traders</td>\n",
       "    </tr>\n",
       "    <tr>\n",
       "      <th>5710</th>\n",
       "      <td>0.0</td>\n",
       "      <td>Putin spokesman: Doping charges appear unfounded</td>\n",
       "      <td>The Latest on Severe Weather: 1 Dead in Texas ...</td>\n",
       "    </tr>\n",
       "  </tbody>\n",
       "</table>\n",
       "</div>"
      ],
      "text/plain": [
       "      Similarity_score                                         Sentence_1  \\\n",
       "5706               0.0         Severe Gales As Storm Clodagh Hits Britain   \n",
       "5707               0.0  Dozens of Egyptians hostages taken by Libyan t...   \n",
       "5708               0.0                       President heading to Bahrain   \n",
       "5709               0.0         China, India vow to further bilateral ties   \n",
       "5710               0.0   Putin spokesman: Doping charges appear unfounded   \n",
       "\n",
       "                                             Sentence_2  \n",
       "5706         Merkel pledges NATO solidarity with Latvia  \n",
       "5707  Egyptian boat crash death toll rises as more b...  \n",
       "5708  President Xi: China to continue help to fight ...  \n",
       "5709  China Scrambles to Reassure Jittery Stock Traders  \n",
       "5710  The Latest on Severe Weather: 1 Dead in Texas ...  "
      ]
     },
     "execution_count": 28,
     "metadata": {},
     "output_type": "execute_result"
    }
   ],
   "source": [
    "# Ignore this part, this is for testing\n",
    "sentence_train.tail()"
   ]
  },
  {
   "cell_type": "code",
   "execution_count": 29,
   "metadata": {},
   "outputs": [
    {
     "name": "stdout",
     "output_type": "stream",
     "text": [
      "sentence1 = Some men are fighting.\n",
      "sentence2 = Two men are fighting.\n",
      "\n",
      "\n",
      "sentence3 = A man is riding a mechanical bull.\n",
      "sentence4 = A man rode a mechanical bull.\n"
     ]
    }
   ],
   "source": [
    "# Compare two sentence with BERT and traing dataset\n",
    "sen1 = sentence_train.loc[5][1]\n",
    "sen2 = sentence_train.loc[5][2]\n",
    "sen3 = sentence_train.loc[30][1]\n",
    "sen4 = sentence_train.loc[30][2]\n",
    "\n",
    "print(f'sentence1 = {sen1}')\n",
    "print(f'sentence2 = {sen2}')\n",
    "print('\\n')\n",
    "print(f'sentence3 = {sen3}')\n",
    "print(f'sentence4 = {sen4}')"
   ]
  },
  {
   "cell_type": "code",
   "execution_count": 30,
   "metadata": {},
   "outputs": [
    {
     "name": "stdout",
     "output_type": "stream",
     "text": [
      "sentence1 vs sentence2 = 0.013049066066741943\n",
      "Human score = 5.0\n",
      "SentenceBERT Score = 4.9\n",
      "sentence3 vs sentence4 = 0.02745002508163452\n",
      "Human score = 1.0\n",
      "SentenceBERT Score = 4.9\n",
      "sentence1 vs sentence3 = 0.42566025257110596\n",
      "sentence1 vs sentence4 = 0.4607546329498291\n"
     ]
    }
   ],
   "source": [
    "# implement BERT embedding model to compare them\n",
    "sen1_embedding = model.encode(sen1)\n",
    "sen2_embedding = model.encode(sen2)\n",
    "sen3_embedding = model.encode(sen3)\n",
    "sen4_embedding = model.encode(sen4)\n",
    "\n",
    "print(f'sentence1 vs sentence2 = {distance.cosine(sen1_embedding,sen2_embedding)}')\n",
    "print(f'Human score = {sentence_train.loc[0][0]}')\n",
    "print(f'SentenceBERT Score = {round((1 - distance.cosine(sen1_embedding,sen2_embedding)) * 5, 1)}')\n",
    "\n",
    "print(f'sentence3 vs sentence4 = {distance.cosine(sen3_embedding,sen4_embedding)}')\n",
    "print(f'Human score = {sentence_train.loc[45][0]}')\n",
    "print(f'SentenceBERT Score = {round((1 - distance.cosine(sen3_embedding,sen4_embedding)) * 5,1)}')\n",
    "\n",
    "print(f'sentence1 vs sentence3 = {distance.cosine(sen1_embedding,sen3_embedding)}')\n",
    "print(f'sentence1 vs sentence4 = {distance.cosine(sen1_embedding,sen4_embedding)}')"
   ]
  },
  {
   "cell_type": "code",
   "execution_count": 31,
   "metadata": {},
   "outputs": [],
   "source": [
    "# Compare two sentence with BERT and dev dataset\n",
    "sentence_dev = pd.pandas.read_table(\n",
    "    '/Users/dz/Desktop/MSCourses/CMPE255DataMining/Project/datasets/sts-train.csv', error_bad_lines=False, skip_blank_lines=True,\n",
    "    usecols=[4, 5, 6],\n",
    "    names=[\"Similarity_score\", \"Sentence_1\", \"Sentence_2\"])\n",
    "\n",
    "# removes punctuation from sentences\n",
    "tokenizer = nltk.RegexpTokenizer(r\"\\w+\")"
   ]
  },
  {
   "cell_type": "code",
   "execution_count": 32,
   "metadata": {},
   "outputs": [],
   "source": [
    "# convert data to string\n",
    "sentence_dev['Sentence_1'] = sentence_dev['Sentence_1'].astype(str)\n",
    "sentence_dev['Sentence_2'] = sentence_dev['Sentence_2'].astype(str)\n",
    "\n",
    "sentence_dev['Sentence_1'] = sentence_dev.apply(lambda row: tokenizer.tokenize(row['Sentence_1']), axis=1)\n",
    "sentence_dev['Sentence_1'] = sentence_dev.apply(lambda row: ' '.join(row['Sentence_1']).lower() , axis=1)\n",
    "\n",
    "sentence_dev['Sentence_2'] = sentence_dev.apply(lambda row: tokenizer.tokenize(row['Sentence_2']), axis=1)\n",
    "sentence_dev['Sentence_2'] = sentence_dev.apply(lambda row: ' '.join(row['Sentence_2']).lower() , axis=1)"
   ]
  },
  {
   "cell_type": "code",
   "execution_count": 33,
   "metadata": {},
   "outputs": [
    {
     "data": {
      "text/html": [
       "<div>\n",
       "<style scoped>\n",
       "    .dataframe tbody tr th:only-of-type {\n",
       "        vertical-align: middle;\n",
       "    }\n",
       "\n",
       "    .dataframe tbody tr th {\n",
       "        vertical-align: top;\n",
       "    }\n",
       "\n",
       "    .dataframe thead th {\n",
       "        text-align: right;\n",
       "    }\n",
       "</style>\n",
       "<table border=\"1\" class=\"dataframe\">\n",
       "  <thead>\n",
       "    <tr style=\"text-align: right;\">\n",
       "      <th></th>\n",
       "      <th>Similarity_score</th>\n",
       "      <th>Sentence_1</th>\n",
       "      <th>Sentence_2</th>\n",
       "    </tr>\n",
       "  </thead>\n",
       "  <tbody>\n",
       "    <tr>\n",
       "      <th>0</th>\n",
       "      <td>5.00</td>\n",
       "      <td>a plane is taking off</td>\n",
       "      <td>an air plane is taking off</td>\n",
       "    </tr>\n",
       "    <tr>\n",
       "      <th>1</th>\n",
       "      <td>3.80</td>\n",
       "      <td>a man is playing a large flute</td>\n",
       "      <td>a man is playing a flute</td>\n",
       "    </tr>\n",
       "    <tr>\n",
       "      <th>2</th>\n",
       "      <td>3.80</td>\n",
       "      <td>a man is spreading shreded cheese on a pizza</td>\n",
       "      <td>a man is spreading shredded cheese on an uncoo...</td>\n",
       "    </tr>\n",
       "    <tr>\n",
       "      <th>3</th>\n",
       "      <td>2.60</td>\n",
       "      <td>three men are playing chess</td>\n",
       "      <td>two men are playing chess</td>\n",
       "    </tr>\n",
       "    <tr>\n",
       "      <th>4</th>\n",
       "      <td>4.25</td>\n",
       "      <td>a man is playing the cello</td>\n",
       "      <td>a man seated is playing the cello</td>\n",
       "    </tr>\n",
       "  </tbody>\n",
       "</table>\n",
       "</div>"
      ],
      "text/plain": [
       "   Similarity_score                                    Sentence_1  \\\n",
       "0              5.00                         a plane is taking off   \n",
       "1              3.80                a man is playing a large flute   \n",
       "2              3.80  a man is spreading shreded cheese on a pizza   \n",
       "3              2.60                   three men are playing chess   \n",
       "4              4.25                    a man is playing the cello   \n",
       "\n",
       "                                          Sentence_2  \n",
       "0                         an air plane is taking off  \n",
       "1                           a man is playing a flute  \n",
       "2  a man is spreading shredded cheese on an uncoo...  \n",
       "3                          two men are playing chess  \n",
       "4                  a man seated is playing the cello  "
      ]
     },
     "execution_count": 33,
     "metadata": {},
     "output_type": "execute_result"
    }
   ],
   "source": [
    "sentence_dev.head()"
   ]
  },
  {
   "cell_type": "code",
   "execution_count": 34,
   "metadata": {},
   "outputs": [],
   "source": [
    "# Normalize the Similarity_score in dev dataset\n",
    "dev_similarity_scores = sentence_dev['Similarity_score'].tolist()\n",
    "\n",
    "score_human = []\n",
    "\n",
    "for row in dev_similarity_scores:\n",
    "    score = row / 5\n",
    "    score_human.append(score)"
   ]
  },
  {
   "cell_type": "code",
   "execution_count": 35,
   "metadata": {},
   "outputs": [],
   "source": [
    "score_machine = []\n",
    "\n",
    "for row in sentence_dev.itertuples(index = False):\n",
    "    sen1_embedding = model.encode(str(row[1]))\n",
    "    sen2_embedding = model.encode(str(row[2]))\n",
    "    score = (1 - distance.cosine(sen1_embedding,sen2_embedding))\n",
    "    score_machine.append(score)\n"
   ]
  },
  {
   "cell_type": "code",
   "execution_count": 36,
   "metadata": {},
   "outputs": [
    {
     "name": "stdout",
     "output_type": "stream",
     "text": [
      "Pearsonr: 77.1\n"
     ]
    }
   ],
   "source": [
    "# using pearsonr to compare score\n",
    "from scipy.stats import pearsonr\n",
    "\n",
    "result, _ = pearsonr(score_machine, score_human)\n",
    "print('Pearsonr:', end=' ')\n",
    "print(\"%.1f\" % (result*100))\n"
   ]
  }
 ],
 "metadata": {
  "kernelspec": {
   "display_name": "Python 3",
   "language": "python",
   "name": "python3"
  },
  "language_info": {
   "codemirror_mode": {
    "name": "ipython",
    "version": 3
   },
   "file_extension": ".py",
   "mimetype": "text/x-python",
   "name": "python",
   "nbconvert_exporter": "python",
   "pygments_lexer": "ipython3",
   "version": "3.8.3"
  }
 },
 "nbformat": 4,
 "nbformat_minor": 4
}
