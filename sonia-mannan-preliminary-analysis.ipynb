{
 "cells": [
  {
   "cell_type": "code",
   "execution_count": 1,
   "metadata": {
    "collapsed": false
   },
   "outputs": [],
   "source": [
    "import matplotlib.pyplot as plt\n",
    "import numpy as np\n",
    "import nltk\n",
    "import os\n",
    "import pandas as pd\n",
    "\n",
    "from collections import Counter\n",
    "from nltk.corpus import stopwords"
   ]
  },
  {
   "cell_type": "code",
   "execution_count": 2,
   "metadata": {
    "collapsed": false
   },
   "outputs": [],
   "source": [
    "TRAIN_DATA = '/datasets/sts-train.csv'\n",
    "TEST_DATA = '/datasets/sts-test.csv'\n",
    "CWD = os.getcwd()"
   ]
  },
  {
   "cell_type": "code",
   "execution_count": 3,
   "metadata": {
    "collapsed": false,
    "scrolled": true
   },
   "outputs": [],
   "source": [
    "def create_dataframe(data_dir=TRAIN_DATA):\n",
    "    sentences = {'similarity': [], 'S1': [], 'S2': []}\n",
    "\n",
    "    for line in open('{0}/{1}'.format(CWD, data_dir), 'r'):\n",
    "        line = line.split('\\t')\n",
    "\n",
    "        if len(line) == 7:\n",
    "            sentences['similarity'].append(float(line[-3]))\n",
    "            sentences['S1'].append(line[-2])\n",
    "            sentences['S2'].append(line[-1])\n",
    "        else:\n",
    "            sentences['similarity'].append(float(line[-5]))\n",
    "            sentences['S1'].append(line[-4])\n",
    "            sentences['S2'].append(line[-3])\n",
    "    \n",
    "    df = pd.DataFrame.from_dict(sentences)\n",
    "    print ('num rows in df {0}\\n'.format(len(df)))\n",
    "    print (df.head())\n",
    "    \n",
    "    return df"
   ]
  },
  {
   "cell_type": "markdown",
   "metadata": {},
   "source": [
    "### There are 5,749 training sentence pairs and 1,379 testing sentence pairs\n",
    "### This comes out to an 80% train / test split"
   ]
  },
  {
   "cell_type": "code",
   "execution_count": 4,
   "metadata": {
    "collapsed": false,
    "scrolled": false
   },
   "outputs": [
    {
     "name": "stdout",
     "output_type": "stream",
     "text": [
      "num rows in df 5749\n",
      "\n",
      "   similarity                                             S1  \\\n",
      "0        5.00                         A plane is taking off.   \n",
      "1        3.80                A man is playing a large flute.   \n",
      "2        3.80  A man is spreading shreded cheese on a pizza.   \n",
      "3        2.60                   Three men are playing chess.   \n",
      "4        4.25                    A man is playing the cello.   \n",
      "\n",
      "                                                  S2  \n",
      "0                      An air plane is taking off.\\n  \n",
      "1                        A man is playing a flute.\\n  \n",
      "2  A man is spreading shredded cheese on an uncoo...  \n",
      "3                       Two men are playing chess.\\n  \n",
      "4               A man seated is playing the cello.\\n  \n",
      "num rows in df 1379\n",
      "\n",
      "   similarity                                             S1  \\\n",
      "0         2.5                    A girl is styling her hair.   \n",
      "1         3.6       A group of men play soccer on the beach.   \n",
      "2         5.0  One woman is measuring another woman's ankle.   \n",
      "3         4.2                A man is cutting up a cucumber.   \n",
      "4         1.5                       A man is playing a harp.   \n",
      "\n",
      "                                                  S2  \n",
      "0                     A girl is brushing her hair.\\n  \n",
      "1  A group of boys are playing soccer on the beac...  \n",
      "2          A woman measures another woman's ankle.\\n  \n",
      "3                     A man is slicing a cucumber.\\n  \n",
      "4                     A man is playing a keyboard.\\n  \n"
     ]
    }
   ],
   "source": [
    "train_df = create_dataframe()\n",
    "test_df = create_dataframe(TEST_DATA)"
   ]
  },
  {
   "cell_type": "code",
   "execution_count": 5,
   "metadata": {
    "collapsed": false
   },
   "outputs": [
    {
     "name": "stdout",
     "output_type": "stream",
     "text": [
      "test to train ratio = 0.19346240179573512\n"
     ]
    }
   ],
   "source": [
    "print ('test to train ratio = {0}'.format(len(test_df) / (len(train_df) + len(test_df))))"
   ]
  },
  {
   "cell_type": "markdown",
   "metadata": {},
   "source": [
    "## Evaluate balance of similarity scores\n",
    "\n",
    "#### The average similarity score in train = 2.7 and test = 2.6\n",
    "#### Scores are manually assigned to sentence pairs by readers from 0-5 with 5 being most similar\n",
    "#### This means most sentence pairs are \"somewhat alike\"\n",
    "#### Similarity scores in train are about evenly distributed with slightly more 3's and 4's\n",
    "#### Similarity scores in test are evenly distributed between 0-5"
   ]
  },
  {
   "cell_type": "code",
   "execution_count": 6,
   "metadata": {
    "collapsed": true
   },
   "outputs": [],
   "source": [
    "def plot_similarity_score_histogram(scores):\n",
    "    # the histogram of the data\n",
    "    n, bins, patches = plt.hist(scores, 15, density=True, facecolor='g', alpha=0.75)\n",
    "\n",
    "\n",
    "    plt.xlabel('Scores')\n",
    "    plt.ylabel('Frequency')\n",
    "    plt.title('Histogram of Similarity Scores')\n",
    "    #plt.text(60, .025, r'$\\mu=100,\\ \\sigma=15$')\n",
    "    plt.xlim(0, max(scores))\n",
    "    #plt.ylim(0, 0.03)\n",
    "    plt.grid(True)\n",
    "    plt.show()\n"
   ]
  },
  {
   "cell_type": "code",
   "execution_count": 7,
   "metadata": {
    "collapsed": false
   },
   "outputs": [
    {
     "data": {
      "image/png": "[encoded data removed]",
      "text/plain": [
       "<Figure size 432x288 with 1 Axes>"
      ]
     },
     "metadata": {
      "needs_background": "light"
     },
     "output_type": "display_data"
    }
   ],
   "source": [
    "plot_similarity_score_histogram(train_df['similarity'])"
   ]
  },
  {
   "cell_type": "code",
   "execution_count": 8,
   "metadata": {
    "collapsed": false
   },
   "outputs": [
    {
     "data": {
      "image/png": "[encoded data removed]",
      "text/plain": [
       "<Figure size 432x288 with 1 Axes>"
      ]
     },
     "metadata": {
      "needs_background": "light"
     },
     "output_type": "display_data"
    }
   ],
   "source": [
    "plot_similarity_score_histogram(test_df['similarity'])"
   ]
  },
  {
   "cell_type": "code",
   "execution_count": 9,
   "metadata": {
    "collapsed": false
   },
   "outputs": [
    {
     "data": {
      "text/plain": [
       "count    5749.000000\n",
       "mean        2.700999\n",
       "std         1.464398\n",
       "min         0.000000\n",
       "25%         1.500000\n",
       "50%         3.000000\n",
       "75%         3.800000\n",
       "max         5.000000\n",
       "Name: similarity, dtype: float64"
      ]
     },
     "execution_count": 9,
     "metadata": {},
     "output_type": "execute_result"
    }
   ],
   "source": [
    "train_df['similarity'].describe()"
   ]
  },
  {
   "cell_type": "code",
   "execution_count": 10,
   "metadata": {
    "collapsed": false
   },
   "outputs": [
    {
     "data": {
      "text/plain": [
       "count    1379.000000\n",
       "mean        2.607917\n",
       "std         1.525517\n",
       "min         0.000000\n",
       "25%         1.315000\n",
       "50%         2.800000\n",
       "75%         3.800000\n",
       "max         5.000000\n",
       "Name: similarity, dtype: float64"
      ]
     },
     "execution_count": 10,
     "metadata": {},
     "output_type": "execute_result"
    }
   ],
   "source": [
    "test_df['similarity'].describe()"
   ]
  },
  {
   "cell_type": "code",
   "execution_count": 11,
   "metadata": {
    "collapsed": false
   },
   "outputs": [],
   "source": [
    "def show_value_counts(scores):\n",
    "    scores = [int(score) for score in scores]\n",
    "    value_counts = dict(Counter(scores))\n",
    "    \n",
    "    score_buckets = []\n",
    "    score_values = []\n",
    "    \n",
    "    for i in range(max(scores)):\n",
    "        print ('Count @ {0} = {1}'.format(i, value_counts[i]))\n",
    "        score_buckets.append(i)\n",
    "        score_values.append(value_counts[i])\n",
    "        \n",
    "    plt.style.use('ggplot')\n",
    "    x_pos = [i for i, _ in enumerate(score_buckets)]\n",
    "\n",
    "    plt.bar(x_pos, score_values, color='green')\n",
    "    plt.xlabel(\"Similarity Score\")\n",
    "    plt.ylabel(\"Score Frequency\")\n",
    "    plt.title(\"Sentence Pair Similarity Score Distribution\")\n",
    "\n",
    "    plt.xticks(x_pos, score_buckets)\n",
    "\n",
    "    plt.show()"
   ]
  },
  {
   "cell_type": "code",
   "execution_count": 12,
   "metadata": {
    "collapsed": false
   },
   "outputs": [
    {
     "name": "stdout",
     "output_type": "stream",
     "text": [
      "Count @ 0 = 891\n",
      "Count @ 1 = 882\n",
      "Count @ 2 = 982\n",
      "Count @ 3 = 1588\n",
      "Count @ 4 = 1140\n"
     ]
    },
    {
     "data": {
      "image/png": "[encoded data removed]",
      "text/plain": [
       "<Figure size 432x288 with 1 Axes>"
      ]
     },
     "metadata": {},
     "output_type": "display_data"
    }
   ],
   "source": [
    "show_value_counts(train_df['similarity'])"
   ]
  },
  {
   "cell_type": "code",
   "execution_count": 13,
   "metadata": {
    "collapsed": false
   },
   "outputs": [
    {
     "name": "stdout",
     "output_type": "stream",
     "text": [
      "Count @ 0 = 243\n",
      "Count @ 1 = 198\n",
      "Count @ 2 = 265\n",
      "Count @ 3 = 335\n",
      "Count @ 4 = 241\n"
     ]
    },
    {
     "data": {
      "image/png": "[encoded data removed]",
      "text/plain": [
       "<Figure size 432x288 with 1 Axes>"
      ]
     },
     "metadata": {},
     "output_type": "display_data"
    }
   ],
   "source": [
    "show_value_counts(test_df['similarity'])"
   ]
  },
  {
   "cell_type": "markdown",
   "metadata": {},
   "source": [
    "## Evaluate the most common words\n",
    "\n",
    "1. Total words in training is 114,346\n",
    "2. Unique words are only 18,348\n",
    "3. 16,346 unique words when accounting for case\n",
    "4. 16,315 unique words after removing stop words\n",
    "5. Top 5 words after filtering were man, woman, two, dog, playing"
   ]
  },
  {
   "cell_type": "code",
   "execution_count": 14,
   "metadata": {
    "collapsed": false
   },
   "outputs": [],
   "source": [
    "def get_all_words_from_df(df):\n",
    "    all_words = []\n",
    "    for sentence in df['S1']:\n",
    "        for word in sentence.split():\n",
    "            all_words.append(word)\n",
    "\n",
    "    for sentence in df['S2']:\n",
    "        for word in sentence.split():\n",
    "            all_words.append(word)\n",
    "            \n",
    "    print ('total number of words in training set {0}'.format(len(all_words)))\n",
    "    print ('unique number of words in training set {0}'.format(len(set(all_words))))\n",
    "\n",
    "    return all_words"
   ]
  },
  {
   "cell_type": "code",
   "execution_count": 15,
   "metadata": {
    "collapsed": false
   },
   "outputs": [
    {
     "name": "stdout",
     "output_type": "stream",
     "text": [
      "total number of words in training set 114346\n",
      "unique number of words in training set 18348\n"
     ]
    }
   ],
   "source": [
    "all_words = get_all_words_from_df(train_df)"
   ]
  },
  {
   "cell_type": "code",
   "execution_count": 16,
   "metadata": {
    "collapsed": true
   },
   "outputs": [],
   "source": [
    "def get_word_counts(all_words):\n",
    "    word_freqs = dict(Counter(all_words))\n",
    "    sorted_word_freqs = {k: v for k, v in sorted(word_freqs.items(), key=lambda item: -item[1])}\n",
    "    return sorted_word_freqs"
   ]
  },
  {
   "cell_type": "code",
   "execution_count": 17,
   "metadata": {
    "collapsed": false
   },
   "outputs": [],
   "source": [
    "sorted_word_freqs = get_word_counts(all_words)"
   ]
  },
  {
   "cell_type": "markdown",
   "metadata": {},
   "source": [
    "### Most common words are a, the, is, etc..."
   ]
  },
  {
   "cell_type": "code",
   "execution_count": 18,
   "metadata": {
    "collapsed": true
   },
   "outputs": [],
   "source": [
    "def graph_most_common_word_freqs(sorted_word_freqs, n=10):\n",
    "    top_n_words = {k: sorted_word_freqs[k] for k in list(sorted_word_freqs)[:n]}\n",
    "    buckets = top_n_words.keys()\n",
    "    values = top_n_words.values()\n",
    "\n",
    "    plt.style.use('ggplot')\n",
    "\n",
    "    plt.bar(buckets, values, color='green')\n",
    "    plt.xlabel(\"Word\")\n",
    "    plt.ylabel(\"Word Frequency\")\n",
    "    plt.title(\"Top {0} Word Frequency\".format(n))"
   ]
  },
  {
   "cell_type": "code",
   "execution_count": 19,
   "metadata": {
    "collapsed": false
   },
   "outputs": [
    {
     "data": {
      "image/png": "[encoded data removed]",
      "text/plain": [
       "<Figure size 432x288 with 1 Axes>"
      ]
     },
     "metadata": {},
     "output_type": "display_data"
    }
   ],
   "source": [
    "graph_most_common_word_freqs(sorted_word_freqs)"
   ]
  },
  {
   "cell_type": "code",
   "execution_count": 20,
   "metadata": {
    "collapsed": true
   },
   "outputs": [],
   "source": [
    "def filter_words(all_words):\n",
    "    print ('size of all words {0}'.format(len(set(all_words))))\n",
    "    stop_words = set(stopwords.words('english'))\n",
    "    \n",
    "    filtered_words = []\n",
    "    \n",
    "    for word in all_words:\n",
    "        word = word.lower()\n",
    "        if word not in stop_words:\n",
    "            filtered_words.append(word)\n",
    "    \n",
    "    print ('size after filtering {0}'.format(len(set(filtered_words))))\n",
    "    print (filtered_words[:10])\n",
    "    \n",
    "    return filtered_words"
   ]
  },
  {
   "cell_type": "code",
   "execution_count": 21,
   "metadata": {
    "collapsed": false
   },
   "outputs": [
    {
     "name": "stdout",
     "output_type": "stream",
     "text": [
      "size of all words 18348\n",
      "size after filtering 16315\n",
      "['plane', 'taking', 'off.', 'man', 'playing', 'large', 'flute.', 'man', 'spreading', 'shreded']\n"
     ]
    }
   ],
   "source": [
    "filtered_words = filter_words(all_words)"
   ]
  },
  {
   "cell_type": "markdown",
   "metadata": {},
   "source": [
    "### Most common words after filtering are man, woman, two, dog, playing"
   ]
  },
  {
   "cell_type": "code",
   "execution_count": 22,
   "metadata": {
    "collapsed": false
   },
   "outputs": [
    {
     "data": {
      "image/png": "[encoded data removed]",
      "text/plain": [
       "<Figure size 432x288 with 1 Axes>"
      ]
     },
     "metadata": {},
     "output_type": "display_data"
    }
   ],
   "source": [
    "sorted_word_freqs = get_word_counts(filtered_words)\n",
    "graph_most_common_word_freqs(sorted_word_freqs)"
   ]
  },
  {
   "cell_type": "markdown",
   "metadata": {},
   "source": [
    "### Evaluate Word and Sentence Length\n",
    "\n",
    "1. Average word length = 7.075145571559914\n",
    "2. Min word length = 1\n",
    "3. Max word length = 48\n",
    "4. 90th percentile word length 10.0\n",
    "\n",
    "\n",
    "1. Average sentence length = 59.31973478220831\n",
    "2. Min sentence length = 16\n",
    "3. Max sentence length = 368\n",
    "4. 90th percentile sentence length 111.0"
   ]
  },
  {
   "cell_type": "code",
   "execution_count": 27,
   "metadata": {
    "collapsed": true
   },
   "outputs": [],
   "source": [
    "def graph_word_lengths(sorted_word_lens, metric, n=10):\n",
    "    top_n_words = {k: sorted_word_lens[k] for k in list(sorted_word_lens)[:10]}\n",
    "    buckets = [k[:4] for k in top_n_words.keys()]\n",
    "    values = top_n_words.values()\n",
    "\n",
    "    plt.style.use('ggplot')\n",
    "\n",
    "    plt.bar(buckets, values, color='green')\n",
    "    plt.xlabel(\"{0}\".format(metric))\n",
    "    plt.ylabel(\"{0} Length\".format(metric))\n",
    "    plt.title(\"Top {0} Longest {1}s\".format(n, metric))"
   ]
  },
  {
   "cell_type": "code",
   "execution_count": 24,
   "metadata": {
    "collapsed": true
   },
   "outputs": [],
   "source": [
    "def analyze_text_length(text, metric):\n",
    "    print('\\nAverage {0} length = {1}'.format(metric, np.mean(list(text.values()))))\n",
    "    print('Min {0} length = {1}'.format(metric, min(list(text.values()))))\n",
    "    print('Max {0} length = {1}'.format(metric, max(list(text.values()))))\n",
    "    print ('90th percentile {0} length {1}'.format(metric, np.percentile(list(text.values()), 90)))\n",
    "\n",
    "    sorted_word_lens = {k: v for k, v in sorted(text.items(), key=lambda item: -item[1])}\n",
    "    graph_word_lengths(sorted_word_lens, metric)"
   ]
  },
  {
   "cell_type": "code",
   "execution_count": 25,
   "metadata": {
    "collapsed": false
   },
   "outputs": [
    {
     "name": "stdout",
     "output_type": "stream",
     "text": [
      "total number of words in training set 114346\n",
      "unique number of words in training set 18348\n",
      "size of all words 18348\n",
      "size after filtering 16315\n",
      "['plane', 'taking', 'off.', 'man', 'playing', 'large', 'flute.', 'man', 'spreading', 'shreded']\n",
      "\n",
      "Average word length = 7.075145571559914\n",
      "Min word length = 1\n",
      "Max word length = 48\n",
      "90th percentile word length 10.0\n"
     ]
    },
    {
     "data": {
      "image/png": "[encoded data removed]",
      "text/plain": [
       "<Figure size 432x288 with 1 Axes>"
      ]
     },
     "metadata": {},
     "output_type": "display_data"
    }
   ],
   "source": [
    "all_words = get_all_words_from_df(train_df)\n",
    "filtered_words = set(filter_words(all_words))\n",
    "\n",
    "word_lengths = {}\n",
    "for word in filtered_words:\n",
    "    word_lengths[word] = len(word)\n",
    "\n",
    "analyze_text_length(word_lengths, 'word')"
   ]
  },
  {
   "cell_type": "code",
   "execution_count": 28,
   "metadata": {
    "collapsed": false
   },
   "outputs": [
    {
     "name": "stdout",
     "output_type": "stream",
     "text": [
      "\n",
      "Average sentence length = 10.105074132056359\n",
      "Min sentence length = 2\n",
      "Max sentence length = 56\n",
      "90th percentile sentence length 18.0\n"
     ]
    },
    {
     "data": {
      "image/png": "[encoded data removed]",
      "text/plain": [
       "<Figure size 432x288 with 1 Axes>"
      ]
     },
     "metadata": {},
     "output_type": "display_data"
    }
   ],
   "source": [
    "sent_lengths = {}\n",
    "sentences = list(train_df['S1']) + list(train_df['S2'])\n",
    "for sentence in sentences:\n",
    "    sent_lengths[sentence] = len(sentence.split())\n",
    "\n",
    "analyze_text_length(sent_lengths, 'sentence')"
   ]
  },
  {
   "cell_type": "code",
   "execution_count": null,
   "metadata": {
    "collapsed": true
   },
   "outputs": [],
   "source": []
  }
 ],
 "metadata": {
  "anaconda-cloud": {},
  "kernelspec": {
   "display_name": "Python 3",
   "language": "python",
   "name": "python3"
  },
  "language_info": {
   "codemirror_mode": {
    "name": "ipython",
    "version": 3
   },
   "file_extension": ".py",
   "mimetype": "text/x-python",
   "name": "python",
   "nbconvert_exporter": "python",
   "pygments_lexer": "ipython3",
   "version": "3.7.6"
  }
 },
 "nbformat": 4,
 "nbformat_minor": 1
}
