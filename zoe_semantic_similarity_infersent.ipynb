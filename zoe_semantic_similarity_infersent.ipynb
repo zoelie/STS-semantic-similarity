{
  "nbformat": 4,
  "nbformat_minor": 0,
  "metadata": {
    "colab": {
      "name": "zoe-semantic-similarity-infersent.ipynb",
      "provenance": [],
      "collapsed_sections": []
    },
    "kernelspec": {
      "name": "python3",
      "display_name": "Python 3"
    },
    "accelerator": "GPU"
  },
  "cells": [
    {
      "cell_type": "markdown",
      "metadata": {
        "id": "iGuzoflNhX52"
      },
      "source": [
        "# Semantic Similarity Analysis - Zoe (InferSent)"
      ]
    },
    {
      "cell_type": "markdown",
      "metadata": {
        "id": "3VnGlhDyhg9a"
      },
      "source": [
        "## Import libraries"
      ]
    },
    {
      "cell_type": "code",
      "metadata": {
        "id": "e4UhMOPfKAZ5"
      },
      "source": [
        "import numpy as np\r\n",
        "import pandas as pd\r\n",
        "import csv\r\n",
        "from random import randint\r\n",
        "\r\n",
        "from scipy.spatial import distance"
      ],
      "execution_count": 37,
      "outputs": []
    },
    {
      "cell_type": "markdown",
      "metadata": {
        "id": "jC69YsjHhcP4"
      },
      "source": [
        "## Download InferSent2 model and fastText embeddings"
      ]
    },
    {
      "cell_type": "code",
      "metadata": {
        "colab": {
          "base_uri": "https://localhost:8080/"
        },
        "id": "IGpu5Fx7DcPa",
        "outputId": "f4d5585f-6ba8-4d21-c1ed-fbcc8af994b7"
      },
      "source": [
        "! mkdir encoder\r\n",
        "! curl -Lo encoder/infersent2.pkl https://dl.fbaipublicfiles.com/infersent/infersent2.pkl\r\n",
        "  \r\n",
        "# ! mkdir GloVe\r\n",
        "# ! curl -Lo GloVe/glove.840B.300d.zip http://nlp.stanford.edu/data/glove.840B.300d.zip\r\n",
        "# ! unzip GloVe/glove.840B.300d.zip -d GloVe/\r\n",
        "\r\n",
        "! mkdir fastText\r\n",
        "! curl -Lo fastText/crawl-300d-2M.vec.zip https://dl.fbaipublicfiles.com/fasttext/vectors-english/crawl-300d-2M.vec.zip\r\n",
        "! unzip fastText/crawl-300d-2M.vec.zip -d fastText/"
      ],
      "execution_count": 18,
      "outputs": [
        {
          "output_type": "stream",
          "text": [
            "mkdir: cannot create directory ‘encoder’: File exists\n",
            "  % Total    % Received % Xferd  Average Speed   Time    Time     Time  Current\n",
            "                                 Dload  Upload   Total   Spent    Left  Speed\n",
            "100  146M  100  146M    0     0  15.7M      0  0:00:09  0:00:09 --:--:-- 16.0M\n",
            "  % Total    % Received % Xferd  Average Speed   Time    Time     Time  Current\n",
            "                                 Dload  Upload   Total   Spent    Left  Speed\n",
            "100 1453M  100 1453M    0     0  23.2M      0  0:01:02  0:01:02 --:--:-- 23.3M\n",
            "Archive:  fastText/crawl-300d-2M.vec.zip\n",
            "  inflating: fastText/crawl-300d-2M.vec  \n"
          ],
          "name": "stdout"
        }
      ]
    },
    {
      "cell_type": "markdown",
      "metadata": {
        "id": "-P8L1pz6hj8A"
      },
      "source": [
        "## Set up file paths"
      ]
    },
    {
      "cell_type": "code",
      "metadata": {
        "id": "qCQdktwCPyOI"
      },
      "source": [
        "cur_dir = 'drive/My Drive/Colab Notebooks/2 Fall 2020/CMPE 255/Project/'\r\n",
        "path_train = cur_dir + 'sts-train.csv'\r\n",
        "path_test = cur_dir + 'sts-test.csv'"
      ],
      "execution_count": 19,
      "outputs": []
    },
    {
      "cell_type": "markdown",
      "metadata": {
        "id": "8AIK0yBJhm_a"
      },
      "source": [
        "## Read the training data"
      ]
    },
    {
      "cell_type": "code",
      "metadata": {
        "colab": {
          "base_uri": "https://localhost:8080/",
          "height": 404
        },
        "id": "z-6TTmzwP4d4",
        "outputId": "01391105-f66b-41a0-f765-414be45099f0"
      },
      "source": [
        "train_df = pd.read_table(\r\n",
        "    path_train,\r\n",
        "    error_bad_lines=False,\r\n",
        "    skip_blank_lines=True,\r\n",
        "    quoting=csv.QUOTE_NONE,\r\n",
        "    usecols=[4, 5, 6],\r\n",
        "    names=[\"similarity\", \"s1\", \"s2\"])\r\n",
        "\r\n",
        "train_df"
      ],
      "execution_count": 28,
      "outputs": [
        {
          "output_type": "execute_result",
          "data": {
            "text/html": [
              "<div>\n",
              "<style scoped>\n",
              "    .dataframe tbody tr th:only-of-type {\n",
              "        vertical-align: middle;\n",
              "    }\n",
              "\n",
              "    .dataframe tbody tr th {\n",
              "        vertical-align: top;\n",
              "    }\n",
              "\n",
              "    .dataframe thead th {\n",
              "        text-align: right;\n",
              "    }\n",
              "</style>\n",
              "<table border=\"1\" class=\"dataframe\">\n",
              "  <thead>\n",
              "    <tr style=\"text-align: right;\">\n",
              "      <th></th>\n",
              "      <th>similarity</th>\n",
              "      <th>s1</th>\n",
              "      <th>s2</th>\n",
              "    </tr>\n",
              "  </thead>\n",
              "  <tbody>\n",
              "    <tr>\n",
              "      <th>0</th>\n",
              "      <td>5.00</td>\n",
              "      <td>A plane is taking off.</td>\n",
              "      <td>An air plane is taking off.</td>\n",
              "    </tr>\n",
              "    <tr>\n",
              "      <th>1</th>\n",
              "      <td>3.80</td>\n",
              "      <td>A man is playing a large flute.</td>\n",
              "      <td>A man is playing a flute.</td>\n",
              "    </tr>\n",
              "    <tr>\n",
              "      <th>2</th>\n",
              "      <td>3.80</td>\n",
              "      <td>A man is spreading shreded cheese on a pizza.</td>\n",
              "      <td>A man is spreading shredded cheese on an uncoo...</td>\n",
              "    </tr>\n",
              "    <tr>\n",
              "      <th>3</th>\n",
              "      <td>2.60</td>\n",
              "      <td>Three men are playing chess.</td>\n",
              "      <td>Two men are playing chess.</td>\n",
              "    </tr>\n",
              "    <tr>\n",
              "      <th>4</th>\n",
              "      <td>4.25</td>\n",
              "      <td>A man is playing the cello.</td>\n",
              "      <td>A man seated is playing the cello.</td>\n",
              "    </tr>\n",
              "    <tr>\n",
              "      <th>...</th>\n",
              "      <td>...</td>\n",
              "      <td>...</td>\n",
              "      <td>...</td>\n",
              "    </tr>\n",
              "    <tr>\n",
              "      <th>5744</th>\n",
              "      <td>0.00</td>\n",
              "      <td>Severe Gales As Storm Clodagh Hits Britain</td>\n",
              "      <td>Merkel pledges NATO solidarity with Latvia</td>\n",
              "    </tr>\n",
              "    <tr>\n",
              "      <th>5745</th>\n",
              "      <td>0.00</td>\n",
              "      <td>Dozens of Egyptians hostages taken by Libyan t...</td>\n",
              "      <td>Egyptian boat crash death toll rises as more b...</td>\n",
              "    </tr>\n",
              "    <tr>\n",
              "      <th>5746</th>\n",
              "      <td>0.00</td>\n",
              "      <td>President heading to Bahrain</td>\n",
              "      <td>President Xi: China to continue help to fight ...</td>\n",
              "    </tr>\n",
              "    <tr>\n",
              "      <th>5747</th>\n",
              "      <td>0.00</td>\n",
              "      <td>China, India vow to further bilateral ties</td>\n",
              "      <td>China Scrambles to Reassure Jittery Stock Traders</td>\n",
              "    </tr>\n",
              "    <tr>\n",
              "      <th>5748</th>\n",
              "      <td>0.00</td>\n",
              "      <td>Putin spokesman: Doping charges appear unfounded</td>\n",
              "      <td>The Latest on Severe Weather: 1 Dead in Texas ...</td>\n",
              "    </tr>\n",
              "  </tbody>\n",
              "</table>\n",
              "<p>5749 rows × 3 columns</p>\n",
              "</div>"
            ],
            "text/plain": [
              "      similarity  ...                                                 s2\n",
              "0           5.00  ...                        An air plane is taking off.\n",
              "1           3.80  ...                          A man is playing a flute.\n",
              "2           3.80  ...  A man is spreading shredded cheese on an uncoo...\n",
              "3           2.60  ...                         Two men are playing chess.\n",
              "4           4.25  ...                 A man seated is playing the cello.\n",
              "...          ...  ...                                                ...\n",
              "5744        0.00  ...         Merkel pledges NATO solidarity with Latvia\n",
              "5745        0.00  ...  Egyptian boat crash death toll rises as more b...\n",
              "5746        0.00  ...  President Xi: China to continue help to fight ...\n",
              "5747        0.00  ...  China Scrambles to Reassure Jittery Stock Traders\n",
              "5748        0.00  ...  The Latest on Severe Weather: 1 Dead in Texas ...\n",
              "\n",
              "[5749 rows x 3 columns]"
            ]
          },
          "metadata": {
            "tags": []
          },
          "execution_count": 28
        }
      ]
    },
    {
      "cell_type": "markdown",
      "metadata": {
        "id": "dkmBYfXFhyeA"
      },
      "source": [
        "## Load InferSent model and word embeddings"
      ]
    },
    {
      "cell_type": "markdown",
      "metadata": {
        "id": "S_aTFnJRGdhj"
      },
      "source": [
        "Import extra libraries and NLTK tokenizer"
      ]
    },
    {
      "cell_type": "code",
      "metadata": {
        "colab": {
          "base_uri": "https://localhost:8080/"
        },
        "id": "Y1fff5pPGh2X",
        "outputId": "c986b632-4d9b-4fb3-8dd2-0ef14c1fae7b"
      },
      "source": [
        "from models import InferSent\r\n",
        "import torch\r\n",
        "\r\n",
        "import nltk\r\n",
        "nltk.download('punkt')"
      ],
      "execution_count": 21,
      "outputs": [
        {
          "output_type": "stream",
          "text": [
            "[nltk_data] Downloading package punkt to /root/nltk_data...\n",
            "[nltk_data]   Package punkt is already up-to-date!\n"
          ],
          "name": "stdout"
        },
        {
          "output_type": "execute_result",
          "data": {
            "text/plain": [
              "True"
            ]
          },
          "metadata": {
            "tags": []
          },
          "execution_count": 21
        }
      ]
    },
    {
      "cell_type": "markdown",
      "metadata": {
        "id": "N9UPMPPdL1WB"
      },
      "source": [
        "Load model and embeddings"
      ]
    },
    {
      "cell_type": "code",
      "metadata": {
        "id": "1qnk4_8aDomx"
      },
      "source": [
        "V = 2\r\n",
        "model_path = 'encoder/infersent%s.pkl' % V\r\n",
        "model_params = {'bsize': 64, 'word_emb_dim': 300, 'enc_lstm_dim': 2048,\r\n",
        "                'pool_type': 'max', 'dpout_model': 0.0, 'version': V}\r\n",
        "model = InferSent(model_params)\r\n",
        "model.load_state_dict(torch.load(model_path))\r\n",
        "\r\n",
        "# w2v_path = '/content/GloVe/glove.840B.300d.txt'\r\n",
        "# model.set_w2v_path(w2v_path)\r\n",
        "\r\n",
        "w2v_path = 'fastText/crawl-300d-2M.vec'\r\n",
        "model.set_w2v_path(w2v_path)"
      ],
      "execution_count": 23,
      "outputs": []
    },
    {
      "cell_type": "markdown",
      "metadata": {
        "id": "_SI1F5U1hvIb"
      },
      "source": [
        "## Create sentences list from the dataset for vocab"
      ]
    },
    {
      "cell_type": "code",
      "metadata": {
        "colab": {
          "base_uri": "https://localhost:8080/"
        },
        "id": "9zuiJpf-QA7Z",
        "outputId": "95dfbb9d-2774-49ed-d4e4-5ed69b1deb2c"
      },
      "source": [
        "sentences = []\r\n",
        "for row in train_df.iterrows():\r\n",
        "    sentences.append(row[1][1])\r\n",
        "    sentences.append(row[1][2])\r\n",
        "\r\n",
        "print(len(sentences))\r\n",
        "print(sentences[0])"
      ],
      "execution_count": 29,
      "outputs": [
        {
          "output_type": "stream",
          "text": [
            "11498\n",
            "A plane is taking off.\n"
          ],
          "name": "stdout"
        }
      ]
    },
    {
      "cell_type": "markdown",
      "metadata": {
        "id": "xUKEyj2GiAQA"
      },
      "source": [
        "## Build vocab for InferSent model from sentences list"
      ]
    },
    {
      "cell_type": "code",
      "metadata": {
        "colab": {
          "base_uri": "https://localhost:8080/"
        },
        "id": "4nrtUJQ_D-4O",
        "outputId": "840559d5-d611-4447-cfcf-f19282aa8073"
      },
      "source": [
        "model.build_vocab(sentences, tokenize=True)"
      ],
      "execution_count": 30,
      "outputs": [
        {
          "output_type": "stream",
          "text": [
            "Found 13746(/14417) words with w2v vectors\n",
            "Vocab size : 13746\n"
          ],
          "name": "stdout"
        }
      ]
    },
    {
      "cell_type": "markdown",
      "metadata": {
        "id": "hP1uPBclIL4a"
      },
      "source": [
        "## Encode sentences"
      ]
    },
    {
      "cell_type": "code",
      "metadata": {
        "colab": {
          "base_uri": "https://localhost:8080/"
        },
        "id": "zFtE8jKfIOK3",
        "outputId": "ce7e6b5f-bcff-4c85-b6fa-2dd8803b6f5a"
      },
      "source": [
        "embeddings = model.encode(sentences, bsize=128, tokenize=False, verbose=True)\r\n",
        "print('nb sentences encoded : {0}'.format(len(embeddings)))"
      ],
      "execution_count": 35,
      "outputs": [
        {
          "output_type": "stream",
          "text": [
            "Nb words kept : 123749/137342 (90.1%)\n",
            "Speed : 64.4 sentences/s (cpu mode, bsize=128)\n",
            "nb sentences encoded : 11498\n"
          ],
          "name": "stdout"
        }
      ]
    },
    {
      "cell_type": "markdown",
      "metadata": {
        "id": "8oG9JrOMIWsY"
      },
      "source": [
        "## Visualizations"
      ]
    },
    {
      "cell_type": "code",
      "metadata": {
        "colab": {
          "base_uri": "https://localhost:8080/",
          "height": 312
        },
        "id": "CHS1VfUFIYgm",
        "outputId": "242b0d3e-1f20-45bd-9f2a-42502cdc309f"
      },
      "source": [
        "idx = randint(0, len(sentences))\r\n",
        "_, _ = model.visualize(sentences[idx])"
      ],
      "execution_count": 38,
      "outputs": [
        {
          "output_type": "display_data",
          "data": {
            "image/png": "[encoded data removed]",
            "text/plain": [
              "<Figure size 432x288 with 1 Axes>"
            ]
          },
          "metadata": {
            "tags": [],
            "needs_background": "light"
          }
        }
      ]
    },
    {
      "cell_type": "code",
      "metadata": {
        "colab": {
          "base_uri": "https://localhost:8080/",
          "height": 305
        },
        "id": "_4DvCd32JknI",
        "outputId": "2559fd5c-2dd1-4595-f86c-ebfc047ed554"
      },
      "source": [
        "sample_sentence = 'The cat jumped over the fence'\r\n",
        "_, _ = model.visualize(sample_sentence)"
      ],
      "execution_count": 41,
      "outputs": [
        {
          "output_type": "display_data",
          "data": {
            "image/png": "[encoded data removed]",
            "text/plain": [
              "<Figure size 432x288 with 1 Axes>"
            ]
          },
          "metadata": {
            "tags": [],
            "needs_background": "light"
          }
        }
      ]
    },
    {
      "cell_type": "markdown",
      "metadata": {
        "id": "x0lpe0WtiLlQ"
      },
      "source": [
        "## Compare score from Infersent model vs. score from the dataset"
      ]
    },
    {
      "cell_type": "code",
      "metadata": {
        "colab": {
          "base_uri": "https://localhost:8080/"
        },
        "id": "ONmgPuMNRZUd",
        "outputId": "9937d2d1-3110-488c-d95e-92c472bcab38"
      },
      "source": [
        "index = 0\r\n",
        "s1 = train_df.loc[index][1]\r\n",
        "s2 = train_df.loc[index][2]\r\n",
        "e1 = model.encode([s1])[0]\r\n",
        "e2 = model.encode([s2])[0]\r\n",
        "print('1:', s1)\r\n",
        "print('2:', s2)\r\n",
        "print()\r\n",
        "\r\n",
        "print('cosine similarity for embeddings', round(distance.cosine(e1, e2), 6))\r\n",
        "print('similarity score from dataset', train_df.loc[index][0])\r\n",
        "print('similarity score from Infersent model', round((1 - distance.cosine(e1,e2))*5, 2))"
      ],
      "execution_count": 42,
      "outputs": [
        {
          "output_type": "stream",
          "text": [
            "1: A plane is taking off.\n",
            "2: An air plane is taking off.\n",
            "\n",
            "cosine similarity for embeddings 0.126774\n",
            "similarity score from dataset 5.0\n",
            "similarity score from Infersent model 4.37\n"
          ],
          "name": "stdout"
        }
      ]
    },
    {
      "cell_type": "markdown",
      "metadata": {
        "id": "ljP2BrU3iWcy"
      },
      "source": [
        "## Store scores from the dataset"
      ]
    },
    {
      "cell_type": "code",
      "metadata": {
        "colab": {
          "base_uri": "https://localhost:8080/"
        },
        "id": "Y3jUGubLSlFY",
        "outputId": "128fa84c-3250-48ad-8a17-0e4ef7f6a916"
      },
      "source": [
        "actual_scores = [s for s in train_df['similarity'].tolist()]\r\n",
        "print(len(actual_scores))\r\n",
        "print(actual_scores[1])"
      ],
      "execution_count": 43,
      "outputs": [
        {
          "output_type": "stream",
          "text": [
            "5749\n",
            "3.8\n"
          ],
          "name": "stdout"
        }
      ]
    },
    {
      "cell_type": "markdown",
      "metadata": {
        "id": "yb3f8qbEidDI"
      },
      "source": [
        "## Calculate and store scores from InferSent model"
      ]
    },
    {
      "cell_type": "code",
      "metadata": {
        "colab": {
          "base_uri": "https://localhost:8080/"
        },
        "id": "Qc34h4d2TUka",
        "outputId": "ea212bba-d9ec-4b0a-8663-4b6a0f2176b9"
      },
      "source": [
        "infersent_scores = []\r\n",
        "for row in train_df.iterrows():\r\n",
        "    s1 = row[1][1]\r\n",
        "    s2 = row[1][2]\r\n",
        "    e1 = model.encode([s1])[0]\r\n",
        "    e2 = model.encode([s2])[0]\r\n",
        "    score = round((1 - distance.cosine(e1,e2))*5, 2)\r\n",
        "    infersent_scores.append(score)\r\n",
        "    if len(infersent_scores) % 100 == 0:\r\n",
        "        print(len(infersent_scores))\r\n",
        "\r\n",
        "print(len(infersent_scores))\r\n",
        "print(infersent_scores[1])"
      ],
      "execution_count": 44,
      "outputs": [
        {
          "output_type": "stream",
          "text": [
            "100\n",
            "200\n",
            "300\n",
            "400\n",
            "500\n",
            "600\n",
            "700\n",
            "800\n",
            "900\n",
            "1000\n",
            "1100\n",
            "1200\n",
            "1300\n",
            "1400\n",
            "1500\n",
            "1600\n",
            "1700\n",
            "1800\n",
            "1900\n",
            "2000\n",
            "2100\n",
            "2200\n",
            "2300\n",
            "2400\n",
            "2500\n",
            "2600\n",
            "2700\n",
            "2800\n",
            "2900\n",
            "3000\n",
            "3100\n",
            "3200\n",
            "3300\n",
            "3400\n",
            "3500\n",
            "3600\n",
            "3700\n",
            "3800\n",
            "3900\n",
            "4000\n",
            "4100\n",
            "4200\n",
            "4300\n",
            "4400\n",
            "4500\n",
            "4600\n",
            "4700\n",
            "4800\n",
            "4900\n",
            "5000\n",
            "5100\n",
            "5200\n",
            "5300\n",
            "5400\n",
            "5500\n",
            "5600\n",
            "5700\n",
            "5749\n",
            "4.53\n"
          ],
          "name": "stdout"
        }
      ]
    },
    {
      "cell_type": "markdown",
      "metadata": {
        "id": "uOz9UtXaijg6"
      },
      "source": [
        "## Analysis\r\n",
        "Use Pearson correlation to compare actual and calculated scores\r\n",
        "\r\n",
        "(Using GloVe embeddings, Pearson correlation was 52.93)"
      ]
    },
    {
      "cell_type": "code",
      "metadata": {
        "colab": {
          "base_uri": "https://localhost:8080/"
        },
        "id": "Tzrt55DUUGeR",
        "outputId": "d4dd3d68-ffa7-4afc-e256-d0ece3f18c2f"
      },
      "source": [
        "c = pd.Series(actual_scores).corr(pd.Series(infersent_scores))\r\n",
        "print('Pearson correlation: %.2f' % (c*100))"
      ],
      "execution_count": 46,
      "outputs": [
        {
          "output_type": "stream",
          "text": [
            "Pearson correlation: 72.37\n"
          ],
          "name": "stdout"
        }
      ]
    },
    {
      "cell_type": "markdown",
      "metadata": {
        "id": "W-I1k2eimkZI"
      },
      "source": [
        "## Try using InferSent with different vocab words"
      ]
    },
    {
      "cell_type": "markdown",
      "metadata": {
        "id": "sTqY9KB0oJP5"
      },
      "source": [
        "### Load InferSent model and word embeddings"
      ]
    },
    {
      "cell_type": "code",
      "metadata": {
        "id": "YCToLyNcmkGB"
      },
      "source": [
        "V = 2\r\n",
        "model_path = 'encoder/infersent%s.pkl' % V\r\n",
        "model_params = {'bsize': 64, 'word_emb_dim': 300, 'enc_lstm_dim': 2048,\r\n",
        "                'pool_type': 'max', 'dpout_model': 0.0, 'version': V}\r\n",
        "model2 = InferSent(model_params)\r\n",
        "model2.load_state_dict(torch.load(model_path))\r\n",
        "\r\n",
        "# w2v_path = '/content/GloVe/glove.840B.300d.txt'\r\n",
        "# model2.set_w2v_path(w2v_path)\r\n",
        "\r\n",
        "w2v_path = 'fastText/crawl-300d-2M.vec'\r\n",
        "model2.set_w2v_path(w2v_path)"
      ],
      "execution_count": 48,
      "outputs": []
    },
    {
      "cell_type": "markdown",
      "metadata": {
        "id": "zcIVNtYPoLio"
      },
      "source": [
        "### Build vocab for InferSent model"
      ]
    },
    {
      "cell_type": "markdown",
      "metadata": {
        "id": "_OS5FiqyQdzJ"
      },
      "source": [
        "Use K most common English words"
      ]
    },
    {
      "cell_type": "code",
      "metadata": {
        "colab": {
          "base_uri": "https://localhost:8080/"
        },
        "id": "MDUngXSamrXA",
        "outputId": "3ae40c2c-6220-430b-ed58-de26547683ea"
      },
      "source": [
        "model2.build_vocab_k_words(K=1000000)"
      ],
      "execution_count": 52,
      "outputs": [
        {
          "output_type": "stream",
          "text": [
            "Vocab size : 1000000\n"
          ],
          "name": "stdout"
        }
      ]
    },
    {
      "cell_type": "markdown",
      "metadata": {
        "id": "9sMMhYjSQmVJ"
      },
      "source": [
        "Update vocab with sentences list"
      ]
    },
    {
      "cell_type": "code",
      "metadata": {
        "colab": {
          "base_uri": "https://localhost:8080/"
        },
        "id": "iy4320XXQgBY",
        "outputId": "4d04c32b-af2d-42c7-afef-4d593e04e892"
      },
      "source": [
        "model2.update_vocab(sentences)"
      ],
      "execution_count": 53,
      "outputs": [
        {
          "output_type": "stream",
          "text": [
            "Found 158(/829) words with w2v vectors\n",
            "New vocab size : 1000159 (added 158 words)\n"
          ],
          "name": "stdout"
        }
      ]
    },
    {
      "cell_type": "markdown",
      "metadata": {
        "id": "bxect6f7RHMq"
      },
      "source": [
        "### Encode sentences"
      ]
    },
    {
      "cell_type": "code",
      "metadata": {
        "colab": {
          "base_uri": "https://localhost:8080/"
        },
        "id": "8K_U7-dxRBgQ",
        "outputId": "f527861e-dce5-4c1c-dafa-d4e2dea1a76f"
      },
      "source": [
        "embeddings = model2.encode(sentences, bsize=128, tokenize=False, verbose=True)\r\n",
        "print('nb sentences encoded : {0}'.format(len(embeddings)))"
      ],
      "execution_count": 54,
      "outputs": [
        {
          "output_type": "stream",
          "text": [
            "Nb words kept : 130070/137342 (94.7%)\n",
            "Speed : 64.9 sentences/s (cpu mode, bsize=128)\n",
            "nb sentences encoded : 11498\n"
          ],
          "name": "stdout"
        }
      ]
    },
    {
      "cell_type": "markdown",
      "metadata": {
        "id": "il7S1IflQ-JE"
      },
      "source": [
        "### Visualizations"
      ]
    },
    {
      "cell_type": "code",
      "metadata": {
        "colab": {
          "base_uri": "https://localhost:8080/",
          "height": 330
        },
        "id": "HgQwLrJoRJDZ",
        "outputId": "7aa61cc2-922c-43f5-f10d-1d5ad54c6bbe"
      },
      "source": [
        "idx = randint(0, len(sentences))\r\n",
        "_, _ = model2.visualize(sentences[idx])"
      ],
      "execution_count": 61,
      "outputs": [
        {
          "output_type": "display_data",
          "data": {
            "image/png": "[encoded data removed]",
            "text/plain": [
              "<Figure size 432x288 with 1 Axes>"
            ]
          },
          "metadata": {
            "tags": [],
            "needs_background": "light"
          }
        }
      ]
    },
    {
      "cell_type": "code",
      "metadata": {
        "colab": {
          "base_uri": "https://localhost:8080/",
          "height": 305
        },
        "id": "LEN413koRNso",
        "outputId": "58ee8c9c-e6ae-481f-8bab-c47a054b28b8"
      },
      "source": [
        "sample_sentence = 'The cat jumped over the fence'\r\n",
        "_, _ = model2.visualize(sample_sentence)"
      ],
      "execution_count": 62,
      "outputs": [
        {
          "output_type": "display_data",
          "data": {
            "image/png": "[encoded data removed]",
            "text/plain": [
              "<Figure size 432x288 with 1 Axes>"
            ]
          },
          "metadata": {
            "tags": [],
            "needs_background": "light"
          }
        }
      ]
    },
    {
      "cell_type": "markdown",
      "metadata": {
        "id": "WIIWqkJgoPxK"
      },
      "source": [
        "### Compare score from Infersent model vs. score from the dataset"
      ]
    },
    {
      "cell_type": "code",
      "metadata": {
        "colab": {
          "base_uri": "https://localhost:8080/"
        },
        "id": "yb8SqgF0nAjI",
        "outputId": "e2a0560e-f264-4377-9035-888a2b86cd0e"
      },
      "source": [
        "index = 0\r\n",
        "s1 = train_df.loc[index][1]\r\n",
        "s2 = train_df.loc[index][2]\r\n",
        "e1 = model2.encode([s1])[0]\r\n",
        "e2 = model2.encode([s2])[0]\r\n",
        "print('1:', s1)\r\n",
        "print('2:', s2)\r\n",
        "print()\r\n",
        "\r\n",
        "print('cosine similarity for embeddings', round(distance.cosine(e1, e2), 6))\r\n",
        "print('similarity score from dataset', train_df.loc[index][0])\r\n",
        "print('similarity score from Infersent model', round((1 - distance.cosine(e1,e2))*5, 2))"
      ],
      "execution_count": 57,
      "outputs": [
        {
          "output_type": "stream",
          "text": [
            "1: A plane is taking off.\n",
            "2: An air plane is taking off.\n",
            "\n",
            "cosine similarity for embeddings 0.126774\n",
            "similarity score from dataset 5.0\n",
            "similarity score from Infersent model 4.37\n"
          ],
          "name": "stdout"
        }
      ]
    },
    {
      "cell_type": "markdown",
      "metadata": {
        "id": "MnJyBPZpoV8o"
      },
      "source": [
        "### Store scores from the dataset"
      ]
    },
    {
      "cell_type": "code",
      "metadata": {
        "colab": {
          "base_uri": "https://localhost:8080/"
        },
        "id": "YB6VihppnFlL",
        "outputId": "5fbb8b49-4ac2-4d18-fe1f-b3d99a10d720"
      },
      "source": [
        "actual_scores = [s for s in train_df['similarity'].tolist()]\r\n",
        "print(len(actual_scores))\r\n",
        "print(actual_scores[1])"
      ],
      "execution_count": 58,
      "outputs": [
        {
          "output_type": "stream",
          "text": [
            "5749\n",
            "3.8\n"
          ],
          "name": "stdout"
        }
      ]
    },
    {
      "cell_type": "markdown",
      "metadata": {
        "id": "-e0TTBLIoXxg"
      },
      "source": [
        "### Calculate and store scores from InferSent model"
      ]
    },
    {
      "cell_type": "code",
      "metadata": {
        "colab": {
          "base_uri": "https://localhost:8080/"
        },
        "id": "o8Eq1jH8nISp",
        "outputId": "a56f17a5-8eb1-48c3-a3c3-bd88c987739a"
      },
      "source": [
        "infersent_scores2 = []\r\n",
        "for row in train_df.iterrows():\r\n",
        "    s1 = row[1][1]\r\n",
        "    s2 = row[1][2]\r\n",
        "    e1 = model2.encode([s1])[0]\r\n",
        "    e2 = model2.encode([s2])[0]\r\n",
        "    score = round((1 - distance.cosine(e1,e2))*5, 2)\r\n",
        "    infersent_scores2.append(score)\r\n",
        "    if len(infersent_scores2) % 100 == 0:\r\n",
        "        print(len(infersent_scores2))\r\n",
        "\r\n",
        "print()\r\n",
        "print(len(infersent_scores2))\r\n",
        "print(infersent_scores2[1])"
      ],
      "execution_count": 59,
      "outputs": [
        {
          "output_type": "stream",
          "text": [
            "100\n",
            "200\n",
            "300\n",
            "400\n",
            "500\n",
            "600\n",
            "700\n",
            "800\n",
            "900\n",
            "1000\n",
            "1100\n",
            "1200\n",
            "1300\n",
            "1400\n",
            "1500\n",
            "1600\n",
            "1700\n",
            "1800\n",
            "1900\n",
            "2000\n",
            "2100\n",
            "2200\n",
            "2300\n",
            "2400\n",
            "2500\n",
            "2600\n",
            "2700\n",
            "2800\n",
            "2900\n",
            "3000\n",
            "3100\n",
            "3200\n",
            "3300\n",
            "3400\n",
            "3500\n",
            "3600\n",
            "3700\n",
            "3800\n",
            "3900\n",
            "4000\n",
            "4100\n",
            "4200\n",
            "4300\n",
            "4400\n",
            "4500\n",
            "4600\n",
            "4700\n",
            "4800\n",
            "4900\n",
            "5000\n",
            "5100\n",
            "5200\n",
            "5300\n",
            "5400\n",
            "5500\n",
            "5600\n",
            "5700\n",
            "\n",
            "5749\n",
            "4.53\n"
          ],
          "name": "stdout"
        }
      ]
    },
    {
      "cell_type": "markdown",
      "metadata": {
        "id": "Rtlf38wqol3z"
      },
      "source": [
        "### Analysis\r\n",
        "Use Pearson correlation to compare actual and calculated scores\r\n",
        "\r\n",
        "(Using GloVe embeddings and vocab K=1000000, Pearson correlation was 52.96)"
      ]
    },
    {
      "cell_type": "code",
      "metadata": {
        "colab": {
          "base_uri": "https://localhost:8080/"
        },
        "id": "pOtBJOlbnW24",
        "outputId": "cce57470-23b8-41a8-9777-1fe3ac78bf6f"
      },
      "source": [
        "c = pd.Series(actual_scores).corr(pd.Series(infersent_scores2))\r\n",
        "print('Pearson correlation: %.2f' % (c*100))"
      ],
      "execution_count": 60,
      "outputs": [
        {
          "output_type": "stream",
          "text": [
            "Pearson correlation: 72.37\n"
          ],
          "name": "stdout"
        }
      ]
    },
    {
      "cell_type": "markdown",
      "metadata": {
        "id": "r-_AcCCfY5aT"
      },
      "source": [
        "## Compare scores for the test set"
      ]
    },
    {
      "cell_type": "markdown",
      "metadata": {
        "id": "Ox4175IpY_mq"
      },
      "source": [
        "### Read the testing data"
      ]
    },
    {
      "cell_type": "code",
      "metadata": {
        "colab": {
          "base_uri": "https://localhost:8080/",
          "height": 404
        },
        "id": "sVQ0gazdZABS",
        "outputId": "acd15185-0d8e-4dcd-89ee-148e4fcaa9eb"
      },
      "source": [
        "test_df = pd.read_table(\r\n",
        "    path_test,\r\n",
        "    error_bad_lines=False,\r\n",
        "    skip_blank_lines=True,\r\n",
        "    quoting=csv.QUOTE_NONE,\r\n",
        "    usecols=[4, 5, 6],\r\n",
        "    names=[\"similarity\", \"s1\", \"s2\"])\r\n",
        "\r\n",
        "test_df"
      ],
      "execution_count": 64,
      "outputs": [
        {
          "output_type": "execute_result",
          "data": {
            "text/html": [
              "<div>\n",
              "<style scoped>\n",
              "    .dataframe tbody tr th:only-of-type {\n",
              "        vertical-align: middle;\n",
              "    }\n",
              "\n",
              "    .dataframe tbody tr th {\n",
              "        vertical-align: top;\n",
              "    }\n",
              "\n",
              "    .dataframe thead th {\n",
              "        text-align: right;\n",
              "    }\n",
              "</style>\n",
              "<table border=\"1\" class=\"dataframe\">\n",
              "  <thead>\n",
              "    <tr style=\"text-align: right;\">\n",
              "      <th></th>\n",
              "      <th>similarity</th>\n",
              "      <th>s1</th>\n",
              "      <th>s2</th>\n",
              "    </tr>\n",
              "  </thead>\n",
              "  <tbody>\n",
              "    <tr>\n",
              "      <th>0</th>\n",
              "      <td>2.5</td>\n",
              "      <td>A girl is styling her hair.</td>\n",
              "      <td>A girl is brushing her hair.</td>\n",
              "    </tr>\n",
              "    <tr>\n",
              "      <th>1</th>\n",
              "      <td>3.6</td>\n",
              "      <td>A group of men play soccer on the beach.</td>\n",
              "      <td>A group of boys are playing soccer on the beach.</td>\n",
              "    </tr>\n",
              "    <tr>\n",
              "      <th>2</th>\n",
              "      <td>5.0</td>\n",
              "      <td>One woman is measuring another woman's ankle.</td>\n",
              "      <td>A woman measures another woman's ankle.</td>\n",
              "    </tr>\n",
              "    <tr>\n",
              "      <th>3</th>\n",
              "      <td>4.2</td>\n",
              "      <td>A man is cutting up a cucumber.</td>\n",
              "      <td>A man is slicing a cucumber.</td>\n",
              "    </tr>\n",
              "    <tr>\n",
              "      <th>4</th>\n",
              "      <td>1.5</td>\n",
              "      <td>A man is playing a harp.</td>\n",
              "      <td>A man is playing a keyboard.</td>\n",
              "    </tr>\n",
              "    <tr>\n",
              "      <th>...</th>\n",
              "      <td>...</td>\n",
              "      <td>...</td>\n",
              "      <td>...</td>\n",
              "    </tr>\n",
              "    <tr>\n",
              "      <th>1374</th>\n",
              "      <td>0.0</td>\n",
              "      <td>Philippines, Canada pledge to further boost re...</td>\n",
              "      <td>Philippines saves 100 after ferry sinks</td>\n",
              "    </tr>\n",
              "    <tr>\n",
              "      <th>1375</th>\n",
              "      <td>1.0</td>\n",
              "      <td>Israel bars Palestinians from Jerusalem's Old ...</td>\n",
              "      <td>Two-state solution between Palestinians, Israe...</td>\n",
              "    </tr>\n",
              "    <tr>\n",
              "      <th>1376</th>\n",
              "      <td>1.0</td>\n",
              "      <td>How much do you know about Secret Service?</td>\n",
              "      <td>Lawmakers from both sides express outrage at S...</td>\n",
              "    </tr>\n",
              "    <tr>\n",
              "      <th>1377</th>\n",
              "      <td>0.0</td>\n",
              "      <td>Obama Struggles to Soothe Saudi Fears As Iran ...</td>\n",
              "      <td>Myanmar Struggles to Finalize Voter Lists for ...</td>\n",
              "    </tr>\n",
              "    <tr>\n",
              "      <th>1378</th>\n",
              "      <td>0.0</td>\n",
              "      <td>South Korea declares end to MERS outbreak</td>\n",
              "      <td>North Korea Delegation Meets With South Korean...</td>\n",
              "    </tr>\n",
              "  </tbody>\n",
              "</table>\n",
              "<p>1379 rows × 3 columns</p>\n",
              "</div>"
            ],
            "text/plain": [
              "      similarity  ...                                                 s2\n",
              "0            2.5  ...                       A girl is brushing her hair.\n",
              "1            3.6  ...   A group of boys are playing soccer on the beach.\n",
              "2            5.0  ...            A woman measures another woman's ankle.\n",
              "3            4.2  ...                       A man is slicing a cucumber.\n",
              "4            1.5  ...                       A man is playing a keyboard.\n",
              "...          ...  ...                                                ...\n",
              "1374         0.0  ...            Philippines saves 100 after ferry sinks\n",
              "1375         1.0  ...  Two-state solution between Palestinians, Israe...\n",
              "1376         1.0  ...  Lawmakers from both sides express outrage at S...\n",
              "1377         0.0  ...  Myanmar Struggles to Finalize Voter Lists for ...\n",
              "1378         0.0  ...  North Korea Delegation Meets With South Korean...\n",
              "\n",
              "[1379 rows x 3 columns]"
            ]
          },
          "metadata": {
            "tags": []
          },
          "execution_count": 64
        }
      ]
    },
    {
      "cell_type": "markdown",
      "metadata": {
        "id": "P9hIkwIeZJbA"
      },
      "source": [
        "### Compare score from Infersent model vs. score from the dataset"
      ]
    },
    {
      "cell_type": "code",
      "metadata": {
        "colab": {
          "base_uri": "https://localhost:8080/"
        },
        "id": "lSWSw-DMZVvY",
        "outputId": "a489aff8-6ff8-412e-87e0-24835f9431ac"
      },
      "source": [
        "index = 1\r\n",
        "s1 = test_df.loc[index][1]\r\n",
        "s2 = test_df.loc[index][2]\r\n",
        "e1 = model.encode([s1])[0]\r\n",
        "e2 = model.encode([s2])[0]\r\n",
        "print('1:', s1)\r\n",
        "print('2:', s2)\r\n",
        "print()\r\n",
        "\r\n",
        "print('cosine similarity for embeddings', round(distance.cosine(e1, e2), 6))\r\n",
        "print('similarity score from dataset', test_df.loc[index][0])\r\n",
        "print('similarity score from Infersent model', round((1 - distance.cosine(e1,e2))*5, 2))"
      ],
      "execution_count": 66,
      "outputs": [
        {
          "output_type": "stream",
          "text": [
            "1: A group of men play soccer on the beach.\n",
            "2: A group of boys are playing soccer on the beach.\n",
            "\n",
            "cosine similarity for embeddings 0.09056\n",
            "similarity score from dataset 3.6\n",
            "similarity score from Infersent model 4.55\n"
          ],
          "name": "stdout"
        }
      ]
    },
    {
      "cell_type": "markdown",
      "metadata": {
        "id": "dAYZq4VZZo75"
      },
      "source": [
        "### Store scores from the dataset"
      ]
    },
    {
      "cell_type": "code",
      "metadata": {
        "colab": {
          "base_uri": "https://localhost:8080/"
        },
        "id": "jAGKxnZSZcgB",
        "outputId": "6ab61dd1-f55e-4ed9-b287-2606d494d148"
      },
      "source": [
        "actual_test_scores = [s for s in test_df['similarity'].tolist()]\r\n",
        "print(len(actual_test_scores))\r\n",
        "print(actual_test_scores[1])"
      ],
      "execution_count": 70,
      "outputs": [
        {
          "output_type": "stream",
          "text": [
            "1379\n",
            "3.6\n"
          ],
          "name": "stdout"
        }
      ]
    },
    {
      "cell_type": "markdown",
      "metadata": {
        "id": "XR_Crk4XZr8Y"
      },
      "source": [
        "### Calculate and store scores from InferSent model"
      ]
    },
    {
      "cell_type": "code",
      "metadata": {
        "colab": {
          "base_uri": "https://localhost:8080/"
        },
        "id": "Y5KLZHllZsaP",
        "outputId": "5d6e4d2a-c945-4dbe-c705-96bc4be6e08f"
      },
      "source": [
        "infersent_test_scores = []\r\n",
        "for row in test_df.iterrows():\r\n",
        "    s1 = row[1][1]\r\n",
        "    s2 = row[1][2]\r\n",
        "    e1 = model.encode([s1])[0]\r\n",
        "    e2 = model.encode([s2])[0]\r\n",
        "    score = round((1 - distance.cosine(e1,e2))*5, 2)\r\n",
        "    infersent_test_scores.append(score)\r\n",
        "    if len(infersent_test_scores) % 100 == 0:\r\n",
        "        print(len(infersent_test_scores))\r\n",
        "\r\n",
        "# print()\r\n",
        "print(len(infersent_test_scores))\r\n",
        "print(infersent_test_scores[1])"
      ],
      "execution_count": 71,
      "outputs": [
        {
          "output_type": "stream",
          "text": [
            "100\n",
            "200\n",
            "300\n",
            "400\n",
            "500\n",
            "600\n",
            "700\n",
            "800\n",
            "900\n",
            "1000\n",
            "1100\n",
            "1200\n",
            "1300\n",
            "1379\n",
            "4.55\n"
          ],
          "name": "stdout"
        }
      ]
    },
    {
      "cell_type": "markdown",
      "metadata": {
        "id": "zlRYBReiaBLi"
      },
      "source": [
        "### Analysis\r\n",
        "Use Pearson correlation to compare actual and calculated scores"
      ]
    },
    {
      "cell_type": "code",
      "metadata": {
        "colab": {
          "base_uri": "https://localhost:8080/"
        },
        "id": "UNSi7RVJaJjI",
        "outputId": "8f348928-c237-41ac-b919-96065165c58f"
      },
      "source": [
        "c = pd.Series(actual_test_scores).corr(pd.Series(infersent_test_scores))\r\n",
        "print('Pearson correlation: %.2f' % (c*100))"
      ],
      "execution_count": 73,
      "outputs": [
        {
          "output_type": "stream",
          "text": [
            "Pearson correlation: 66.56\n"
          ],
          "name": "stdout"
        }
      ]
    }
  ]
}