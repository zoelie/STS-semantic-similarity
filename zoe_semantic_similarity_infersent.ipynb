{
  "nbformat": 4,
  "nbformat_minor": 0,
  "metadata": {
    "colab": {
      "name": "zoe-semantic-similarity-infersent.ipynb",
      "provenance": [],
      "collapsed_sections": []
    },
    "kernelspec": {
      "name": "python3",
      "display_name": "Python 3"
    }
  },
  "cells": [
    {
      "cell_type": "markdown",
      "metadata": {
        "id": "iGuzoflNhX52"
      },
      "source": [
        "# Semantic Similarity Analysis - Zoe (Infersent)"
      ]
    },
    {
      "cell_type": "markdown",
      "metadata": {
        "id": "3VnGlhDyhg9a"
      },
      "source": [
        "## Import libraries"
      ]
    },
    {
      "cell_type": "code",
      "metadata": {
        "colab": {
          "base_uri": "https://localhost:8080/"
        },
        "id": "e4UhMOPfKAZ5",
        "outputId": "20e176ec-bcb2-464f-d9f3-90f564cda6b3"
      },
      "source": [
        "import numpy as np\r\n",
        "import pandas as pd\r\n",
        "import csv\r\n",
        "\r\n",
        "from models import InferSent\r\n",
        "import torch\r\n",
        "\r\n",
        "import nltk\r\n",
        "nltk.download('punkt')\r\n",
        "\r\n",
        "from scipy.spatial import distance"
      ],
      "execution_count": 113,
      "outputs": [
        {
          "output_type": "stream",
          "text": [
            "[nltk_data] Downloading package punkt to /root/nltk_data...\n",
            "[nltk_data]   Package punkt is already up-to-date!\n"
          ],
          "name": "stdout"
        }
      ]
    },
    {
      "cell_type": "markdown",
      "metadata": {
        "id": "jC69YsjHhcP4"
      },
      "source": [
        "## Download Infersent2 model and GloVe word vectors"
      ]
    },
    {
      "cell_type": "code",
      "metadata": {
        "colab": {
          "base_uri": "https://localhost:8080/"
        },
        "id": "IGpu5Fx7DcPa",
        "outputId": "d9e2a197-4ab2-40ab-9fd0-6501ac57ff2a"
      },
      "source": [
        "# ! mkdir encoder\r\n",
        "# ! curl -Lo encoder/infersent2.pkl https://dl.fbaipublicfiles.com/infersent/infersent2.pkl\r\n",
        "  \r\n",
        "# ! mkdir GloVe\r\n",
        "# ! curl -Lo GloVe/glove.840B.300d.zip http://nlp.stanford.edu/data/glove.840B.300d.zip\r\n",
        "# ! unzip GloVe/glove.840B.300d.zip -d GloVe/"
      ],
      "execution_count": 1,
      "outputs": [
        {
          "output_type": "stream",
          "text": [
            "  % Total    % Received % Xferd  Average Speed   Time    Time     Time  Current\n",
            "                                 Dload  Upload   Total   Spent    Left  Speed\n",
            "100  146M  100  146M    0     0  19.1M      0  0:00:07  0:00:07 --:--:-- 23.1M\n",
            "  % Total    % Received % Xferd  Average Speed   Time    Time     Time  Current\n",
            "                                 Dload  Upload   Total   Spent    Left  Speed\n",
            "  0   315    0     0    0     0      0      0 --:--:-- --:--:-- --:--:--     0\n",
            "  0   352    0     0    0     0      0      0 --:--:-- --:--:-- --:--:--     0\n",
            "100 2075M  100 2075M    0     0  2092k      0  0:16:55  0:16:55 --:--:-- 1900k\n",
            "Archive:  GloVe/glove.840B.300d.zip\n",
            "  inflating: GloVe/glove.840B.300d.txt  \n"
          ],
          "name": "stdout"
        }
      ]
    },
    {
      "cell_type": "markdown",
      "metadata": {
        "id": "-P8L1pz6hj8A"
      },
      "source": [
        "## Set up file paths"
      ]
    },
    {
      "cell_type": "code",
      "metadata": {
        "id": "qCQdktwCPyOI"
      },
      "source": [
        "cur_dir = 'drive/My Drive/Colab Notebooks/2 Fall 2020/CMPE 255/Project/'\r\n",
        "path_train = cur_dir + 'sts-train.csv'\r\n",
        "path_test = cur_dir + 'sts-test.csv'"
      ],
      "execution_count": 57,
      "outputs": []
    },
    {
      "cell_type": "markdown",
      "metadata": {
        "id": "8AIK0yBJhm_a"
      },
      "source": [
        "## Read the training data"
      ]
    },
    {
      "cell_type": "code",
      "metadata": {
        "colab": {
          "base_uri": "https://localhost:8080/",
          "height": 438
        },
        "id": "z-6TTmzwP4d4",
        "outputId": "1fae7c01-06e3-42ca-8d9a-dbed6f474e1e"
      },
      "source": [
        "train_df = pd.read_table(\r\n",
        "    path_train,\r\n",
        "    error_bad_lines=False,\r\n",
        "    skip_blank_lines=True,\r\n",
        "    quoting=csv.QUOTE_NONE,\r\n",
        "    usecols=[4, 5, 6],\r\n",
        "    names=[\"similarity\", \"s1\", \"s2\"])\r\n",
        "\r\n",
        "train_df"
      ],
      "execution_count": 62,
      "outputs": [
        {
          "output_type": "execute_result",
          "data": {
            "text/html": [
              "<div>\n",
              "<style scoped>\n",
              "    .dataframe tbody tr th:only-of-type {\n",
              "        vertical-align: middle;\n",
              "    }\n",
              "\n",
              "    .dataframe tbody tr th {\n",
              "        vertical-align: top;\n",
              "    }\n",
              "\n",
              "    .dataframe thead th {\n",
              "        text-align: right;\n",
              "    }\n",
              "</style>\n",
              "<table border=\"1\" class=\"dataframe\">\n",
              "  <thead>\n",
              "    <tr style=\"text-align: right;\">\n",
              "      <th></th>\n",
              "      <th>similarity</th>\n",
              "      <th>s1</th>\n",
              "      <th>s2</th>\n",
              "    </tr>\n",
              "  </thead>\n",
              "  <tbody>\n",
              "    <tr>\n",
              "      <th>0</th>\n",
              "      <td>5.00</td>\n",
              "      <td>A plane is taking off.</td>\n",
              "      <td>An air plane is taking off.</td>\n",
              "    </tr>\n",
              "    <tr>\n",
              "      <th>1</th>\n",
              "      <td>3.80</td>\n",
              "      <td>A man is playing a large flute.</td>\n",
              "      <td>A man is playing a flute.</td>\n",
              "    </tr>\n",
              "    <tr>\n",
              "      <th>2</th>\n",
              "      <td>3.80</td>\n",
              "      <td>A man is spreading shreded cheese on a pizza.</td>\n",
              "      <td>A man is spreading shredded cheese on an uncoo...</td>\n",
              "    </tr>\n",
              "    <tr>\n",
              "      <th>3</th>\n",
              "      <td>2.60</td>\n",
              "      <td>Three men are playing chess.</td>\n",
              "      <td>Two men are playing chess.</td>\n",
              "    </tr>\n",
              "    <tr>\n",
              "      <th>4</th>\n",
              "      <td>4.25</td>\n",
              "      <td>A man is playing the cello.</td>\n",
              "      <td>A man seated is playing the cello.</td>\n",
              "    </tr>\n",
              "    <tr>\n",
              "      <th>...</th>\n",
              "      <td>...</td>\n",
              "      <td>...</td>\n",
              "      <td>...</td>\n",
              "    </tr>\n",
              "    <tr>\n",
              "      <th>5744</th>\n",
              "      <td>0.00</td>\n",
              "      <td>Severe Gales As Storm Clodagh Hits Britain</td>\n",
              "      <td>Merkel pledges NATO solidarity with Latvia</td>\n",
              "    </tr>\n",
              "    <tr>\n",
              "      <th>5745</th>\n",
              "      <td>0.00</td>\n",
              "      <td>Dozens of Egyptians hostages taken by Libyan t...</td>\n",
              "      <td>Egyptian boat crash death toll rises as more b...</td>\n",
              "    </tr>\n",
              "    <tr>\n",
              "      <th>5746</th>\n",
              "      <td>0.00</td>\n",
              "      <td>President heading to Bahrain</td>\n",
              "      <td>President Xi: China to continue help to fight ...</td>\n",
              "    </tr>\n",
              "    <tr>\n",
              "      <th>5747</th>\n",
              "      <td>0.00</td>\n",
              "      <td>China, India vow to further bilateral ties</td>\n",
              "      <td>China Scrambles to Reassure Jittery Stock Traders</td>\n",
              "    </tr>\n",
              "    <tr>\n",
              "      <th>5748</th>\n",
              "      <td>0.00</td>\n",
              "      <td>Putin spokesman: Doping charges appear unfounded</td>\n",
              "      <td>The Latest on Severe Weather: 1 Dead in Texas ...</td>\n",
              "    </tr>\n",
              "  </tbody>\n",
              "</table>\n",
              "<p>5749 rows × 3 columns</p>\n",
              "</div>"
            ],
            "text/plain": [
              "      similarity  ...                                                 s2\n",
              "0           5.00  ...                        An air plane is taking off.\n",
              "1           3.80  ...                          A man is playing a flute.\n",
              "2           3.80  ...  A man is spreading shredded cheese on an uncoo...\n",
              "3           2.60  ...                         Two men are playing chess.\n",
              "4           4.25  ...                 A man seated is playing the cello.\n",
              "...          ...  ...                                                ...\n",
              "5744        0.00  ...         Merkel pledges NATO solidarity with Latvia\n",
              "5745        0.00  ...  Egyptian boat crash death toll rises as more b...\n",
              "5746        0.00  ...  President Xi: China to continue help to fight ...\n",
              "5747        0.00  ...  China Scrambles to Reassure Jittery Stock Traders\n",
              "5748        0.00  ...  The Latest on Severe Weather: 1 Dead in Texas ...\n",
              "\n",
              "[5749 rows x 3 columns]"
            ]
          },
          "metadata": {
            "tags": []
          },
          "execution_count": 62
        }
      ]
    },
    {
      "cell_type": "markdown",
      "metadata": {
        "id": "dkmBYfXFhyeA"
      },
      "source": [
        "## Load Infersent model and word embeddings"
      ]
    },
    {
      "cell_type": "code",
      "metadata": {
        "id": "1qnk4_8aDomx"
      },
      "source": [
        "V = 2\r\n",
        "model_path = 'encoder/infersent%s.pkl' % V\r\n",
        "model_params = {'bsize': 64, 'word_emb_dim': 300, 'enc_lstm_dim': 2048,\r\n",
        "                'pool_type': 'max', 'dpout_model': 0.0, 'version': V}\r\n",
        "model = InferSent(model_params)\r\n",
        "model.load_state_dict(torch.load(model_path))\r\n",
        "\r\n",
        "w2v_path = '/content/GloVe/glove.840B.300d.txt'\r\n",
        "model.set_w2v_path(w2v_path)"
      ],
      "execution_count": 56,
      "outputs": []
    },
    {
      "cell_type": "markdown",
      "metadata": {
        "id": "_SI1F5U1hvIb"
      },
      "source": [
        "## Create sentences list from the dataset for vocab"
      ]
    },
    {
      "cell_type": "code",
      "metadata": {
        "colab": {
          "base_uri": "https://localhost:8080/"
        },
        "id": "9zuiJpf-QA7Z",
        "outputId": "ad33ca15-ffb7-4aed-f0f7-ef64bb681a75"
      },
      "source": [
        "sentences = []\r\n",
        "for row in train_df.iterrows():\r\n",
        "    sentences.append(row[1][1])\r\n",
        "    sentences.append(row[1][2])\r\n",
        "\r\n",
        "print(len(sentences))"
      ],
      "execution_count": 73,
      "outputs": [
        {
          "output_type": "stream",
          "text": [
            "11498\n"
          ],
          "name": "stdout"
        }
      ]
    },
    {
      "cell_type": "markdown",
      "metadata": {
        "id": "xUKEyj2GiAQA"
      },
      "source": [
        "## Build vocab for Infersent model from sentences list"
      ]
    },
    {
      "cell_type": "code",
      "metadata": {
        "colab": {
          "base_uri": "https://localhost:8080/"
        },
        "id": "4nrtUJQ_D-4O",
        "outputId": "0081a994-f7cd-46ae-a478-792fc81d4e53"
      },
      "source": [
        "model.build_vocab(sentences)"
      ],
      "execution_count": 74,
      "outputs": [
        {
          "output_type": "stream",
          "text": [
            "Found 13740(/14417) words with w2v vectors\n",
            "Vocab size : 13740\n"
          ],
          "name": "stdout"
        }
      ]
    },
    {
      "cell_type": "markdown",
      "metadata": {
        "id": "x0lpe0WtiLlQ"
      },
      "source": [
        "## Compare score from Infersent model vs. score from the dataset"
      ]
    },
    {
      "cell_type": "code",
      "metadata": {
        "colab": {
          "base_uri": "https://localhost:8080/"
        },
        "id": "ONmgPuMNRZUd",
        "outputId": "c5039bdb-b0d9-4db7-fedc-0d0b3575a0d9"
      },
      "source": [
        "index = 0\r\n",
        "s1 = train_df.loc[index][1]\r\n",
        "s2 = train_df.loc[index][2]\r\n",
        "e1 = model.encode([s1])[0]\r\n",
        "e2 = model.encode([s2])[0]\r\n",
        "print('1:', s1)\r\n",
        "print('2:', s2)\r\n",
        "print()\r\n",
        "\r\n",
        "print('cosine similarity for embeddings', round(distance.cosine(e1, e2), 6))\r\n",
        "print('similarity score from dataset', train_df.loc[index][0])\r\n",
        "print('similarity score from Infersent model', round((1 - distance.cosine(e1,e2))*5, 2))"
      ],
      "execution_count": 126,
      "outputs": [
        {
          "output_type": "stream",
          "text": [
            "1: A plane is taking off.\n",
            "2: An air plane is taking off.\n",
            "\n",
            "cosine similarity for embeddings 0.091629\n",
            "similarity score from dataset 5.0\n",
            "similarity score from Infersent model 4.54\n"
          ],
          "name": "stdout"
        }
      ]
    },
    {
      "cell_type": "markdown",
      "metadata": {
        "id": "ljP2BrU3iWcy"
      },
      "source": [
        "## Store scores from the dataset"
      ]
    },
    {
      "cell_type": "code",
      "metadata": {
        "colab": {
          "base_uri": "https://localhost:8080/"
        },
        "id": "Y3jUGubLSlFY",
        "outputId": "ac150c0b-af15-47e9-eb17-9e75260f31c7"
      },
      "source": [
        "actual_scores = [s for s in train_df['similarity'].tolist()]\r\n",
        "print(len(actual_scores))\r\n",
        "print(actual_scores[1])"
      ],
      "execution_count": 93,
      "outputs": [
        {
          "output_type": "stream",
          "text": [
            "5749\n",
            "3.8\n"
          ],
          "name": "stdout"
        }
      ]
    },
    {
      "cell_type": "markdown",
      "metadata": {
        "id": "yb3f8qbEidDI"
      },
      "source": [
        "## Calculate and store scores from Infersent model"
      ]
    },
    {
      "cell_type": "code",
      "metadata": {
        "colab": {
          "base_uri": "https://localhost:8080/"
        },
        "id": "Qc34h4d2TUka",
        "outputId": "24ce5d93-716a-4f33-c8af-885bbefa429a"
      },
      "source": [
        "infersent_scores = []\r\n",
        "for row in train_df.iterrows():\r\n",
        "    s1 = row[1][1]\r\n",
        "    s2 = row[1][2]\r\n",
        "    e1 = model.encode([s1])[0]\r\n",
        "    e2 = model.encode([s2])[0]\r\n",
        "    score = round((1 - distance.cosine(e1,e2))*5, 2)\r\n",
        "    infersent_scores.append(score)\r\n",
        "    # if len(infersent_scores) % 100 == 0:\r\n",
        "    #     print(len(infersent_scores))\r\n",
        "\r\n",
        "print(len(infersent_scores))\r\n",
        "print(infersent_scores[1])"
      ],
      "execution_count": 95,
      "outputs": [
        {
          "output_type": "stream",
          "text": [
            "5749\n",
            "4.85\n"
          ],
          "name": "stdout"
        }
      ]
    },
    {
      "cell_type": "markdown",
      "metadata": {
        "id": "uOz9UtXaijg6"
      },
      "source": [
        "## Analysis\r\n",
        "Use pearson correlation to compare actual and calculated scores"
      ]
    },
    {
      "cell_type": "code",
      "metadata": {
        "colab": {
          "base_uri": "https://localhost:8080/"
        },
        "id": "Tzrt55DUUGeR",
        "outputId": "ebd8c3a3-e0e6-42b7-feaa-ebc430b9af2c"
      },
      "source": [
        "c = pd.Series(actual_scores).corr(pd.Series(infersent_scores))\r\n",
        "print('Pearson correlation: %.2f' % (c*100))"
      ],
      "execution_count": 124,
      "outputs": [
        {
          "output_type": "stream",
          "text": [
            "Pearson correlation: 52.93\n"
          ],
          "name": "stdout"
        }
      ]
    },
    {
      "cell_type": "markdown",
      "metadata": {
        "id": "W-I1k2eimkZI"
      },
      "source": [
        "## Try using Infersent with different vocab words"
      ]
    },
    {
      "cell_type": "markdown",
      "metadata": {
        "id": "sTqY9KB0oJP5"
      },
      "source": [
        "### Load Infersent model and word embeddings"
      ]
    },
    {
      "cell_type": "code",
      "metadata": {
        "id": "YCToLyNcmkGB"
      },
      "source": [
        "V = 2\r\n",
        "model_path = 'encoder/infersent%s.pkl' % V\r\n",
        "model_params = {'bsize': 64, 'word_emb_dim': 300, 'enc_lstm_dim': 2048,\r\n",
        "                'pool_type': 'max', 'dpout_model': 0.0, 'version': V}\r\n",
        "model2 = InferSent(model_params)\r\n",
        "model2.load_state_dict(torch.load(model_path))\r\n",
        "\r\n",
        "w2v_path = '/content/GloVe/glove.840B.300d.txt'\r\n",
        "model2.set_w2v_path(w2v_path)"
      ],
      "execution_count": 129,
      "outputs": []
    },
    {
      "cell_type": "markdown",
      "metadata": {
        "id": "zcIVNtYPoLio"
      },
      "source": [
        "### Build vocab for Infersent model from 1 million most common English words"
      ]
    },
    {
      "cell_type": "code",
      "metadata": {
        "colab": {
          "base_uri": "https://localhost:8080/"
        },
        "id": "MDUngXSamrXA",
        "outputId": "38ed7dcd-85e8-4a04-f2af-a34b978ed27b"
      },
      "source": [
        "model2.build_vocab_k_words(K=1000000) # 1 million most common English words"
      ],
      "execution_count": 131,
      "outputs": [
        {
          "output_type": "stream",
          "text": [
            "Vocab size : 1000000\n"
          ],
          "name": "stdout"
        }
      ]
    },
    {
      "cell_type": "markdown",
      "metadata": {
        "id": "WIIWqkJgoPxK"
      },
      "source": [
        "### Compare score from Infersent model vs. score from the dataset"
      ]
    },
    {
      "cell_type": "code",
      "metadata": {
        "colab": {
          "base_uri": "https://localhost:8080/"
        },
        "id": "yb8SqgF0nAjI",
        "outputId": "ccd137a0-6f35-4fae-bf52-5f006f659c3e"
      },
      "source": [
        "index = 0\r\n",
        "s1 = train_df.loc[index][1]\r\n",
        "s2 = train_df.loc[index][2]\r\n",
        "e1 = model2.encode([s1])[0]\r\n",
        "e2 = model2.encode([s2])[0]\r\n",
        "print('1:', s1)\r\n",
        "print('2:', s2)\r\n",
        "print()\r\n",
        "\r\n",
        "print('cosine similarity for embeddings', round(distance.cosine(e1, e2), 6))\r\n",
        "print('similarity score from dataset', train_df.loc[index][0])\r\n",
        "print('similarity score from Infersent model', round((1 - distance.cosine(e1,e2))*5, 2))"
      ],
      "execution_count": 132,
      "outputs": [
        {
          "output_type": "stream",
          "text": [
            "1: A plane is taking off.\n",
            "2: An air plane is taking off.\n",
            "\n",
            "cosine similarity for embeddings 0.091629\n",
            "similarity score from dataset 5.0\n",
            "similarity score from Infersent model 4.54\n"
          ],
          "name": "stdout"
        }
      ]
    },
    {
      "cell_type": "markdown",
      "metadata": {
        "id": "MnJyBPZpoV8o"
      },
      "source": [
        "### Store scores from the dataset"
      ]
    },
    {
      "cell_type": "code",
      "metadata": {
        "colab": {
          "base_uri": "https://localhost:8080/"
        },
        "id": "YB6VihppnFlL",
        "outputId": "06521e63-0f68-4a58-dce5-1a5303c4b106"
      },
      "source": [
        "actual_scores = [s for s in train_df['similarity'].tolist()]\r\n",
        "print(len(actual_scores))\r\n",
        "print(actual_scores[1])"
      ],
      "execution_count": 133,
      "outputs": [
        {
          "output_type": "stream",
          "text": [
            "5749\n",
            "3.8\n"
          ],
          "name": "stdout"
        }
      ]
    },
    {
      "cell_type": "markdown",
      "metadata": {
        "id": "-e0TTBLIoXxg"
      },
      "source": [
        "### Calculate and store scores from Infersent model"
      ]
    },
    {
      "cell_type": "code",
      "metadata": {
        "colab": {
          "base_uri": "https://localhost:8080/"
        },
        "id": "o8Eq1jH8nISp",
        "outputId": "92948339-91b3-4491-9c61-e28d67e0cded"
      },
      "source": [
        "infersent_scores2 = []\r\n",
        "for row in train_df.iterrows():\r\n",
        "    s1 = row[1][1]\r\n",
        "    s2 = row[1][2]\r\n",
        "    e1 = model2.encode([s1])[0]\r\n",
        "    e2 = model2.encode([s2])[0]\r\n",
        "    score = round((1 - distance.cosine(e1,e2))*5, 2)\r\n",
        "    infersent_scores2.append(score)\r\n",
        "    if len(infersent_scores2) % 100 == 0:\r\n",
        "        print(len(infersent_scores2))\r\n",
        "\r\n",
        "print(len(infersent_scores2))\r\n",
        "print(infersent_scores2[1])"
      ],
      "execution_count": 135,
      "outputs": [
        {
          "output_type": "stream",
          "text": [
            "100\n",
            "200\n",
            "300\n",
            "400\n",
            "500\n",
            "600\n",
            "700\n",
            "800\n",
            "900\n",
            "1000\n",
            "1100\n",
            "1200\n",
            "1300\n",
            "1400\n",
            "1500\n",
            "1600\n",
            "1700\n",
            "1800\n",
            "1900\n",
            "2000\n",
            "2100\n",
            "2200\n",
            "2300\n",
            "2400\n",
            "2500\n",
            "2600\n",
            "2700\n",
            "2800\n",
            "2900\n",
            "3000\n",
            "3100\n",
            "3200\n",
            "3300\n",
            "3400\n",
            "3500\n",
            "3600\n",
            "3700\n",
            "3800\n",
            "3900\n",
            "4000\n",
            "4100\n",
            "4200\n",
            "4300\n",
            "4400\n",
            "4500\n",
            "4600\n",
            "4700\n",
            "4800\n",
            "4900\n",
            "5000\n",
            "5100\n",
            "5200\n",
            "5300\n",
            "5400\n",
            "5500\n",
            "5600\n",
            "5700\n",
            "5749\n",
            "4.85\n"
          ],
          "name": "stdout"
        }
      ]
    },
    {
      "cell_type": "markdown",
      "metadata": {
        "id": "Rtlf38wqol3z"
      },
      "source": [
        "### Analysis\r\n",
        "Use pearson correlation to compare actual and calculated scores"
      ]
    },
    {
      "cell_type": "code",
      "metadata": {
        "colab": {
          "base_uri": "https://localhost:8080/"
        },
        "id": "pOtBJOlbnW24",
        "outputId": "40781cf6-5460-496c-889c-8f919ebc26ad"
      },
      "source": [
        "c = pd.Series(actual_scores).corr(pd.Series(infersent_scores2))\r\n",
        "print('Pearson correlation: %.2f' % (c*100))"
      ],
      "execution_count": 136,
      "outputs": [
        {
          "output_type": "stream",
          "text": [
            "Pearson correlation: 52.99\n"
          ],
          "name": "stdout"
        }
      ]
    }
  ]
}