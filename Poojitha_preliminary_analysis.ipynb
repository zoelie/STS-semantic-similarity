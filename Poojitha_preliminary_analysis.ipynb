{
 "cells": [
  {
   "cell_type": "code",
   "execution_count": 1,
   "metadata": {},
   "outputs": [],
   "source": [
    "import pandas as pd\n",
    "import matplotlib.pyplot as plt"
   ]
  },
  {
   "cell_type": "code",
   "execution_count": 2,
   "metadata": {},
   "outputs": [],
   "source": [
    "def loaddata(filename):\n",
    "    col_names =[\"col1\",\"col2\",\"col3\",\"col4\",\"similarity\",\"sen1\",\"sen2\"]\n",
    "    return pd.read_csv(filename, sep= \"\\t\", names=col_names, usecols=[\"similarity\",\"sen1\",\"sen2\"])\n",
    "\n",
    "train_df= loaddata('sts-train.csv')"
   ]
  },
  {
   "cell_type": "markdown",
   "metadata": {},
   "source": [
    "Describing the data"
   ]
  },
  {
   "cell_type": "code",
   "execution_count": 3,
   "metadata": {},
   "outputs": [
    {
     "name": "stdout",
     "output_type": "stream",
     "text": [
      "Diplaying train_df head\n",
      "     similarity                                           sen1  \\\n",
      "0        5.00                         A plane is taking off.   \n",
      "1        3.80                A man is playing a large flute.   \n",
      "2        3.80  A man is spreading shreded cheese on a pizza.   \n",
      "3        2.60                   Three men are playing chess.   \n",
      "4        4.25                    A man is playing the cello.   \n",
      "\n",
      "                                                sen2  \n",
      "0                        An air plane is taking off.  \n",
      "1                          A man is playing a flute.  \n",
      "2  A man is spreading shredded cheese on an uncoo...  \n",
      "3                         Two men are playing chess.  \n",
      "4                 A man seated is playing the cello.  \n",
      "Describing the columns of train_df\n",
      "          similarity                        sen1                        sen2\n",
      "count   5711.000000                        5711                        5708\n",
      "unique          NaN                        5398                        5380\n",
      "top             NaN  A man is playing a guitar.  A man is playing a guitar.\n",
      "freq            NaN                          16                          23\n",
      "mean       2.698543                         NaN                         NaN\n",
      "std        1.466207                         NaN                         NaN\n",
      "min        0.000000                         NaN                         NaN\n",
      "25%        1.500000                         NaN                         NaN\n",
      "50%        3.000000                         NaN                         NaN\n",
      "75%        3.800000                         NaN                         NaN\n",
      "max        5.000000                         NaN                         NaN\n"
     ]
    }
   ],
   "source": [
    "print(\"Diplaying train_df head\\n \",train_df.head())\n",
    "print(\"Describing the columns of train_df\\n\", train_df.describe(include='all'))\n"
   ]
  },
  {
   "cell_type": "markdown",
   "metadata": {},
   "source": [
    "Checking for null values"
   ]
  },
  {
   "cell_type": "code",
   "execution_count": 4,
   "metadata": {},
   "outputs": [
    {
     "name": "stdout",
     "output_type": "stream",
     "text": [
      "Checking for null values column wise:\n",
      " similarity    0\n",
      "sen1          0\n",
      "sen2          3\n",
      "dtype: int64\n",
      "Checking for total number of null values in the dataframe:\n",
      " 3\n"
     ]
    }
   ],
   "source": [
    "print(\"Checking for null values column wise:\\n\", train_df.isnull().sum())\n",
    "print(\"Checking for total number of null values in the dataframe:\\n\", train_df.isnull().sum().sum())\n"
   ]
  },
  {
   "cell_type": "markdown",
   "metadata": {},
   "source": [
    "Mean of similarity scores"
   ]
  },
  {
   "cell_type": "code",
   "execution_count": 5,
   "metadata": {},
   "outputs": [
    {
     "name": "stdout",
     "output_type": "stream",
     "text": [
      "Printing the mean of the similarity scores 2.6985430567020376\n"
     ]
    }
   ],
   "source": [
    "print(\"Printing the mean of the similarity scores\", train_df['similarity'].mean())"
   ]
  },
  {
   "cell_type": "markdown",
   "metadata": {},
   "source": [
    "Frequency of similarity scores"
   ]
  },
  {
   "cell_type": "code",
   "execution_count": 6,
   "metadata": {},
   "outputs": [
    {
     "name": "stdout",
     "output_type": "stream",
     "text": [
      "Printing the frequency of similarity scores\n",
      "  3    1572\n",
      "4    1132\n",
      "2     975\n",
      "0     889\n",
      "1     878\n",
      "5     265\n",
      "Name: similarity, dtype: int64\n",
      "Checking for negative values in similarity score:  []\n"
     ]
    }
   ],
   "source": [
    "print(\"Printing the frequency of similarity scores\\n \", train_df['similarity'].astype(int).value_counts())\n",
    "cnt=0\n",
    "cnt = [cnt+1 for i in train_df['similarity'] if i<0]\n",
    "print(\"Checking for negative values in similarity score: \", cnt)"
   ]
  },
  {
   "cell_type": "markdown",
   "metadata": {},
   "source": [
    "Plotting the histogram of similarity scores in train_df"
   ]
  },
  {
   "cell_type": "code",
   "execution_count": 7,
   "metadata": {},
   "outputs": [
    {
     "data": {
      "image/png": "[encoded data removed]",
      "text/plain": [
       "<Figure size 432x288 with 1 Axes>"
      ]
     },
     "metadata": {
      "needs_background": "light"
     },
     "output_type": "display_data"
    }
   ],
   "source": [
    "n, bins, patches = plt.hist(train_df[\"similarity\"], bins='auto', color='#0504aa',\n",
    "                            alpha=0.7, rwidth=0.85)\n",
    "plt.xlabel('Similarity score')\n",
    "plt.ylabel('Frequency')\n",
    "plt.title('Plot for similarity-frequency for training data')\n",
    "plt.xlim(0, max(train_df['similarity']))\n",
    "plt.ylim(100, 750)\n",
    "#plt.grid(True)\n",
    "plt.show()\n"
   ]
  },
  {
   "cell_type": "code",
   "execution_count": 8,
   "metadata": {},
   "outputs": [
    {
     "data": {
      "text/html": [
       "<div>\n",
       "<style scoped>\n",
       "    .dataframe tbody tr th:only-of-type {\n",
       "        vertical-align: middle;\n",
       "    }\n",
       "\n",
       "    .dataframe tbody tr th {\n",
       "        vertical-align: top;\n",
       "    }\n",
       "\n",
       "    .dataframe thead th {\n",
       "        text-align: right;\n",
       "    }\n",
       "</style>\n",
       "<table border=\"1\" class=\"dataframe\">\n",
       "  <thead>\n",
       "    <tr style=\"text-align: right;\">\n",
       "      <th></th>\n",
       "      <th>similarity</th>\n",
       "      <th>sen1</th>\n",
       "      <th>sen2</th>\n",
       "    </tr>\n",
       "  </thead>\n",
       "  <tbody>\n",
       "    <tr>\n",
       "      <th>0</th>\n",
       "      <td>5.00</td>\n",
       "      <td>A plane is taking off.</td>\n",
       "      <td>An air plane is taking off.</td>\n",
       "    </tr>\n",
       "    <tr>\n",
       "      <th>1</th>\n",
       "      <td>3.80</td>\n",
       "      <td>A man is playing a large flute.</td>\n",
       "      <td>A man is playing a flute.</td>\n",
       "    </tr>\n",
       "    <tr>\n",
       "      <th>2</th>\n",
       "      <td>3.80</td>\n",
       "      <td>A man is spreading shreded cheese on a pizza.</td>\n",
       "      <td>A man is spreading shredded cheese on an uncoo...</td>\n",
       "    </tr>\n",
       "    <tr>\n",
       "      <th>3</th>\n",
       "      <td>2.60</td>\n",
       "      <td>Three men are playing chess.</td>\n",
       "      <td>Two men are playing chess.</td>\n",
       "    </tr>\n",
       "    <tr>\n",
       "      <th>4</th>\n",
       "      <td>4.25</td>\n",
       "      <td>A man is playing the cello.</td>\n",
       "      <td>A man seated is playing the cello.</td>\n",
       "    </tr>\n",
       "  </tbody>\n",
       "</table>\n",
       "</div>"
      ],
      "text/plain": [
       "   similarity                                           sen1  \\\n",
       "0        5.00                         A plane is taking off.   \n",
       "1        3.80                A man is playing a large flute.   \n",
       "2        3.80  A man is spreading shreded cheese on a pizza.   \n",
       "3        2.60                   Three men are playing chess.   \n",
       "4        4.25                    A man is playing the cello.   \n",
       "\n",
       "                                                sen2  \n",
       "0                        An air plane is taking off.  \n",
       "1                          A man is playing a flute.  \n",
       "2  A man is spreading shredded cheese on an uncoo...  \n",
       "3                         Two men are playing chess.  \n",
       "4                 A man seated is playing the cello.  "
      ]
     },
     "execution_count": 8,
     "metadata": {},
     "output_type": "execute_result"
    }
   ],
   "source": [
    "train_df.head(5)"
   ]
  },
  {
   "cell_type": "code",
   "execution_count": 9,
   "metadata": {},
   "outputs": [],
   "source": [
    "train_df = train_df.dropna(subset=[\"sen1\",\"sen2\"])"
   ]
  },
  {
   "cell_type": "markdown",
   "metadata": {},
   "source": [
    "Importing Contractions"
   ]
  },
  {
   "cell_type": "code",
   "execution_count": 11,
   "metadata": {},
   "outputs": [],
   "source": [
    "from pycontractions import Contractions\n",
    "cont = Contractions(api_key=\"glove-twitter-100\")\n",
    "cont.load_models()"
   ]
  },
  {
   "cell_type": "markdown",
   "metadata": {},
   "source": [
    "Defining Function for Expanding contractions"
   ]
  },
  {
   "cell_type": "code",
   "execution_count": 12,
   "metadata": {},
   "outputs": [],
   "source": [
    "def contraction_removal(record):\n",
    "    global cont\n",
    "    corrections = list(cont.expand_texts([record[\"sen1\"]], precise=True))\n",
    "    record[\"sen1\"] = corrections[0]\n",
    "    corrections = list(cont.expand_texts([record[\"sen2\"]], precise=True))\n",
    "    record[\"sen2\"] = corrections[0]\n",
    "    return record"
   ]
  },
  {
   "cell_type": "code",
   "execution_count": 13,
   "metadata": {},
   "outputs": [],
   "source": [
    "train_df = train_df.apply(contraction_removal,axis=1)"
   ]
  },
  {
   "cell_type": "markdown",
   "metadata": {},
   "source": [
    "Applying the wrapper function to spell check the words and update the spellings accordingly"
   ]
  },
  {
   "cell_type": "code",
   "execution_count": null,
   "metadata": {},
   "outputs": [],
   "source": [
    "train_df = train_df.apply(spell_check_eng,axis=1)"
   ]
  },
  {
   "cell_type": "markdown",
   "metadata": {},
   "source": [
    "Importing segmenter function from ekphrasis package\n"
   ]
  },
  {
   "cell_type": "code",
   "execution_count": null,
   "metadata": {},
   "outputs": [],
   "source": [
    "from ekphrasis.classes.segmenter import Segmenter\n"
   ]
  },
  {
   "cell_type": "markdown",
   "metadata": {},
   "source": [
    "Segmenter using the word statistics from english Wikipedia"
   ]
  },
  {
   "cell_type": "code",
   "execution_count": null,
   "metadata": {},
   "outputs": [],
   "source": [
    "seg_eng = Segmenter(corpus=\"english\")"
   ]
  },
  {
   "cell_type": "markdown",
   "metadata": {},
   "source": [
    "Defining word segmentation function"
   ]
  },
  {
   "cell_type": "code",
   "execution_count": null,
   "metadata": {},
   "outputs": [],
   "source": [
    "def word_segmentation(record):\n",
    "    global seg_eng\n",
    "    record[\"sen1\"] = seg_eng.segment(record[\"sen1\"])\n",
    "    record[\"sen2\"] = seg_eng.segment(record[\"sen2\"])\n",
    "    return record"
   ]
  },
  {
   "cell_type": "code",
   "execution_count": null,
   "metadata": {},
   "outputs": [],
   "source": [
    "train_df = train_df.apply(word_segmentation, axis = 1)"
   ]
  },
  {
   "cell_type": "markdown",
   "metadata": {},
   "source": [
    "Defining function to remove punctuations"
   ]
  },
  {
   "cell_type": "code",
   "execution_count": null,
   "metadata": {},
   "outputs": [],
   "source": [
    "def punc_remove_wrapper(record, maxlen=None):\n",
    "    puncts = [\n",
    "         ',', '.', '\"', ':', ')', '(', '-', '!', '?', '|', ';', \"'\", '$', '&',\n",
    "        '/', '[', ']', '>', '%', '=', '#', '*', '+', '\\\\', '•',  '~', '@', '£',\n",
    "        '·', '_', '{', '}', '©', '^', '®', '`',  '<', '→', '°', '€', '™', '›',\n",
    "        '♥', '←', '×', '§', '″', '′', 'Â', '█', '½', 'à', '…', '“', '★', '”',\n",
    "        '–', '●', 'â', '►', '−', '¢', '²', '¬', '░', '¶', '↑', '±', '¿', '▾',\n",
    "        '═', '¦', '║', '―', '¥', '▓', '—', '‹', '─', '▒', '：', '¼', '⊕', '▼',\n",
    "        '▪', '†', '■', '’', '▀', '¨', '▄', '♫', '☆', 'é', '¯', '♦', '¤', '▲',\n",
    "        'è', '¸', '¾', 'Ã', '⋅', '‘', '∞', '∙', '）', '↓', '、', '│', '（', '»',\n",
    "        '，', '♪', '╩', '╚', '³', '・', '╦', '╣', '╔', '╗', '▬', '❤', 'ï', 'Ø',\n",
    "        '¹', '≤', '‡', '√', '«', '»', '´', 'º', '¾', '¡', '§', '£', '₤']\n",
    "    no_punc_sen1 = record[\"sen1\"]\n",
    "    no_punc_sen2 = record[\"sen2\"]\n",
    "    for punct in puncts:   \n",
    "        if punct in record[\"sen1\"] or punct in record[\"sen2\"]:\n",
    "            no_punc_sen1= no_punc_sen1.replace(punct, '')\n",
    "            no_punc_sen2 = no_punc_sen2.replace(punct,'')\n",
    "    record[\"sen1\"] = no_punc_sen1\n",
    "    record[\"sen2\"] = no_punc_sen2\n",
    "    return record"
   ]
  },
  {
   "cell_type": "code",
   "execution_count": null,
   "metadata": {},
   "outputs": [],
   "source": [
    "train_df = train_df.apply(punc_remove_wrapper, axis = 1)"
   ]
  },
  {
   "cell_type": "code",
   "execution_count": null,
   "metadata": {},
   "outputs": [],
   "source": [
    "stop_words = set(stopwords.words('english'))"
   ]
  },
  {
   "cell_type": "code",
   "execution_count": null,
   "metadata": {},
   "outputs": [],
   "source": [
    "train_df[\"sen1\"] = train_df[\"sen1\"].apply(lambda x: \" \".join([w for w in str(x).lower().split() if w not in stop_words]))\n",
    "train_df[\"sen2\"] = train_df[\"sen2\"].apply(lambda x: \" \".join([w for w in str(x).lower().split() if w not in stop_words]))"
   ]
  },
  {
   "cell_type": "code",
   "execution_count": null,
   "metadata": {},
   "outputs": [],
   "source": [
    "train_df.head(5)"
   ]
  },
  {
   "cell_type": "markdown",
   "metadata": {},
   "source": [
    "Wrapper function to tokenize data in sentence1 and sentence2"
   ]
  },
  {
   "cell_type": "code",
   "execution_count": null,
   "metadata": {},
   "outputs": [],
   "source": [
    "def tokenize_wrapper(record):\n",
    "    sen1_tokens = word_tokenize(record[\"sen1\"])\n",
    "    sen2_tokens = word_tokenize(record[\"sen2\"])\n",
    "    record[\"sen1_tokens\"]= sen1_tokens\n",
    "    record[\"sen2_tokens\"] = sen2_tokens\n",
    "    return record"
   ]
  },
  {
   "cell_type": "code",
   "execution_count": null,
   "metadata": {},
   "outputs": [],
   "source": [
    "train_df[\"sen1_tokens\"] = \"\""
   ]
  },
  {
   "cell_type": "code",
   "execution_count": null,
   "metadata": {},
   "outputs": [],
   "source": [
    "train_df[\"sen2_tokens\"] = \"\""
   ]
  },
  {
   "cell_type": "code",
   "execution_count": null,
   "metadata": {},
   "outputs": [],
   "source": [
    "train_df = train_df.apply(tokenize_wrapper, axis=1)"
   ]
  },
  {
   "cell_type": "code",
   "execution_count": null,
   "metadata": {},
   "outputs": [],
   "source": []
  }
 ],
 "metadata": {
  "kernelspec": {
   "display_name": "Python 3",
   "language": "python",
   "name": "python3"
  },
  "language_info": {
   "codemirror_mode": {
    "name": "ipython",
    "version": 3
   },
   "file_extension": ".py",
   "mimetype": "text/x-python",
   "name": "python",
   "nbconvert_exporter": "python",
   "pygments_lexer": "ipython3",
   "version": "3.8.3"
  }
 },
 "nbformat": 4,
 "nbformat_minor": 4
}
