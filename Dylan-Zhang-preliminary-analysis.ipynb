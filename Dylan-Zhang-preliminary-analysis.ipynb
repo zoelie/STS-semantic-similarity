{
 "cells": [
  {
   "cell_type": "code",
   "execution_count": 233,
   "metadata": {
    "scrolled": true
   },
   "outputs": [],
   "source": [
    "import numpy as np\n",
    "import matplotlib.pyplot as plt\n",
    "import pandas as pd\n",
    "from sklearn.preprocessing import LabelEncoder\n",
    "from collections import Counter\n",
    "\n"
   ]
  },
  {
   "cell_type": "code",
   "execution_count": 234,
   "metadata": {
    "scrolled": true
   },
   "outputs": [
    {
     "name": "stdout",
     "output_type": "stream",
     "text": [
      "                                      Sentence_1  \\\n",
      "0                         A plane is taking off.   \n",
      "1                A man is playing a large flute.   \n",
      "2  A man is spreading shreded cheese on a pizza.   \n",
      "3                   Three men are playing chess.   \n",
      "4                    A man is playing the cello.   \n",
      "\n",
      "                                                  Sentence_2  \n",
      "0                               An air plane is taking off.   \n",
      "1                                 A man is playing a flute.   \n",
      "2  A man is spreading shredded cheese on an uncooked pizza.   \n",
      "3                                Two men are playing chess.   \n",
      "4                        A man seated is playing the cello.   \n"
     ]
    }
   ],
   "source": [
    "# Read training data\n",
    "sts_train = open('/Users/dz/Desktop/MSCourses/CMPE255DataMining/Project/datasets/sts-train.csv', 'r')\n",
    "\n",
    "new_sts_train = []\n",
    "\n",
    "for line in sts_train:\n",
    "    num_strings = line.split('\\t')\n",
    "    numbers = (n for n in num_strings)\n",
    "    new_sts_train.append(numbers)\n",
    "\n",
    "# Create columns for each elements\n",
    "new_sts_train = pd.DataFrame(new_sts_train, columns = ['Col1','Col2','Col3','Col4','Col5','Sentence_1','Sentence_2','Col8','Col9'])\n",
    "# Drop redundancy columns\n",
    "new_sts_train.drop(columns = ['Col1','Col2','Col3','Col4','Col5','Col8','Col9'], inplace = True)\n",
    "# Display fully sentence in the column\n",
    "pd.set_option('display.max_colwidth', None)\n",
    "# Clean data\n",
    "new_sts_train['Sentence_2'].replace('\\n', ' ', regex = True, inplace = True)\n",
    "\n",
    "print (new_sts_train.head())    \n"
   ]
  },
  {
   "cell_type": "code",
   "execution_count": 241,
   "metadata": {
    "scrolled": false
   },
   "outputs": [
    {
     "name": "stdout",
     "output_type": "stream",
     "text": [
      "A man is playing a guitar.      16\n",
      "A woman is slicing an onion.     8\n",
      "A man is playing the guitar.     7\n",
      "A man is playing guitar.         7\n",
      "A woman is peeling a potato.     7\n",
      "Name: Sentence_1, dtype: int64\n"
     ]
    },
    {
     "data": {
      "text/plain": [
       "<matplotlib.axes._subplots.AxesSubplot at 0x7fc1dbe834c0>"
      ]
     },
     "execution_count": 241,
     "metadata": {},
     "output_type": "execute_result"
    },
    {
     "data": {
      "image/png": "[encoded data removed]",
      "text/plain": [
       "<Figure size 432x288 with 1 Axes>"
      ]
     },
     "metadata": {},
     "output_type": "display_data"
    }
   ],
   "source": [
    "sen_fre1 = new_sts_train['Sentence_1'].value_counts().head()\n",
    "print (sen_fre1)\n",
    "sen_fre1.plot(kind=\"pie\", title='Top 5 most counted in Sentense_1 in training dataset', autopct='%.2f')"
   ]
  },
  {
   "cell_type": "code",
   "execution_count": 218,
   "metadata": {},
   "outputs": [
    {
     "data": {
      "text/plain": [
       "0"
      ]
     },
     "execution_count": 218,
     "metadata": {},
     "output_type": "execute_result"
    }
   ],
   "source": [
    "# Check and count the sum of Null or NaN value in each column. If print 0, means No null or nan value in column\n",
    "new_sts_train['Sentence_1'].isnull().sum()"
   ]
  },
  {
   "cell_type": "code",
   "execution_count": 177,
   "metadata": {},
   "outputs": [
    {
     "data": {
      "text/plain": [
       "0"
      ]
     },
     "execution_count": 177,
     "metadata": {},
     "output_type": "execute_result"
    }
   ],
   "source": [
    "new_sts_train['Sentence_2'].isnull().sum()"
   ]
  },
  {
   "cell_type": "code",
   "execution_count": 178,
   "metadata": {
    "scrolled": true
   },
   "outputs": [
    {
     "data": {
      "text/html": [
       "<div>\n",
       "<style scoped>\n",
       "    .dataframe tbody tr th:only-of-type {\n",
       "        vertical-align: middle;\n",
       "    }\n",
       "\n",
       "    .dataframe tbody tr th {\n",
       "        vertical-align: top;\n",
       "    }\n",
       "\n",
       "    .dataframe thead th {\n",
       "        text-align: right;\n",
       "    }\n",
       "</style>\n",
       "<table border=\"1\" class=\"dataframe\">\n",
       "  <thead>\n",
       "    <tr style=\"text-align: right;\">\n",
       "      <th></th>\n",
       "      <th>Sentence_1</th>\n",
       "      <th>Sentence_2</th>\n",
       "    </tr>\n",
       "  </thead>\n",
       "  <tbody>\n",
       "    <tr>\n",
       "      <th>count</th>\n",
       "      <td>5749</td>\n",
       "      <td>5749</td>\n",
       "    </tr>\n",
       "    <tr>\n",
       "      <th>unique</th>\n",
       "      <td>5436</td>\n",
       "      <td>5426</td>\n",
       "    </tr>\n",
       "    <tr>\n",
       "      <th>top</th>\n",
       "      <td>A man is playing a guitar.</td>\n",
       "      <td>A man is playing a guitar.</td>\n",
       "    </tr>\n",
       "    <tr>\n",
       "      <th>freq</th>\n",
       "      <td>16</td>\n",
       "      <td>23</td>\n",
       "    </tr>\n",
       "  </tbody>\n",
       "</table>\n",
       "</div>"
      ],
      "text/plain": [
       "                        Sentence_1                   Sentence_2\n",
       "count                         5749                         5749\n",
       "unique                        5436                         5426\n",
       "top     A man is playing a guitar.  A man is playing a guitar. \n",
       "freq                            16                           23"
      ]
     },
     "execution_count": 178,
     "metadata": {},
     "output_type": "execute_result"
    }
   ],
   "source": [
    "# Statistics data, which are strings, with count, unique, top, and freq\n",
    "new_sts_train.describe()"
   ]
  },
  {
   "cell_type": "code",
   "execution_count": 192,
   "metadata": {},
   "outputs": [
    {
     "name": "stdout",
     "output_type": "stream",
     "text": [
      "    Sentence_1  Sentence_2\n",
      "0           82          80\n",
      "1           51          44\n",
      "2           69          78\n",
      "3           29          10\n",
      "4            9          19\n",
      "..         ...         ...\n",
      "95          85          27\n",
      "96          97          70\n",
      "97          44          61\n",
      "98          17          14\n",
      "99          79          52\n",
      "\n",
      "[100 rows x 2 columns]\n"
     ]
    }
   ],
   "source": [
    "# Convert string to integer in training dataset\n",
    "le = LabelEncoder()\n",
    "for i in new_sts_train:\n",
    "    new_sts_train[i] = le.fit_transform(new_sts_train[i])\n",
    "    \n",
    "print (new_sts_train)"
   ]
  },
  {
   "cell_type": "code",
   "execution_count": 65,
   "metadata": {},
   "outputs": [
    {
     "data": {
      "text/html": [
       "<div>\n",
       "<style scoped>\n",
       "    .dataframe tbody tr th:only-of-type {\n",
       "        vertical-align: middle;\n",
       "    }\n",
       "\n",
       "    .dataframe tbody tr th {\n",
       "        vertical-align: top;\n",
       "    }\n",
       "\n",
       "    .dataframe thead th {\n",
       "        text-align: right;\n",
       "    }\n",
       "</style>\n",
       "<table border=\"1\" class=\"dataframe\">\n",
       "  <thead>\n",
       "    <tr style=\"text-align: right;\">\n",
       "      <th></th>\n",
       "      <th>Sentence_1</th>\n",
       "      <th>Sentence_2</th>\n",
       "    </tr>\n",
       "  </thead>\n",
       "  <tbody>\n",
       "    <tr>\n",
       "      <th>count</th>\n",
       "      <td>5749.000000</td>\n",
       "      <td>5749.000000</td>\n",
       "    </tr>\n",
       "    <tr>\n",
       "      <th>mean</th>\n",
       "      <td>2677.384067</td>\n",
       "      <td>2669.473648</td>\n",
       "    </tr>\n",
       "    <tr>\n",
       "      <th>std</th>\n",
       "      <td>1579.467531</td>\n",
       "      <td>1573.739696</td>\n",
       "    </tr>\n",
       "    <tr>\n",
       "      <th>min</th>\n",
       "      <td>0.000000</td>\n",
       "      <td>0.000000</td>\n",
       "    </tr>\n",
       "    <tr>\n",
       "      <th>25%</th>\n",
       "      <td>1279.000000</td>\n",
       "      <td>1285.000000</td>\n",
       "    </tr>\n",
       "    <tr>\n",
       "      <th>50%</th>\n",
       "      <td>2655.000000</td>\n",
       "      <td>2642.000000</td>\n",
       "    </tr>\n",
       "    <tr>\n",
       "      <th>75%</th>\n",
       "      <td>4056.000000</td>\n",
       "      <td>4040.000000</td>\n",
       "    </tr>\n",
       "    <tr>\n",
       "      <th>max</th>\n",
       "      <td>5435.000000</td>\n",
       "      <td>5425.000000</td>\n",
       "    </tr>\n",
       "  </tbody>\n",
       "</table>\n",
       "</div>"
      ],
      "text/plain": [
       "        Sentence_1   Sentence_2\n",
       "count  5749.000000  5749.000000\n",
       "mean   2677.384067  2669.473648\n",
       "std    1579.467531  1573.739696\n",
       "min       0.000000     0.000000\n",
       "25%    1279.000000  1285.000000\n",
       "50%    2655.000000  2642.000000\n",
       "75%    4056.000000  4040.000000\n",
       "max    5435.000000  5425.000000"
      ]
     },
     "execution_count": 65,
     "metadata": {},
     "output_type": "execute_result"
    }
   ],
   "source": [
    "# Statistics data, which convert string to integer, with count, unique, top, and freq in training dataset\n",
    "new_sts_train.describe()"
   ]
  },
  {
   "cell_type": "code",
   "execution_count": 52,
   "metadata": {},
   "outputs": [
    {
     "name": "stdout",
     "output_type": "stream",
     "text": [
      "                                      Sentence_1  \\\n",
      "0                    A girl is styling her hair.   \n",
      "1       A group of men play soccer on the beach.   \n",
      "2  One woman is measuring another woman's ankle.   \n",
      "3                A man is cutting up a cucumber.   \n",
      "4                       A man is playing a harp.   \n",
      "\n",
      "                                          Sentence_2  \n",
      "0                      A girl is brushing her hair.   \n",
      "1  A group of boys are playing soccer on the beach.   \n",
      "2           A woman measures another woman's ankle.   \n",
      "3                      A man is slicing a cucumber.   \n",
      "4                      A man is playing a keyboard.   \n"
     ]
    }
   ],
   "source": [
    "# Read testing data\n",
    "sts_test = open('/Users/dz/Desktop/MSCourses/CMPE255DataMining/Project/datasets/sts-test.csv', 'r')\n",
    "\n",
    "new_sts_test = []\n",
    "\n",
    "for line in sts_test:\n",
    "    num_strings = line.split('\\t')\n",
    "    numbers = (n for n in num_strings)\n",
    "    new_sts_test.append(numbers)\n",
    "\n",
    "\n",
    "# Create columns for each elements\n",
    "new_sts_test = pd.DataFrame(new_sts_test, columns = ['Col1','Col2','Col3','Col4','Col5','Sentence_1','Sentence_2','Col8','Col9'])\n",
    "# Drop redundancy columns\n",
    "new_sts_test.drop(columns = ['Col1','Col2','Col3','Col4','Col5','Col8','Col9'], inplace = True)\n",
    "# Display fully sentence in the column\n",
    "pd.set_option('display.max_colwidth', None)\n",
    "# Clean data\n",
    "new_sts_test['Sentence_2'].replace('\\n', ' ', regex = True, inplace = True)\n",
    "print (new_sts_test.head())    "
   ]
  },
  {
   "cell_type": "code",
   "execution_count": 239,
   "metadata": {
    "scrolled": false
   },
   "outputs": [
    {
     "name": "stdout",
     "output_type": "stream",
     "text": [
      "A man is playing a guitar.                                                        9\n",
      "You just have to base your answer on what you do know, which is what you want.    9\n",
      "It depends on what you want to do next, and where you want to do it.              9\n",
      "It's not a good idea.                                                             7\n",
      "I have the same thing.                                                            5\n",
      "Name: Sentence_1, dtype: int64\n"
     ]
    },
    {
     "data": {
      "text/plain": [
       "<matplotlib.axes._subplots.AxesSubplot at 0x7fc1e9f4d5b0>"
      ]
     },
     "execution_count": 239,
     "metadata": {},
     "output_type": "execute_result"
    },
    {
     "data": {
      "image/png": "[encoded data removed]",
      "text/plain": [
       "<Figure size 432x288 with 1 Axes>"
      ]
     },
     "metadata": {},
     "output_type": "display_data"
    }
   ],
   "source": [
    "sen_fre2 = new_sts_test['Sentence_1'].value_counts().head()\n",
    "print (sen_fre2)\n",
    "sen_fre2.plot(kind=\"pie\", title='Top 5 most counted in Sentense_1 in testing dataset',autopct='%.2f')"
   ]
  },
  {
   "cell_type": "code",
   "execution_count": 36,
   "metadata": {},
   "outputs": [
    {
     "data": {
      "text/plain": [
       "0"
      ]
     },
     "execution_count": 36,
     "metadata": {},
     "output_type": "execute_result"
    }
   ],
   "source": [
    "# Check and count the sum of Null or NaN value in each column. If print 0, means No null or nan value in column\n",
    "new_sts_test['Sentence_1'].isnull().sum()"
   ]
  },
  {
   "cell_type": "code",
   "execution_count": 37,
   "metadata": {},
   "outputs": [
    {
     "data": {
      "text/plain": [
       "0"
      ]
     },
     "execution_count": 37,
     "metadata": {},
     "output_type": "execute_result"
    }
   ],
   "source": [
    "new_sts_test['Sentence_2'].isnull().sum()"
   ]
  },
  {
   "cell_type": "code",
   "execution_count": 38,
   "metadata": {
    "scrolled": false
   },
   "outputs": [
    {
     "data": {
      "text/html": [
       "<div>\n",
       "<style scoped>\n",
       "    .dataframe tbody tr th:only-of-type {\n",
       "        vertical-align: middle;\n",
       "    }\n",
       "\n",
       "    .dataframe tbody tr th {\n",
       "        vertical-align: top;\n",
       "    }\n",
       "\n",
       "    .dataframe thead th {\n",
       "        text-align: right;\n",
       "    }\n",
       "</style>\n",
       "<table border=\"1\" class=\"dataframe\">\n",
       "  <thead>\n",
       "    <tr style=\"text-align: right;\">\n",
       "      <th></th>\n",
       "      <th>Sentence_1</th>\n",
       "      <th>Sentence_2</th>\n",
       "    </tr>\n",
       "  </thead>\n",
       "  <tbody>\n",
       "    <tr>\n",
       "      <th>count</th>\n",
       "      <td>1379</td>\n",
       "      <td>1379</td>\n",
       "    </tr>\n",
       "    <tr>\n",
       "      <th>unique</th>\n",
       "      <td>1256</td>\n",
       "      <td>1337</td>\n",
       "    </tr>\n",
       "    <tr>\n",
       "      <th>top</th>\n",
       "      <td>A man is playing a guitar.</td>\n",
       "      <td>A man is playing a guitar.</td>\n",
       "    </tr>\n",
       "    <tr>\n",
       "      <th>freq</th>\n",
       "      <td>9</td>\n",
       "      <td>4</td>\n",
       "    </tr>\n",
       "  </tbody>\n",
       "</table>\n",
       "</div>"
      ],
      "text/plain": [
       "                        Sentence_1                   Sentence_2\n",
       "count                         1379                         1379\n",
       "unique                        1256                         1337\n",
       "top     A man is playing a guitar.  A man is playing a guitar. \n",
       "freq                             9                            4"
      ]
     },
     "execution_count": 38,
     "metadata": {},
     "output_type": "execute_result"
    }
   ],
   "source": [
    "# Statistics data, which are strings, with count, unique, top, and freq in test dataset\n",
    "new_sts_test.describe()"
   ]
  },
  {
   "cell_type": "code",
   "execution_count": 39,
   "metadata": {},
   "outputs": [
    {
     "name": "stdout",
     "output_type": "stream",
     "text": [
      "      Sentence_1  Sentence_2\n",
      "0            130         107\n",
      "1            141         129\n",
      "2            773         400\n",
      "3            200         250\n",
      "4            227         229\n",
      "...          ...         ...\n",
      "1374         788         838\n",
      "1375         647        1207\n",
      "1376         586         731\n",
      "1377         758         773\n",
      "1378         868         794\n",
      "\n",
      "[1379 rows x 2 columns]\n"
     ]
    }
   ],
   "source": [
    "# Convert string to integer in testing dataset\n",
    "le = LabelEncoder()\n",
    "for i in new_sts_test:\n",
    "    new_sts_test[i] = le.fit_transform(new_sts_test[i])\n",
    "    \n",
    "print (new_sts_test)"
   ]
  }
 ],
 "metadata": {
  "kernelspec": {
   "display_name": "Python 3",
   "language": "python",
   "name": "python3"
  },
  "language_info": {
   "codemirror_mode": {
    "name": "ipython",
    "version": 3
   },
   "file_extension": ".py",
   "mimetype": "text/x-python",
   "name": "python",
   "nbconvert_exporter": "python",
   "pygments_lexer": "ipython3",
   "version": "3.8.3"
  }
 },
 "nbformat": 4,
 "nbformat_minor": 4
}
