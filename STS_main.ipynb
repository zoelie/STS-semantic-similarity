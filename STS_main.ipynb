{
 "cells": [
  {
   "cell_type": "code",
   "execution_count": 1,
   "metadata": {},
   "outputs": [],
   "source": [
    "import numpy as np\n",
    "import matplotlib.pyplot as plt\n",
    "import pandas as pd\n",
    "from sklearn.preprocessing import LabelEncoder\n"
   ]
  },
  {
   "cell_type": "code",
   "execution_count": 2,
   "metadata": {
    "scrolled": true
   },
   "outputs": [
    {
     "name": "stdout",
     "output_type": "stream",
     "text": [
      "                                      Sentence_1  \\\n",
      "0                         A plane is taking off.   \n",
      "1                A man is playing a large flute.   \n",
      "2  A man is spreading shreded cheese on a pizza.   \n",
      "3                   Three men are playing chess.   \n",
      "4                    A man is playing the cello.   \n",
      "\n",
      "                                                  Sentence_2  \n",
      "0                               An air plane is taking off.   \n",
      "1                                 A man is playing a flute.   \n",
      "2  A man is spreading shredded cheese on an uncooked pizza.   \n",
      "3                                Two men are playing chess.   \n",
      "4                        A man seated is playing the cello.   \n"
     ]
    }
   ],
   "source": [
    "# Read training data\n",
    "sts_train = open('/Users/dz/Desktop/MSCourses/CMPE255DataMining/Project/datasets/sts-train.csv', 'r')\n",
    "\n",
    "new_sts_train = []\n",
    "\n",
    "for line in sts_train:\n",
    "    num_strings = line.split('\\t')\n",
    "    numbers = (n for n in num_strings)\n",
    "    new_sts_train.append(numbers)\n",
    "\n",
    "# Create columns for each elements\n",
    "new_sts_train = pd.DataFrame(new_sts_train, columns = ['Col1','Col2','Col3','Col4','Col5','Sentence_1','Sentence_2','Col8','Col9'])\n",
    "# Drop redundancy columns\n",
    "new_sts_train.drop(columns = ['Col1','Col2','Col3','Col4','Col5','Col8','Col9'], inplace = True)\n",
    "# Display fully sentence in the column\n",
    "pd.set_option('display.max_colwidth', None)\n",
    "# Clean data\n",
    "new_sts_train['Sentence_2'].replace('\\n', ' ', regex = True, inplace = True)\n",
    "\n",
    "print (new_sts_train.head())    \n"
   ]
  },
  {
   "cell_type": "code",
   "execution_count": 3,
   "metadata": {},
   "outputs": [
    {
     "data": {
      "text/plain": [
       "0"
      ]
     },
     "execution_count": 3,
     "metadata": {},
     "output_type": "execute_result"
    }
   ],
   "source": [
    "# Check and count the sum of Null or NaN value in each column. If print 0, means No null or nan value in column\n",
    "new_sts_train['Sentence_1'].isnull().sum()"
   ]
  },
  {
   "cell_type": "code",
   "execution_count": 4,
   "metadata": {},
   "outputs": [
    {
     "data": {
      "text/plain": [
       "0"
      ]
     },
     "execution_count": 4,
     "metadata": {},
     "output_type": "execute_result"
    }
   ],
   "source": [
    "new_sts_train['Sentence_2'].isnull().sum()"
   ]
  },
  {
   "cell_type": "code",
   "execution_count": 5,
   "metadata": {},
   "outputs": [
    {
     "data": {
      "text/html": [
       "<div>\n",
       "<style scoped>\n",
       "    .dataframe tbody tr th:only-of-type {\n",
       "        vertical-align: middle;\n",
       "    }\n",
       "\n",
       "    .dataframe tbody tr th {\n",
       "        vertical-align: top;\n",
       "    }\n",
       "\n",
       "    .dataframe thead th {\n",
       "        text-align: right;\n",
       "    }\n",
       "</style>\n",
       "<table border=\"1\" class=\"dataframe\">\n",
       "  <thead>\n",
       "    <tr style=\"text-align: right;\">\n",
       "      <th></th>\n",
       "      <th>Sentence_1</th>\n",
       "      <th>Sentence_2</th>\n",
       "    </tr>\n",
       "  </thead>\n",
       "  <tbody>\n",
       "    <tr>\n",
       "      <th>count</th>\n",
       "      <td>5749</td>\n",
       "      <td>5749</td>\n",
       "    </tr>\n",
       "    <tr>\n",
       "      <th>unique</th>\n",
       "      <td>5436</td>\n",
       "      <td>5426</td>\n",
       "    </tr>\n",
       "    <tr>\n",
       "      <th>top</th>\n",
       "      <td>A man is playing a guitar.</td>\n",
       "      <td>A man is playing a guitar.</td>\n",
       "    </tr>\n",
       "    <tr>\n",
       "      <th>freq</th>\n",
       "      <td>16</td>\n",
       "      <td>23</td>\n",
       "    </tr>\n",
       "  </tbody>\n",
       "</table>\n",
       "</div>"
      ],
      "text/plain": [
       "                        Sentence_1                   Sentence_2\n",
       "count                         5749                         5749\n",
       "unique                        5436                         5426\n",
       "top     A man is playing a guitar.  A man is playing a guitar. \n",
       "freq                            16                           23"
      ]
     },
     "execution_count": 5,
     "metadata": {},
     "output_type": "execute_result"
    }
   ],
   "source": [
    "# Statistics data, which are strings, with count, unique, top, and freq\n",
    "new_sts_train.describe()"
   ]
  },
  {
   "cell_type": "code",
   "execution_count": 6,
   "metadata": {},
   "outputs": [
    {
     "name": "stdout",
     "output_type": "stream",
     "text": [
      "      Sentence_1  Sentence_2\n",
      "0           1055        1595\n",
      "1            799         841\n",
      "2            872         924\n",
      "3           4510        4697\n",
      "4            812         993\n",
      "...          ...         ...\n",
      "5744        3656        3015\n",
      "5745        2056        2187\n",
      "5746        3418        3457\n",
      "5747        1888        1911\n",
      "5748        3461        4083\n",
      "\n",
      "[5749 rows x 2 columns]\n"
     ]
    }
   ],
   "source": [
    "# Convert string to integer in training dataset\n",
    "le = LabelEncoder()\n",
    "for i in new_sts_train:\n",
    "    new_sts_train[i] = le.fit_transform(new_sts_train[i])\n",
    "    \n",
    "print (new_sts_train)"
   ]
  },
  {
   "cell_type": "code",
   "execution_count": 7,
   "metadata": {},
   "outputs": [
    {
     "data": {
      "text/html": [
       "<div>\n",
       "<style scoped>\n",
       "    .dataframe tbody tr th:only-of-type {\n",
       "        vertical-align: middle;\n",
       "    }\n",
       "\n",
       "    .dataframe tbody tr th {\n",
       "        vertical-align: top;\n",
       "    }\n",
       "\n",
       "    .dataframe thead th {\n",
       "        text-align: right;\n",
       "    }\n",
       "</style>\n",
       "<table border=\"1\" class=\"dataframe\">\n",
       "  <thead>\n",
       "    <tr style=\"text-align: right;\">\n",
       "      <th></th>\n",
       "      <th>Sentence_1</th>\n",
       "      <th>Sentence_2</th>\n",
       "    </tr>\n",
       "  </thead>\n",
       "  <tbody>\n",
       "    <tr>\n",
       "      <th>count</th>\n",
       "      <td>5749.000000</td>\n",
       "      <td>5749.000000</td>\n",
       "    </tr>\n",
       "    <tr>\n",
       "      <th>mean</th>\n",
       "      <td>2677.384067</td>\n",
       "      <td>2669.473648</td>\n",
       "    </tr>\n",
       "    <tr>\n",
       "      <th>std</th>\n",
       "      <td>1579.467531</td>\n",
       "      <td>1573.739696</td>\n",
       "    </tr>\n",
       "    <tr>\n",
       "      <th>min</th>\n",
       "      <td>0.000000</td>\n",
       "      <td>0.000000</td>\n",
       "    </tr>\n",
       "    <tr>\n",
       "      <th>25%</th>\n",
       "      <td>1279.000000</td>\n",
       "      <td>1285.000000</td>\n",
       "    </tr>\n",
       "    <tr>\n",
       "      <th>50%</th>\n",
       "      <td>2655.000000</td>\n",
       "      <td>2642.000000</td>\n",
       "    </tr>\n",
       "    <tr>\n",
       "      <th>75%</th>\n",
       "      <td>4056.000000</td>\n",
       "      <td>4040.000000</td>\n",
       "    </tr>\n",
       "    <tr>\n",
       "      <th>max</th>\n",
       "      <td>5435.000000</td>\n",
       "      <td>5425.000000</td>\n",
       "    </tr>\n",
       "  </tbody>\n",
       "</table>\n",
       "</div>"
      ],
      "text/plain": [
       "        Sentence_1   Sentence_2\n",
       "count  5749.000000  5749.000000\n",
       "mean   2677.384067  2669.473648\n",
       "std    1579.467531  1573.739696\n",
       "min       0.000000     0.000000\n",
       "25%    1279.000000  1285.000000\n",
       "50%    2655.000000  2642.000000\n",
       "75%    4056.000000  4040.000000\n",
       "max    5435.000000  5425.000000"
      ]
     },
     "execution_count": 7,
     "metadata": {},
     "output_type": "execute_result"
    }
   ],
   "source": [
    "# Statistics data, which convert string to integer, with count, unique, top, and freq in training dataset\n",
    "new_sts_train.describe()"
   ]
  },
  {
   "cell_type": "code",
   "execution_count": 8,
   "metadata": {},
   "outputs": [
    {
     "name": "stdout",
     "output_type": "stream",
     "text": [
      "                                      Sentence_1  \\\n",
      "0                    A girl is styling her hair.   \n",
      "1       A group of men play soccer on the beach.   \n",
      "2  One woman is measuring another woman's ankle.   \n",
      "3                A man is cutting up a cucumber.   \n",
      "4                       A man is playing a harp.   \n",
      "\n",
      "                                          Sentence_2  \n",
      "0                      A girl is brushing her hair.   \n",
      "1  A group of boys are playing soccer on the beach.   \n",
      "2           A woman measures another woman's ankle.   \n",
      "3                      A man is slicing a cucumber.   \n",
      "4                      A man is playing a keyboard.   \n"
     ]
    }
   ],
   "source": [
    "# Read testing data\n",
    "sts_test = open('/Users/dz/Desktop/MSCourses/CMPE255DataMining/Project/datasets/sts-test.csv', 'r')\n",
    "\n",
    "new_sts_test = []\n",
    "\n",
    "for line in sts_test:\n",
    "    num_strings = line.split('\\t')\n",
    "    numbers = (n for n in num_strings)\n",
    "    new_sts_test.append(numbers)\n",
    "\n",
    "\n",
    "# Create columns for each elements\n",
    "new_sts_test = pd.DataFrame(new_sts_test, columns = ['Col1','Col2','Col3','Col4','Col5','Sentence_1','Sentence_2','Col8','Col9'])\n",
    "# Drop redundancy columns\n",
    "new_sts_test.drop(columns = ['Col1','Col2','Col3','Col4','Col5','Col8','Col9'], inplace = True)\n",
    "# Display fully sentence in the column\n",
    "pd.set_option('display.max_colwidth', None)\n",
    "# Clean data\n",
    "new_sts_test['Sentence_2'].replace('\\n', ' ', regex = True, inplace = True)\n",
    "print (new_sts_test.head())    "
   ]
  },
  {
   "cell_type": "code",
   "execution_count": 9,
   "metadata": {},
   "outputs": [
    {
     "data": {
      "text/plain": [
       "0"
      ]
     },
     "execution_count": 9,
     "metadata": {},
     "output_type": "execute_result"
    }
   ],
   "source": [
    "# Check and count the sum of Null or NaN value in each column. If print 0, means No null or nan value in column\n",
    "new_sts_test['Sentence_1'].isnull().sum()"
   ]
  },
  {
   "cell_type": "code",
   "execution_count": 10,
   "metadata": {},
   "outputs": [
    {
     "data": {
      "text/plain": [
       "0"
      ]
     },
     "execution_count": 10,
     "metadata": {},
     "output_type": "execute_result"
    }
   ],
   "source": [
    "new_sts_test['Sentence_2'].isnull().sum()"
   ]
  },
  {
   "cell_type": "code",
   "execution_count": 11,
   "metadata": {
    "scrolled": false
   },
   "outputs": [
    {
     "data": {
      "text/html": [
       "<div>\n",
       "<style scoped>\n",
       "    .dataframe tbody tr th:only-of-type {\n",
       "        vertical-align: middle;\n",
       "    }\n",
       "\n",
       "    .dataframe tbody tr th {\n",
       "        vertical-align: top;\n",
       "    }\n",
       "\n",
       "    .dataframe thead th {\n",
       "        text-align: right;\n",
       "    }\n",
       "</style>\n",
       "<table border=\"1\" class=\"dataframe\">\n",
       "  <thead>\n",
       "    <tr style=\"text-align: right;\">\n",
       "      <th></th>\n",
       "      <th>Sentence_1</th>\n",
       "      <th>Sentence_2</th>\n",
       "    </tr>\n",
       "  </thead>\n",
       "  <tbody>\n",
       "    <tr>\n",
       "      <th>count</th>\n",
       "      <td>1379</td>\n",
       "      <td>1379</td>\n",
       "    </tr>\n",
       "    <tr>\n",
       "      <th>unique</th>\n",
       "      <td>1256</td>\n",
       "      <td>1337</td>\n",
       "    </tr>\n",
       "    <tr>\n",
       "      <th>top</th>\n",
       "      <td>It depends on what you want to do next, and where you want to do it.</td>\n",
       "      <td>A man is playing a guitar.</td>\n",
       "    </tr>\n",
       "    <tr>\n",
       "      <th>freq</th>\n",
       "      <td>9</td>\n",
       "      <td>4</td>\n",
       "    </tr>\n",
       "  </tbody>\n",
       "</table>\n",
       "</div>"
      ],
      "text/plain": [
       "                                                                  Sentence_1  \\\n",
       "count                                                                   1379   \n",
       "unique                                                                  1256   \n",
       "top     It depends on what you want to do next, and where you want to do it.   \n",
       "freq                                                                       9   \n",
       "\n",
       "                         Sentence_2  \n",
       "count                          1379  \n",
       "unique                         1337  \n",
       "top     A man is playing a guitar.   \n",
       "freq                              4  "
      ]
     },
     "execution_count": 11,
     "metadata": {},
     "output_type": "execute_result"
    }
   ],
   "source": [
    "# Statistics data, which are strings, with count, unique, top, and freq in test dataset\n",
    "new_sts_test.describe()"
   ]
  },
  {
   "cell_type": "code",
   "execution_count": 12,
   "metadata": {},
   "outputs": [
    {
     "name": "stdout",
     "output_type": "stream",
     "text": [
      "      Sentence_1  Sentence_2\n",
      "0            130         107\n",
      "1            141         129\n",
      "2            773         400\n",
      "3            200         250\n",
      "4            227         229\n",
      "...          ...         ...\n",
      "1374         788         838\n",
      "1375         647        1207\n",
      "1376         586         731\n",
      "1377         758         773\n",
      "1378         868         794\n",
      "\n",
      "[1379 rows x 2 columns]\n"
     ]
    }
   ],
   "source": [
    "# Convert string to integer in testing dataset\n",
    "le = LabelEncoder()\n",
    "for i in new_sts_test:\n",
    "    new_sts_test[i] = le.fit_transform(new_sts_test[i])\n",
    "    \n",
    "print (new_sts_test)"
   ]
  },
  {
   "cell_type": "code",
   "execution_count": 13,
   "metadata": {},
   "outputs": [
    {
     "data": {
      "text/html": [
       "<div>\n",
       "<style scoped>\n",
       "    .dataframe tbody tr th:only-of-type {\n",
       "        vertical-align: middle;\n",
       "    }\n",
       "\n",
       "    .dataframe tbody tr th {\n",
       "        vertical-align: top;\n",
       "    }\n",
       "\n",
       "    .dataframe thead th {\n",
       "        text-align: right;\n",
       "    }\n",
       "</style>\n",
       "<table border=\"1\" class=\"dataframe\">\n",
       "  <thead>\n",
       "    <tr style=\"text-align: right;\">\n",
       "      <th></th>\n",
       "      <th>Sentence_1</th>\n",
       "      <th>Sentence_2</th>\n",
       "    </tr>\n",
       "  </thead>\n",
       "  <tbody>\n",
       "    <tr>\n",
       "      <th>count</th>\n",
       "      <td>1379.000000</td>\n",
       "      <td>1379.000000</td>\n",
       "    </tr>\n",
       "    <tr>\n",
       "      <th>mean</th>\n",
       "      <td>642.381436</td>\n",
       "      <td>668.496737</td>\n",
       "    </tr>\n",
       "    <tr>\n",
       "      <th>std</th>\n",
       "      <td>365.223622</td>\n",
       "      <td>388.269538</td>\n",
       "    </tr>\n",
       "    <tr>\n",
       "      <th>min</th>\n",
       "      <td>0.000000</td>\n",
       "      <td>0.000000</td>\n",
       "    </tr>\n",
       "    <tr>\n",
       "      <th>25%</th>\n",
       "      <td>326.500000</td>\n",
       "      <td>329.500000</td>\n",
       "    </tr>\n",
       "    <tr>\n",
       "      <th>50%</th>\n",
       "      <td>643.000000</td>\n",
       "      <td>667.000000</td>\n",
       "    </tr>\n",
       "    <tr>\n",
       "      <th>75%</th>\n",
       "      <td>961.500000</td>\n",
       "      <td>1007.500000</td>\n",
       "    </tr>\n",
       "    <tr>\n",
       "      <th>max</th>\n",
       "      <td>1255.000000</td>\n",
       "      <td>1336.000000</td>\n",
       "    </tr>\n",
       "  </tbody>\n",
       "</table>\n",
       "</div>"
      ],
      "text/plain": [
       "        Sentence_1   Sentence_2\n",
       "count  1379.000000  1379.000000\n",
       "mean    642.381436   668.496737\n",
       "std     365.223622   388.269538\n",
       "min       0.000000     0.000000\n",
       "25%     326.500000   329.500000\n",
       "50%     643.000000   667.000000\n",
       "75%     961.500000  1007.500000\n",
       "max    1255.000000  1336.000000"
      ]
     },
     "execution_count": 13,
     "metadata": {},
     "output_type": "execute_result"
    }
   ],
   "source": [
    "# Statistics data, which convert string to integer, with count, unique, top, and freq in test dataset\n",
    "new_sts_test.describe()"
   ]
  },
  {
   "cell_type": "code",
   "execution_count": null,
   "metadata": {},
   "outputs": [],
   "source": []
  }
 ],
 "metadata": {
  "kernelspec": {
   "display_name": "Python 3",
   "language": "python",
   "name": "python3"
  },
  "language_info": {
   "codemirror_mode": {
    "name": "ipython",
    "version": 3
   },
   "file_extension": ".py",
   "mimetype": "text/x-python",
   "name": "python",
   "nbconvert_exporter": "python",
   "pygments_lexer": "ipython3",
   "version": "3.8.3"
  }
 },
 "nbformat": 4,
 "nbformat_minor": 4
}
