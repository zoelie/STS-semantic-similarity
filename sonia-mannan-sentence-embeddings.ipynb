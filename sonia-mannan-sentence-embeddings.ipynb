{
 "cells": [
  {
   "cell_type": "code",
   "execution_count": 49,
   "metadata": {
    "collapsed": false
   },
   "outputs": [],
   "source": [
    "import csv\n",
    "import math\n",
    "import matplotlib.pyplot as plt\n",
    "import numpy as np\n",
    "import nltk\n",
    "import os\n",
    "import pandas as pd\n",
    "\n",
    "from scipy.stats import pearsonr\n",
    "from sklearn.cluster import KMeans\n",
    "from collections import Counter\n",
    "from nltk.corpus import stopwords\n",
    "from sklearn.metrics import mean_squared_error"
   ]
  },
  {
   "cell_type": "code",
   "execution_count": 8,
   "metadata": {
    "collapsed": false
   },
   "outputs": [],
   "source": [
    "TRAIN_DATA = './datasets/sts-train.csv'\n",
    "TEST_DATA = './datasets/sts-test.csv'\n",
    "CWD = os.getcwd()"
   ]
  },
  {
   "cell_type": "code",
   "execution_count": 30,
   "metadata": {
    "collapsed": false
   },
   "outputs": [],
   "source": [
    "sts_dev = pd.read_table(\n",
    "    TRAIN_DATA,\n",
    "    error_bad_lines=False,\n",
    "    skip_blank_lines=True,\n",
    "    usecols=[4, 5, 6],\n",
    "    names=[\"similarity\", \"S1\", \"S2\"])\n",
    "\n",
    "sts_test = pd.read_table(\n",
    "    TEST_DATA,\n",
    "    error_bad_lines=False,\n",
    "    quoting=csv.QUOTE_NONE,\n",
    "    skip_blank_lines=True,\n",
    "    usecols=[4, 5, 6],\n",
    "    names=[\"similarity\", \"S1\", \"S2\"])"
   ]
  },
  {
   "cell_type": "code",
   "execution_count": 31,
   "metadata": {
    "collapsed": false
   },
   "outputs": [],
   "source": [
    "train_df = pd.concat([sts_dev, sts_test])"
   ]
  },
  {
   "cell_type": "code",
   "execution_count": 32,
   "metadata": {
    "collapsed": false
   },
   "outputs": [
    {
     "data": {
      "text/plain": [
       "7090"
      ]
     },
     "execution_count": 32,
     "metadata": {},
     "output_type": "execute_result"
    }
   ],
   "source": [
    "len(train_df)"
   ]
  },
  {
   "cell_type": "code",
   "execution_count": 34,
   "metadata": {
    "collapsed": false
   },
   "outputs": [],
   "source": [
    "train_df['S2'] = [str(x) for x in train_df['S2']]"
   ]
  },
  {
   "cell_type": "code",
   "execution_count": 35,
   "metadata": {
    "collapsed": false
   },
   "outputs": [
    {
     "name": "stdout",
     "output_type": "stream",
     "text": [
      "WARNING:tensorflow:5 out of the last 8 calls to <function recreate_function.<locals>.restored_function_body at 0x12752d560> triggered tf.function retracing. Tracing is expensive and the excessive number of tracings could be due to (1) creating @tf.function repeatedly in a loop, (2) passing tensors with different shapes, (3) passing Python objects instead of tensors. For (1), please define your @tf.function outside of the loop. For (2), @tf.function has experimental_relax_shapes=True option that relaxes argument shapes that can avoid unnecessary retracing. For (3), please refer to https://www.tensorflow.org/tutorials/customization/performance#python_or_tensor_args and https://www.tensorflow.org/api_docs/python/tf/function for  more details.\n"
     ]
    },
    {
     "name": "stderr",
     "output_type": "stream",
     "text": [
      "WARNING:tensorflow:5 out of the last 8 calls to <function recreate_function.<locals>.restored_function_body at 0x12752d560> triggered tf.function retracing. Tracing is expensive and the excessive number of tracings could be due to (1) creating @tf.function repeatedly in a loop, (2) passing tensors with different shapes, (3) passing Python objects instead of tensors. For (1), please define your @tf.function outside of the loop. For (2), @tf.function has experimental_relax_shapes=True option that relaxes argument shapes that can avoid unnecessary retracing. For (3), please refer to https://www.tensorflow.org/tutorials/customization/performance#python_or_tensor_args and https://www.tensorflow.org/api_docs/python/tf/function for  more details.\n"
     ]
    },
    {
     "name": "stdout",
     "output_type": "stream",
     "text": [
      "module https://tfhub.dev/google/universal-sentence-encoder/4 loaded\n"
     ]
    }
   ],
   "source": [
    "from absl import logging\n",
    "\n",
    "import tensorflow as tf\n",
    "\n",
    "import tensorflow_hub as hub\n",
    "import matplotlib.pyplot as plt\n",
    "import numpy as np\n",
    "import os\n",
    "import pandas as pd\n",
    "import re\n",
    "import seaborn as sns\n",
    "\n",
    "module_url = \"https://tfhub.dev/google/universal-sentence-encoder/4\"\n",
    "model = hub.load(module_url)\n",
    "print (\"module %s loaded\" % module_url)\n",
    "def embed(input):\n",
    "    return model(input)"
   ]
  },
  {
   "cell_type": "code",
   "execution_count": null,
   "metadata": {
    "collapsed": false
   },
   "outputs": [
    {
     "name": "stdout",
     "output_type": "stream",
     "text": [
      "0         A plane is taking off.\n",
      "0    A girl is styling her hair.\n",
      "Name: S1, dtype: object\n"
     ]
    }
   ],
   "source": [
    "# embeddings produce a 512-length vector representing the sentence context\n",
    "sample = train_df['S1'][0]\n",
    "print (sample)\n",
    "message_embeddings = embed([sample])\n",
    "print (message_embeddings.shape)"
   ]
  },
  {
   "cell_type": "markdown",
   "metadata": {},
   "source": [
    "### Qualitatively Evaluate Embeddings on a Small Sample by Plotting a Heatmap"
   ]
  },
  {
   "cell_type": "code",
   "execution_count": 13,
   "metadata": {
    "collapsed": true
   },
   "outputs": [],
   "source": [
    "# given sentence pairs that have been evaluated together create a heatmap\n",
    "# features = sentence embeddings, labels = sentences\n",
    "# first half corresponds to second half\n",
    "def plot_similarity(labels, features, rotation):\n",
    "    M = int(len(features) / 2)\n",
    "    text_cutoff = 50\n",
    "    \n",
    "    labels = [label[:text_cutoff] for label in labels]\n",
    "    corr = np.inner(features[:M], features[M:])\n",
    "    sns.set(font_scale=1.2)\n",
    "    g = sns.heatmap(\n",
    "      corr,\n",
    "      xticklabels=labels[:M],\n",
    "      yticklabels=labels[M:],\n",
    "      vmin=0,\n",
    "      vmax=1,\n",
    "      cmap=\"YlOrRd\")\n",
    "    g.set_xticklabels(labels[:M], rotation=rotation)\n",
    "    g.set_title(\"Semantic Textual Similarity\")\n",
    "    g.get_figure().savefig(\"./sonia-mannan-sentence-embeddings-results/sample_heatmap.png\", bbox_inches='tight')\n",
    "\n",
    "def run_and_plot(messages_):\n",
    "    message_embeddings_ = embed(messages_)\n",
    "    plot_similarity(messages_, message_embeddings_, 90)"
   ]
  },
  {
   "cell_type": "code",
   "execution_count": 14,
   "metadata": {
    "collapsed": false
   },
   "outputs": [
    {
     "name": "stdout",
     "output_type": "stream",
     "text": [
      "S(0         A plane is taking off.\n",
      "0    A girl is styling her hair.\n",
      "Name: S1, dtype: object, 0     An air plane is taking off.\n",
      "0    A girl is brushing her hair.\n",
      "Name: S2, dtype: object) = 5.0\n",
      "S(1             A man is playing a large flute.\n",
      "1    A group of men play soccer on the beach.\n",
      "Name: S1, dtype: object, 1                           A man is playing a flute.\n",
      "1    A group of boys are playing soccer on the beach.\n",
      "Name: S2, dtype: object) = 3.8\n",
      "S(2    A man is spreading shreded cheese on a pizza.\n",
      "2    One woman is measuring another woman's ankle.\n",
      "Name: S1, dtype: object, 2    A man is spreading shredded cheese on an uncoo...\n",
      "2              A woman measures another woman's ankle.\n",
      "Name: S2, dtype: object) = 3.8\n",
      "S(3       Three men are playing chess.\n",
      "3    A man is cutting up a cucumber.\n",
      "Name: S1, dtype: object, 3      Two men are playing chess.\n",
      "3    A man is slicing a cucumber.\n",
      "Name: S2, dtype: object) = 2.6\n",
      "S(4    A man is playing the cello.\n",
      "4       A man is playing a harp.\n",
      "Name: S1, dtype: object, 4    A man seated is playing the cello.\n",
      "4          A man is playing a keyboard.\n",
      "Name: S2, dtype: object) = 4.25\n"
     ]
    },
    {
     "data": {
      "image/png": "[encoded data removed]",
      "text/plain": [
       "<Figure size 432x288 with 2 Axes>"
      ]
     },
     "metadata": {},
     "output_type": "display_data"
    }
   ],
   "source": [
    "messages = list(train_df['S1'][:5]) + list(train_df['S2'][:5])\n",
    "similarities = train_df['similarity'][:5]\n",
    "for i in range(len(similarities)):\n",
    "    print ('S({0}, {1}) = {2}'.format(train_df['S1'][i], train_df['S2'][i], similarities[i]))\n",
    "run_and_plot(messages)"
   ]
  },
  {
   "cell_type": "markdown",
   "metadata": {},
   "source": [
    "### Quantitively Evaluate Embeddings by Calculating Cosine Similarities"
   ]
  },
  {
   "cell_type": "code",
   "execution_count": 15,
   "metadata": {
    "collapsed": true
   },
   "outputs": [],
   "source": [
    "def magnitude(e1):\n",
    "    return np.sqrt(np.sum(np.square(e1)))"
   ]
  },
  {
   "cell_type": "code",
   "execution_count": 16,
   "metadata": {
    "collapsed": true
   },
   "outputs": [],
   "source": [
    "def cosine_similarity(e1, e2):\n",
    "    return (np.dot(e1, e2) / (magnitude(e1) * magnitude(e2)))"
   ]
  },
  {
   "cell_type": "code",
   "execution_count": 36,
   "metadata": {
    "collapsed": false,
    "scrolled": false
   },
   "outputs": [
    {
     "name": "stdout",
     "output_type": "stream",
     "text": [
      "WARNING:tensorflow:6 out of the last 9 calls to <function recreate_function.<locals>.restored_function_body at 0x126b75a70> triggered tf.function retracing. Tracing is expensive and the excessive number of tracings could be due to (1) creating @tf.function repeatedly in a loop, (2) passing tensors with different shapes, (3) passing Python objects instead of tensors. For (1), please define your @tf.function outside of the loop. For (2), @tf.function has experimental_relax_shapes=True option that relaxes argument shapes that can avoid unnecessary retracing. For (3), please refer to https://www.tensorflow.org/tutorials/customization/performance#python_or_tensor_args and https://www.tensorflow.org/api_docs/python/tf/function for  more details.\n"
     ]
    },
    {
     "name": "stderr",
     "output_type": "stream",
     "text": [
      "WARNING:tensorflow:6 out of the last 9 calls to <function recreate_function.<locals>.restored_function_body at 0x126b75a70> triggered tf.function retracing. Tracing is expensive and the excessive number of tracings could be due to (1) creating @tf.function repeatedly in a loop, (2) passing tensors with different shapes, (3) passing Python objects instead of tensors. For (1), please define your @tf.function outside of the loop. For (2), @tf.function has experimental_relax_shapes=True option that relaxes argument shapes that can avoid unnecessary retracing. For (3), please refer to https://www.tensorflow.org/tutorials/customization/performance#python_or_tensor_args and https://www.tensorflow.org/api_docs/python/tf/function for  more details.\n"
     ]
    }
   ],
   "source": [
    "assert train_df['similarity'].shape[0] == train_df['S2'].shape[0] == train_df['S1'].shape[0]\n",
    "\n",
    "# get embeddings for each sentence pair, 5,749 x 512\n",
    "e1 = tf.nn.l2_normalize(embed(train_df['S1']), axis=1)\n",
    "e2 = tf.nn.l2_normalize(embed(train_df['S2']), axis=1)\n",
    "\n",
    "# take the cosine similarity between each embedding\n",
    "calculated_similarities = np.array([cosine_similarity(x, y) for x, y in zip(e1, e2)])\n",
    "actual_scores = train_df['similarity']\n",
    "\n",
    "# calculate the pearson correlation\n",
    "pearson_correlation = pearsonr(calculated_similarities, actual_scores)"
   ]
  },
  {
   "cell_type": "markdown",
   "metadata": {},
   "source": [
    "### Pearson correlation measures similarity between two variables\n",
    "1. -1 = opposite, 0 = neatral, 1 = same -> higher score means they are more similar. We expect the correlation between calculated and real scores to be high\n",
    "2. Without dropping malformed lines: 0.64\n",
    "3. With dropping malformed lines: 0.778\n"
   ]
  },
  {
   "cell_type": "code",
   "execution_count": 37,
   "metadata": {
    "collapsed": false
   },
   "outputs": [
    {
     "name": "stdout",
     "output_type": "stream",
     "text": [
      "Pearson correlation coefficient = 0.7784817445535114\n",
      "p-value = 0.0\n"
     ]
    }
   ],
   "source": [
    "print('Pearson correlation coefficient = {0}\\np-value = {1}'.format(\n",
    "    pearson_correlation[0], pearson_correlation[1]))"
   ]
  },
  {
   "cell_type": "markdown",
   "metadata": {},
   "source": [
    "#### We can also calculate the RMSE between calculated and real scores by interpolating calculated scores between 0-5\n",
    "1. Perfect RMSE = 0\n",
    "2. Random RMSE = 2.1492 -> randomly generate an array of 0-5\n",
    "3. Actual RMSE = 1.167 -> not perfect but better than randomly guessing\n",
    "4. Actual RMSE drop lines = 1.195"
   ]
  },
  {
   "cell_type": "code",
   "execution_count": 41,
   "metadata": {
    "collapsed": false
   },
   "outputs": [
    {
     "name": "stdout",
     "output_type": "stream",
     "text": [
      "Actual RMSE 1.1954601701698726\n"
     ]
    }
   ],
   "source": [
    "calculated_scores = np.interp(calculated_similarities, (calculated_similarities.min(), \\\n",
    "                                                        calculated_similarities.max()), (0, +5))\n",
    "print ('Actual RMSE', mean_squared_error(actual_scores, calculated_scores, squared=False))"
   ]
  },
  {
   "cell_type": "code",
   "execution_count": 42,
   "metadata": {
    "collapsed": false
   },
   "outputs": [
    {
     "name": "stdout",
     "output_type": "stream",
     "text": [
      "Perfect RMSE 0.0\n"
     ]
    }
   ],
   "source": [
    "print ('Perfect RMSE', mean_squared_error(actual_scores, actual_scores, squared=False))"
   ]
  },
  {
   "cell_type": "code",
   "execution_count": 43,
   "metadata": {
    "collapsed": false
   },
   "outputs": [
    {
     "name": "stdout",
     "output_type": "stream",
     "text": [
      "Random RMSE 2.162028148244892\n"
     ]
    }
   ],
   "source": [
    "print ('Random RMSE', mean_squared_error(actual_scores, np.random.randint(5, size=len(actual_scores)), squared=False))"
   ]
  },
  {
   "cell_type": "markdown",
   "metadata": {},
   "source": [
    "### K-Means clustering using the embeddings\n",
    "1. If the embeddings represent sentences well, similar sentences should be in the same cluster and non-similars should be in different ones. With 20 clusters:\n",
    "    - 0.2359081419624217\n",
    "    - 0.7210144927536232\n",
    "    - 0.7839721254355401\n",
    "    - 0.8202531645569621\n",
    "    - 0.8558951965065502\n",
    "    - 0.9281767955801105\n",
    "2. If we cluster all the embeddings are there any clear patterns or topics that arise?\n",
    "    - Cluster 0: Finance\n",
    "    - Cluster 1: Syria\n",
    "    - Cluster 2: unclear\n",
    "    - Cluster 3: unclear\n",
    "    - Cluster 4: People Playing Musical Instruments\n",
    "    - Cluster 5: unclear\n",
    "    - Cluster 6: Girls and Women\n",
    "    - Cluster 7: News about the middle east (Afghanistan, Iraq, Saudi Arabia)\n",
    "    - Cluster 8: Dogs\n",
    "    - Cluster 9: unclear\n",
    "    - Cluster 10: Foreign Events\n",
    "    - Cluster 11: Cats\n",
    "    - Cluster 12: Cooking\n",
    "    - Cluster 13: Men\n",
    "    - Cluster 14: Statements\n",
    "    - Cluster 15: Foreign Events\n",
    "    - Cluster 16: Crime\n",
    "    - Cluster 17: unclear\n",
    "    - Cluster 18: Mili"
   ]
  },
  {
   "cell_type": "code",
   "execution_count": 71,
   "metadata": {
    "collapsed": false
   },
   "outputs": [],
   "source": [
    "# 14,180 x 512 vectors\n",
    "all_sentences_embeddings = np.vstack((e1.numpy(), e2.numpy()))"
   ]
  },
  {
   "cell_type": "code",
   "execution_count": 104,
   "metadata": {
    "collapsed": false,
    "scrolled": true
   },
   "outputs": [],
   "source": [
    "def inspect_scores_and_clusters(train_df, all_sentences_embeddings, kmeans, n_clusters):\n",
    "    real_scores = list(train_df['similarity'])\n",
    "    all_sentences = list(train_df['S1']) + list(train_df['S2'])\n",
    "    preds = kmeans.predict(all_sentences_embeddings)\n",
    "\n",
    "    for cluster in range(n_clusters):\n",
    "        idxs = np.where(preds == cluster)\n",
    "\n",
    "        print ('CLUSTER {0} has {1} preds\\n'.format(cluster, len(idxs[0])))\n",
    "        for i in idxs[0][:25]:\n",
    "            print(all_sentences[i])\n",
    "\n",
    "        print ('\\n--------------------\\n')"
   ]
  },
  {
   "cell_type": "code",
   "execution_count": 111,
   "metadata": {
    "collapsed": false
   },
   "outputs": [],
   "source": [
    "def find_n_clusters(all_sentences_embeddings, max_clusters=10):\n",
    "    optimal_clusters = []\n",
    "    for i in range(1, max_clusters+1):\n",
    "        kmeans = KMeans(n_clusters=i)\n",
    "        kmeans.fit(all_sentences_embeddings)\n",
    "        optimal_clusters.append(kmeans.inertia_)\n",
    "        \n",
    "    plt.plot(range(1, max_clusters+1), optimal_clusters)\n",
    "    plt.title('The Elbow Method Graph')\n",
    "    plt.xlabel('Number of clusters')\n",
    "    plt.ylabel('WCSS')\n",
    "    plt.savefig(\"./sonia-mannan-sentence-embeddings-results/kmeans_cluster_elbow.png\", bbox_inches='tight')\n",
    "    plt.show()"
   ]
  },
  {
   "cell_type": "code",
   "execution_count": 145,
   "metadata": {
    "collapsed": false
   },
   "outputs": [
    {
     "data": {
      "image/png": "[encoded data removed]",
      "text/plain": [
       "<Figure size 432x288 with 1 Axes>"
      ]
     },
     "metadata": {},
     "output_type": "display_data"
    }
   ],
   "source": [
    "# find the optimal number of clusters to use\n",
    "find_n_clusters(all_sentences_embeddings, max_clusters=25)"
   ]
  },
  {
   "cell_type": "code",
   "execution_count": 141,
   "metadata": {
    "collapsed": false,
    "scrolled": false
   },
   "outputs": [
    {
     "name": "stdout",
     "output_type": "stream",
     "text": [
      "CLUSTER 0 has 602 preds\n",
      "\n",
      "The bailout was bigger than TARP Bloomberg news.\n",
      "Scenario A assumes that the CO growth rate accelerates by .%/yr.\n",
      "Capital gains, top rate:  percent.\n",
      "If you want to buy $ billion in XYZ Inc. common stock, who cares?\n",
      "Capital gains, top rate:  percent.\n",
      "In afternoon trading in Europe, France's CAC-40 advanced and Britain's FTSE 100 each gained 0.7 percent, while Germany's DAX index rose 0.6 percent.\n",
      "Earlier this month, RIM had said it expected to report second-quarter earnings of between 7 cents and 11 cents a share.\n",
      "Shares of Hartford rose $2.88 to $46.50 in New York Stock Exchange composite trading.\n",
      "Sovereign's shares lost 74 cents, or 4.5%, to $15.68.\n",
      "Aspen Technology's shares dropped 74 cents, or 23 percent, to close at $2.48 on the Nasdaq.\n",
      "The broader Standard & Poor's 500 Index .SPX fell 3 points, or 0.30 percent, to 995.\n",
      "The euro soared to US$1.1914 in Asian trading, before slipping back slightly to US$1.1895 as trading opened in Europe.\n",
      "Shares of LendingTree rose $6.21, or 42 percent, to $20.90 after hitting $21.36 earlier.\n",
      "But software license revenues, a measure financial analysts watch closely, decreased 21 percent to $107.6 million.\n",
      "The 30-year bond US30YT=RR jumped 20/32, taking its yield to 4.14 percent from 4.18 percent.\n",
      "Oracle shares fell 27 cents, or 2 percent, to $13.09.\n",
      "North American futures pointed to a sub-par start to trading on Tuesday, with investors ready to get their first taste of quarterly earnings.\n",
      "The market's broader gauges also posted big gains, having climbed higher for four consecutive weeks.\n",
      "In the year-ago quarter, the steelmaker recorded a profit of $16.2 million, or 15 cents per share, on sales of $1.14 billion.\n",
      "The Nasdaq had a weekly gain of 17.27, or 1.2 percent, closing at 1,520.15 on Friday.\n",
      "The tech-heavy Nasdaq Stock Markets composite index added 14.17 points or 0.94 per cent to 1,517.05.\n",
      "The tech-heavy Nasdaq Stock Markets composite index added 1.16 points to 1,504.04.\n",
      "The technology-laced Nasdaq Composite Index dipped 0.08 of a point to 1,646.\n",
      "Likewise, the 30-year bond <US30YT=RR> slid 1-11/32 for a yield of 4.38 percent, up from 4.30 percent.\n",
      "Further out the curve, the benchmark 10-year note US10YT=RR shed 25/32 in price, taking its yield to 3.26 percent from 3.17 percent.\n",
      "\n",
      "--------------------\n",
      "\n",
      "CLUSTER 1 has 392 preds\n",
      "\n",
      "War in the middle east.\n",
      "Why are Russians in Damascus?\n",
      "There is no war in the Middle east.\n",
      "There is no \"WAR\" in the middle east.\n",
      "Both rebels and government forces have been accused of pillaging villages in Liberia's countryside despite the peace agreement.\n",
      "The officials did not say whether U.S. forces crossed into Syrian territory and were vague about how the Syrian border guards became involved.\n",
      "One of the 14 Kurds pointed at the word \"refugee\" in an English/Turkish dictionary.\n",
      "He left the army for Syria where he received religious training.\n",
      "reports state that the syrian government was concealing a nuclear facility at the attacked site. \n",
      "syria denies having an undeclared nuclear program. \n",
      "Explosion hits oil pipeline in Syria's Homs\n",
      "Syria says suicide bomber kills 10 in Damascus\n",
      "Syrian rebels move command from Turkey to Syria\n",
      "Annan warns talks of Syria risks\n",
      "UN Security Council unanimous vote on Syria\n",
      "China news agency: Still hope for Syria peace\n",
      "U.S. and Turkey weigh no-fly zones for Syria\n",
      "Syria journalists rescue bid fails\n",
      "Turkey Raises Alarm Over Syrian Refugees\n",
      "Rebel fighters 'capture' Syrian soldiers\n",
      "UN monitors yet to reach site of Syrian 'massacre' – video\n",
      "Syria tells Russia some troops have pulled out of Homs\n",
      "Russia, China veto UN resolution on Syria killings\n",
      "Syria urges refugees to return\n",
      "UN monitors yet to reach site of Syrian 'massacre' – video\n",
      "\n",
      "--------------------\n",
      "\n",
      "CLUSTER 2 has 707 preds\n",
      "\n",
      "The polar bear is sliding on the snow.\n",
      "A panda is sliding down a slide.\n",
      "The boy fell off his bike.\n",
      "A baby tiger is playing with a ball.\n",
      "A kid plays with a toy phone.\n",
      "A man swims underwater.\n",
      "The men are playing cricket.\n",
      "Someone is sitring noodles in water.\n",
      "Lionel Richie is dancing on the ceiling.\n",
      "A monkey is swinging from limb to limb.\n",
      "A man is paddling a canoe.\n",
      "Fish are swimming.\n",
      "A person is surfing a large wave.\n",
      "A group of people dance on a hill.\n",
      "Two baby pandas are playing.\n",
      "A baby is laughing.\n",
      "Three boys are dancing.\n",
      "A kid runs away from a fish swinging around on a fishing pole.\n",
      "Two zebras are playing.\n",
      "Someone drills a hole in a strip of wood with a power drill.\n",
      "A woman is water skiing on a lake.\n",
      "A helicopter is landing on a helipad.\n",
      "The boy is riding a tricycle.\n",
      "Two men compete in a tire rolling race.\n",
      "The boy is stuck in the door of the doghouse.\n",
      "\n",
      "--------------------\n",
      "\n",
      "CLUSTER 3 has 835 preds\n",
      "\n",
      "A rabbit is running from an eagle.\n",
      "A squirrel is spinning around in circles.\n",
      "A squirrel runs around in circles.\n",
      "The people got off the train.\n",
      "An animal run in circles.\n",
      "Two men are packing suitcases into the trunk of a car.\n",
      "Medics transport a patient on a stretcher.\n",
      "A cheetah is running.\n",
      "An orangutan is riding a bus.\n",
      "A big green ball knocks a potato over.\n",
      "A herd of deer are crossing the street.\n",
      "Two foxes are eating from a plate on a brick patio.\n",
      "A car is moving through a road.\n",
      "Runners race around a track.\n",
      "A car backs out of a space.\n",
      "People step off a train.\n",
      "A black horse is running around.\n",
      "A badger is burrowing a hole.\n",
      "An airplane is flying in the air.\n",
      "Someone fell off a horse.\n",
      "Two robots share a kiss.\n",
      "The rhino grazed on the grass.\n",
      "The man drove his little red car around the traffic.\n",
      "Someone is holding a hedgehog.\n",
      "A rider is running and jumping her horse.\n",
      "\n",
      "--------------------\n",
      "\n",
      "CLUSTER 4 has 388 preds\n",
      "\n",
      "A man is playing a large flute.\n",
      "A man is playing the cello.\n",
      "The man is playing the piano.\n",
      "A man is playing on a guitar and singing.\n",
      "A man is playing a flute.\n",
      "A man is playing a guitar.\n",
      "The woman is playing the flute.\n",
      "The man is playing the guitar.\n",
      "A woman is playing an electric guitar.\n",
      "A man is playing the piano.\n",
      "A woman is playing the flute.\n",
      "A kid is playing guitar.\n",
      "A boy is playing guitar.\n",
      "A man is playing guitar.\n",
      "A little boy is playing a keyboard.\n",
      "A man is playing a guitar.\n",
      "A man is playing the guitar.\n",
      "A man is playing the drums.\n",
      "A man is playing the guitar and singing.\n",
      "A man is playing the piano.\n",
      "A boy is singing and playing the piano.\n",
      "A woman is playing a guitar.\n",
      "A man is playing a guitar.\n",
      "A man is playing a guitar.\n",
      "The man is playing the guitar.\n",
      "\n",
      "--------------------\n",
      "\n",
      "CLUSTER 5 has 1458 preds\n",
      "\n",
      "Then the captain was gone.\tThen the captain came back.\n",
      "main-forum\tdeft-forum\t2014\t0002\t3.8\tThe problem is simpler than that.\tThe problem is simple.\n",
      "main-forum\tdeft-forum\t2014\t0003\t1\tNEGATIVE RECONNAISSANCE REQUIREMENTS.\tPACIFIC REQUIREMENTS .\n",
      "main-forum\tdeft-forum\t2014\t0004\t0.4\tSo, I am dropping, for now, asking you the question:  Where ' s the Marx \" ?\n",
      "They have actually showed a cooling trend since  due to the recent decline.\n",
      "not astros or orioles bad Gameday for the orioles game is frozen for me.\n",
      "Myanmar's pro-democracy leader Aung San Suu Kyi will return home late Friday but will remain in detention after recovering from surgery at a Yangon hospital, her personal physician said.\n",
      "But butterflies exposed to an earlier light cycle, from 1am to 1pm, orientated themselves towards the south-east.\n",
      "Dunlap won both the swimsuit competition and the talent portion of the competition, singing \"If I Could.\"\n",
      "AAA spokesman Jerry Cheske said prices may have affected some plans, but cheap hotel deals mitigated the effect.\n",
      "She countersued for $125 million, saying Gruner & Jahr broke its contract with her by cutting her out of key editorial decisions.\n",
      "The Standard Edition is $15,000 per processor or $300 per named user.\n",
      "Microsoft acquired Virtual PC when it bought the assets of Connectix earlier this year.\n",
      "It's the first such drill since the September 11 terrorist attacks on New York and Washington.\n",
      "Ursel Reisen confirmed it operated the coach, but gave no details other than to say the passengers were of mixed ages.\n",
      "A total of 17 cases have been confirmed in the southern city of Basra, the Organization said.\n",
      "He was also expected to visit Yemen and Bahrain during his tour of the region.\n",
      "General Myers told reporters that \"at first blush, it doesn't look like any rules were broken\".\n",
      "Proving that the Millville son's sacrifice would not go unsung, Mayor James Quinn ordered all city flags flown at half-mast for the next 30 days.\n",
      "Tom Kraynak, manager of operations and resources for the Canton, Ohio-based East Central Area Reliability Council, said that scenario is one among many that investigators are considering.\n",
      "It can store more than a gigabyte of information equivalent to around 12 hours of music in one cubic centimetre.\n",
      "In 2001 and 2002, wire transfers from 4 of the company's 40 accounts totaled more than $3.2 billion, prosecutors said.\n",
      "Stony Brook University launched the study in 1996, after earlier studies indicated a possible connection between electromagnetic fields and cancer.\n",
      "Metropolitan Ambulance spokesman James Howe said five people were taken to hospital and three were treated at the scene after yesterday's incident.\n",
      "Her body was found several weeks later in the Green River.\n",
      "The reading for both August and July is the best seen since the survey began in August 1997.\n",
      "We need a certifiable pay as you go budget by mid-July or schools wont open in September, Strayhorn said.\n",
      "Country-music station KKCS has suspended two disc jockeys for playing songs by the Dixie Chicks in violation of a ban imposed after one group member criticized President George Bush.\n",
      "\n",
      "--------------------\n",
      "\n",
      "CLUSTER 6 has 701 preds\n",
      "\n",
      "A woman picks up and holds a baby kangaroo.\n",
      "A woman is writing.\n",
      "A woman is eating something.\n",
      "A girl is flying a kite.\n",
      "A woman is dancing and singing with other women.\n",
      "A woman is frying fish.\n",
      "A woman rides a horse.\n",
      "A man and a woman are kissing.\n",
      "A man and woman are talking.\n",
      "A woman is using a sewing machine.\n",
      "A woman is flipping pancakes.\n",
      "A woman is dancing.\n",
      "A woman is picking a can.\n",
      "A man and woman are driving down the street in a jeep.\n",
      "Two women are wrestling.\n",
      "A woman is riding a motorized scooter down a road.\n",
      "A woman is dancing.\n",
      "A woman cracks two eggs into a glass bowl.\n",
      "A man and woman are walking together through the woods.\n",
      "The woman picked up the kangaroo.\n",
      "Two women mix something in a food processor.\n",
      "A woman is feeding a man.\n",
      "A woman is sitting at a desk.\n",
      "Three women are dancing.\n",
      "The woman is rolling dough.\n",
      "\n",
      "--------------------\n",
      "\n",
      "CLUSTER 7 has 604 preds\n",
      "\n",
      "On July 10, a team of 32 Singaporean police officers was sent to Baghdad.\n",
      "The bulk of the funds, some $65 billion, will go for military operations in Iraq and Afghanistan.\n",
      "The president began his speech by acknowledging the terrorist attacks in Saudi Arabia that killed at least 29 people, including seven Americans.\n",
      "Some 660 prisoners from 42 countries, including Canada, are held, many captured during the war against in Afghanistan the al-Qaida network.\n",
      "The military said it had killed 12 rebels and captured nine in the campaign so far, for the loss of six soldiers wounded.\n",
      "Their leader, Abu Bakr al-Azdi, turned himself in in June; his deputy was killed in a recent shootout with Saudi forces.\n",
      "On Sunday, a U.S. soldier was killed and another injured in southern Iraq when a munitions dump exploded.\n",
      "A soldier was killed Monday and another wounded when their convoy was ambushed in northern Iraq.\n",
      "bombing occurred in afghanistan as attacks by anti-government insurgents increase in recent days. \n",
      "religious extremism continues in pakistan despite the banning of militant groups. \n",
      "kashmir is divided between india and pakistan. \n",
      "jamaat-i-islami's youth wing staged a separate demonstration in kashmir. \n",
      "turkmenistan borders afghanistan. \n",
      "indian troops already fighting rebels in kashmir are now engaged in a massive campaign to destroy poppy crops in the region. \n",
      "the ensuing battle and airstrikes killed at least 10 militants. \n",
      "sheik doon salad ilmi said civilian casualties resulting from overnight mortar and rocket attacks happen every day. \n",
      "both tajikistan and uzbekistan share a border with afghanistan and have experienced raids by taliban-backed islamic militants in recent years. \n",
      "indian and pakistani governments nearly engaged in a fourth conflict in 1999. \n",
      "Drug lord captured by marines in Mexico\n",
      "NATO Soldier Killed In Afghan Attack\n",
      "NATO traces path out of Afghanistan\n",
      "Teenager in China kills 8, wounds 5 in knife attack\n",
      "Suicide bombing rocks elite Yemen military camp\n",
      "NATO: 2 International Troops Killed in Afghanistan\n",
      "Two U.S. soldiers shot, killed by Afghan soldier\n",
      "\n",
      "--------------------\n",
      "\n",
      "CLUSTER 8 has 716 preds\n",
      "\n",
      "A dog is trying to get bacon off his back.\n",
      "A dog rides a skateboard.\n",
      "A dog licks a baby.\n",
      "A dog is eating water melon.\n",
      "A small dog is chasing a yoga ball.\n",
      "A dog is jumping on a trampoline.\n",
      "The puppy played with a blue tennis ball.\n",
      "A dog licks up a baby's drool.\n",
      "Two dogs swim in a pool.\n",
      "A dog is looking into swimming pool.\n",
      "A dog is barking at a ball.\n",
      "A dog sat at the counter of a store.\n",
      "A puppy is sliding backwards along the floor.\n",
      "A dog is looking into swimming pool.\n",
      "A monkey pulls the tail of a dog.\n",
      "A dog lies on his back on a wooden floor.\n",
      "A dog biting on a can.\n",
      "A bear is running from two dogs.\n",
      "The little girl played on the grass with a dog and a ball.\n",
      "A dog is playing in the snow.\n",
      "The dog walked along the edge of the pool.\n",
      "The woman is walking her dog.\n",
      "Two puppies are playing with each other.\n",
      "A dog is jumping on a trampoline.\n",
      "The dog pulled the dogs tail and then his leg.\n",
      "\n",
      "--------------------\n",
      "\n",
      "CLUSTER 9 has 1082 preds\n",
      "\n",
      "A person is adding chili powder to chili with beans.\n",
      "Do you see Obama calling for regulation reform?\n",
      "Nixon, Ford and Carter shut down the oilfields?\n",
      "@Lustig Andrei, So Lyndon Johnson and John Kennedy were compatible?\n",
      " billion . Everyone in the world at Mexico's current prosperity level.\n",
      "Holder filed a three-page letter.\n",
      "@Lustig Andrei, Lustig, agreed.\n",
      "Obama is extreme and leftwing.\n",
      "Bush gets zero credit for the budget under him.\n",
      "David @OmSigDAVID, I think Santorum's more likely than Gingrich.\n",
      "And that is happening in GOP controlled states.\n",
      " billion . Everyone in the world at Mexico's current prosperity level.\n",
      "There is simply no winning for Obama among conservatives.\n",
      " billion . Everyone in the world at Mexico's current prosperity level.\n",
      "Bush gets zero credit for the budget under him.\n",
      "Sens. John Kerry and Bob Graham declined invitations to speak.\n",
      "Coupling, an American version of a hit British comedy, will get the valuable Thursday 9:30 p.m. time slot.\n",
      "Daniels said he doesn't know what Bush will have to say about him at tonight's $2,000-per-person presidential fund-raiser.\n",
      "Prince is replacing Sanford \"Sandy\" Weill, who will remain Citigroup's chairman.\n",
      "A beauty contest to be held in Italy next week may be the first for pixel-perfect pin-ups.\n",
      "Congress twice before passed similar restrictions only to see President Bill Clinton veto them.\n",
      "Miodrag Zivkovic, of the Liberal Alliance of Montenegro, won 31 percent of the vote, while the independent Dragan Hajdukovic got 4 percent.\n",
      "Rep. Peter Deutsch, D-Fla., criticized the FDA's efforts in Florida.\n",
      "Costa's semifinal opponent is Spaniard Juan Carlos Ferrero, whom he beat in last year's final.\n",
      "In Kentucky, Democratic Attorney General Ben Chandler faces U.S. Rep. Ernie Fletcher.\n",
      "\n",
      "--------------------\n",
      "\n",
      "CLUSTER 10 has 545 preds\n",
      "\n",
      "A coalition of campaign groups, including the militant national students body, is backing the protests, which the NLC called in defiance of a court order banning them.\n",
      "Tamil parties blame the Liberation Tigers of Tamil Eelam (LTTE) for these killings.\n",
      "In a statement distributed Friday, 28 Chechen non-governmental organizations said they would boycott the vote.\n",
      "The audiotape aired last week by the Arab Al-Jazeera television network appears to be an effort to incite attacks.\n",
      "Fighting erupted after four North Korean journalists confronted a dozen South Korean activists protesting human rights abuses in the North outside the main media centre.\n",
      "The government recently shelved peace talks with the MILF, being brokered by Malaysia, after a string of attacks, including three bombings, on Mindanao.\n",
      "Turkish authorities have said all the suicide bombers were Turks.\n",
      "Shiites make up 20 percent of the country's population.\n",
      "the african union has proposed a peacekeeping mission to help somalia's struggling transitional government stabilize somalia. \n",
      "human rights violations in myanmar include summary executions, torture and the recruitment of child soldiers. \n",
      "libyan foreign minister abdel rahman shalgam visited london during the first visit by a libyan foreign minister since 1969. \n",
      "myanmar government has stated myanmar will become opium-free by 2014. \n",
      "nicaragua commemorated the 25th anniversary of the sandinista revolution that toppled the dictatorship of anastasio somoza but imposed a cuban-style leftist regime. \n",
      "13 kurds from turkey were arrested near paris on suspicion of money-laundering for the kurdistan workers' party (pkk). \n",
      "nicaragua commemorated the 25th anniversary of the sandinista revolution. \n",
      "sharia is islamic law. \n",
      "the south african government imposed a ban that prohibits the recruitment of people inside or outside of south africa for mercenary or foreign military assistance. \n",
      "a group representing mainly white south africans called afriforum stated it would organize protests along the route to zimbabwe. \n",
      "Moscow protesters demand Vladimir Putin's resignation\n",
      "Egypt’s Coptic Church Names New Pope\n",
      "Mali's Tuareg rebels declare independence\n",
      "Egypt votes on final day of presidential election\n",
      "Thousands of troops to march for Jubilee\n",
      "1 person killed in sectarian clashes in Lebanon\n",
      "Radical Islamists in Mali enlist new militia\n",
      "\n",
      "--------------------\n",
      "\n",
      "CLUSTER 11 has 565 preds\n",
      "\n",
      "A person is throwing a cat on to the ceiling.\n",
      "A cat is rubbing against baby's face.\n",
      "A lion is playing with people.\n",
      "A cat is playing a key board.\n",
      "A tiger cub is making a sound.\n",
      "A monkey pushes another monkey.\n",
      "The shirtless man sat in a chair.\n",
      "A cat is playing a piano.\n",
      "The man spread butter on the loaf of bread.\n",
      "The cats are playing with each other.\n",
      "A cat is playing keyboards.\n",
      "A rooster pecks at a dead mouse.\n",
      "A cat is licking a sucker.\n",
      "A person is folding a square paper piece.\n",
      "The baby crawled through the doorway.\n",
      "A cat is watching a TV.\n",
      "The animal is eating.\n",
      "The cat is drinking milk.\n",
      "A cat is jumping into a box.\n",
      "A cat is sliding upside down under a couch.\n",
      "A rat like creature is smelling around.\n",
      "A cat is trying to touch a dog.\n",
      "A cat rapidly swats a kid in the head.\n",
      "A cat is playing in a box.\n",
      "A cat is drinking some water.\n",
      "\n",
      "--------------------\n",
      "\n",
      "CLUSTER 12 has 580 preds\n",
      "\n",
      "A man is spreading shreded cheese on a pizza.\n",
      "A woman peels a potato.\n",
      "The woman is frying a breaded pork chop.\n",
      "A man is slicing a bun.\n",
      "A man is pouring oil into a pan.\n",
      "A woman is slicing an onion.\n",
      "A woman peels shrimp.\n",
      "A person is slicing a tomato.\n",
      "A person cuts an onion.\n",
      "A man is cutting up a potato.\n",
      "A woman is slicing an onion.\n",
      "A woman is slicing a pepper.\n",
      "A man is eating a banana by a tree.\n",
      "A person is cutting mushrooms.\n",
      "A person is slicing onions.\n",
      "A woman is peeling a potato.\n",
      "A pankda is eating bamboo.\n",
      "A person is peeling an onion.\n",
      "A woman is chopping broccoli.\n",
      "A man is peeling a potato.\n",
      "A woman is slicing tomato.\n",
      "A man is slicing potatoes.\n",
      "A woman is peeling a potato.\n",
      "A woman is slicing a leek.\n",
      "The man cut a paper plate.\n",
      "\n",
      "--------------------\n",
      "\n",
      "CLUSTER 13 has 751 preds\n",
      "\n",
      "A plane is taking off.\n",
      "Three men are playing chess.\n",
      "Some men are fighting.\n",
      "A man is smoking.\n",
      "The man hit the other man with a stick.\n",
      "A person is folding a piece of paper.\n",
      "A man is running on the road.\n",
      "The man is riding a horse.\n",
      "A man pours oil into a pot.\n",
      "A man is riding a mechanical bull.\n",
      "Someone is carving a statue.\n",
      "A man chops down a tree with an axe.\n",
      "A man is riding a motorcycle.\n",
      "A man is riding a motorcycle.\n",
      "A man is getting into a car.\n",
      "A man is dancing.\n",
      "A man is tying his shoe.\n",
      "A man rides off on a motorcycle.\n",
      "The man talked on the telephone.\n",
      "A man is fishing.\n",
      "A man is levitating.\n",
      "Two boys are driving.\n",
      "A man is riding on a horse.\n",
      "A man is riding a bicycle.\n",
      "A boy is checking a calender.\n",
      "\n",
      "--------------------\n",
      "\n",
      "CLUSTER 14 has 506 preds\n",
      "\n",
      "If you answer yes to  and no to  you are probably straight.\n",
      "Well, whatever, you are now.\n",
      "It still makes no sense.\n",
      "You wanna know what I find curious?\n",
      "It depends how you define extreme.\n",
      "You have too much regulation, not too little.\n",
      "Could be a lot of things.\n",
      "that is not an answer.\n",
      "But we can't do it without help.\n",
      "-Not- talking about it 'and' -Not- doing anything.\n",
      "I hope this is nothing.\n",
      "I know I'd hate to be him.\n",
      "It's so stupid that it just has to be true.\n",
      "It doesn't have to be braindead.\n",
      "If you haven't made any claims, then just say so.\n",
      "You need to make up your mind.\n",
      "Not as irritated as you.\n",
      "It's a common sense/deductive reasoning thing.\n",
      "Unless it's different in different countries?\n",
      "Irreligion that does that I have a problem.\n",
      "If you answer yes to  and no to  you are probably straight.\n",
      "It's a common sense/deductive reasoning thing.\n",
      "I hope everything is ok!\n",
      "It means its AN option.\n",
      "I think you need to reread what I wrote.\n",
      "\n",
      "--------------------\n",
      "\n",
      "CLUSTER 15 has 744 preds\n",
      "\n",
      "An explosion is booming in the desert.\n",
      "CYCLONE FORMATION IS NOT EXPECTED DURING THE NEXT  HOURS.\n",
      "and videos Seismic data does not equal duration of collapse.\n",
      "South Asia follows, with 1.1 millions youths infected — 62 percent of them female.\n",
      "Since being drafted into service in 1971, it has racked up a record 45 accidents, with 393 deaths.\n",
      "The first trial of a suspect in last year's Bali nightclub bombings that killed more than 200 people opened in Indonesia today, Sky News reported.\n",
      "The blasts killed two people and injured more than 150 others.\n",
      "SARS has killed 296 people on China's mainland and infected more than 5,200.\n",
      "A second victim, Michael Walker, 23, was struck in the torso, the bullet perforating his lung.\n",
      "Gen. Sattler heads a Combined Joint Task Force based on ship in the Gulf of Aden and the Indian Ocean.\n",
      "Kadyrov was not injured, but four of his bodyguards were among those killed.\n",
      "A tropical storm rapidly developed in the Gulf of Mexico Sunday and was expected to hit somewhere along the Texas or Louisiana coasts by Monday night.\n",
      "It exploded in his hands, but the former Italian prime minister was unhurt.\n",
      "International rescue workers are scouring flattened debris for survivors in Iran's shattered ancient Silk Road city of Bam after a violent earthquake killed more than 20,000 people.\n",
      "Heather, 35, who lost a leg in a road accident, is thought to have steel plates fitted in her hips, which would make natural childbirth impossible.\n",
      "The weather service reported maximum sustained winds of nearly 105 miles an hour with stronger gusts.\n",
      "Several shots rang out in the darkness, but only one gator had been killed by 11 p.m.\n",
      "The bodies of some of the dead, pulled out from under the train, were laid out beside the tracks while emergency services brought in wooden coffins.\n",
      "State police said as many as 30 workers were trapped immediately after the garage collapsed.\n",
      "Nigeria university mass attacked by gunmen\n",
      "Tropical Storm Isaac boosts jobless claims\n",
      "Navy Jet Crashes Into Apartment Building\n",
      "Death toll rises to 236 after Brazzaville blasts\n",
      "No damage, tsunami after 6.6 quake hits off Indonesia's Sumatra\n",
      "6.6 quake rocks Indonesia's Papua: USGS\n",
      "\n",
      "--------------------\n",
      "\n",
      "CLUSTER 16 has 760 preds\n",
      "\n",
      "The military officer barked at the recruits.\n",
      "There's no chance of a fair trial.\n",
      "According to the girlfriend and Zimmerman, he did.\n",
      "I oppose the death penalty.\n",
      "Z stalked him down, then shot him.\n",
      "No extortion, no bribery, no money involved He's asking for money for his vote.\n",
      "Double Jeopardy actually enforces a jury nullification.\n",
      "Like this  year old who was shot dead in a marijuana-related crime.\n",
      "Tell us what the charges were.\n",
      "Let's let this play out in court.\n",
      "Being in a gang isnt a crime.\n",
      "The point is an unarmed child was murdered.\n",
      "Jury nullification does not mean that a law is unconstuitutional.\n",
      "Jury nullification has NOTHING to do with the Constitutionality of laws.\n",
      "He had no intention of apprehending him.\n",
      "Jury nullification means a law isn't Constitutional?\n",
      "Charlie Rangel Censured Did anyone see the footage of this?\n",
      "I'm going to shout for justice for Trayvon.\n",
      "Zimmerman says that he was sucker punched by his car.\n",
      "The jury is not told about juror nullification.\n",
      "SEC Chairman William Donaldson said there is a \"building confidence out there that the cop is on the beat.\"\n",
      "Darren Dopp, a Spitzer spokesman, declined to comment late Thursday.\n",
      "Leon Williams' body was found inside his third-floor apartment at 196 Bay St., in Tompkinsville.\n",
      "For me, the Lewinsky imbroglio seemed like just another vicious scandal manufactured by political opponents, according to extracts released yesterday.\n",
      "Earlier, they had defied a police order and cried \"Allahu Akbar\" (God is Greatest) as Bashir walked to his seat in the tightly guarded courtroom.\n",
      "\n",
      "--------------------\n",
      "\n",
      "CLUSTER 17 has 1091 preds\n",
      "\n",
      "Someone is mixing ingrediants.\n",
      "The elephants sprayed water on themselves.\n",
      "Raccoons are eating.\n",
      "Trees are bending in storm.\n",
      "The person is removing the scales from the fish.\n",
      "The doctor was helping the patient.\n",
      "Elegant dining room with wood furniture.\n",
      "This over the top photo shows two men taking a break.\n",
      "How about some testimonies from real health experts?\n",
      "go figure You're asking me to prove a negative?\n",
      "I am OK with MEDICAL use!\n",
      "The prices for everything you need have gone up due to inflation.\n",
      "Originally Posted by Vienna How was it authoritarian?\n",
      "Imagine a place that's % white and % black.\n",
      "Nirvana is very different than oblivion.\n",
      "We in Britain think differently to Americans.\n",
      "The whole earth combined produces enough food for  billion people.\n",
      "BTW he had appropriate deferments for the time.\n",
      "Hey, Blue-Eyes, How's things in London?\n",
      "but in the news broadcasts i have seen they did call him white.\n",
      "My parents have told me it is bad for you.\n",
      ".Nazi is a slang term for the NSWP.\n",
      "They produce nothing I can eat, wear, live in.\n",
      "DICKSHOT Matt Holliday owns.\n",
      "People exploited the laws.\n",
      "\n",
      "--------------------\n",
      "\n",
      "CLUSTER 18 has 755 preds\n",
      "\n",
      "The missile exploded.\n",
      "you have no remains of a missile at the pentagon.\n",
      "The Nazis increases the longevity of a handgun permit from  to  years.\n",
      "Being against nukes does not mean \"not wanting to use nukes\".\n",
      "March  is also the date for the uprising in CHINA.\n",
      "you have no remains of a missile at the pentagon.\n",
      "Last night Japanese forces attacked Hong Kong.\n",
      "Fighting continued until midnight, western rebel commander Ousmane Coulibaly told Reuters by satellite phone on Sunday.\n",
      "US Special Forces troops are training Colombian soldiers at military bases in the region to protect the pipeline, which transports crude from Colombia's second-biggest oil field.\n",
      "In exchange, North Korea would be required to end its nuclear weapons program.\n",
      "Neither military action nor large-scale bribery can solve the North Korean problem, Wolfowitz said.\n",
      "Iraq's economy was ravaged during years of U.N. sanctions over ex-president Saddam Hussein's 1990 occupation of Kuwait and by the U.S.-led war to oust him which ended in April.\n",
      "Bush said resistance forces hostile to the U.S. presence \"feel like ... the conditions are such that they can attack us there.\n",
      "The computers were reportedly located in the U.S., Canada and South Korea.\n",
      "The additional contribution brings total U.S. food aid to North Korea this year to 100,000 tonnes.\n",
      "The European Union banned the import of genetically modified food in 1998; the United States is now demanding that the EU end its ban.\n",
      "Tehran has made clear it will only sign the Additional Protocol introducing such inspections if a ban on the import of civilian Western nuclear technology is lifted.\n",
      "Today, we are trying to convey this problem to Russian President Vladimir Putin and US President George W Bush.\n",
      "The venture owns five oil refineries and more than 2,100 filling stations in Russia and Ukraine.\n",
      "It would be difficult to overestimate the potential dangers of the Remote Procedure Call (RPC) vulnerability.\n",
      "July 1st is the sixth anniversary of Hong Kong's return to Chinese rule.\n",
      "OPEC producers at a meeting on Wednesday are set to pressure independent oil exporters to contribute to the cartel's next supply cut to allow for the return of Iraqi oil.\n",
      "Such a step could put the issue before the UN Security Council.\n",
      "The report by the independent expert committee aims to dissipate any suspicion about the Hong Kong government's handling of the SARS crisis.\n",
      "With diplomacy heating up in the nearly 10-month-old nuclear crisis, Chinese Foreign Minister Li Zhaoxing is slated to visit South Korea from August 13 to 15.\n",
      "\n",
      "--------------------\n",
      "\n",
      "CLUSTER 19 has 398 preds\n",
      "\n",
      "Israel doesn't give a ****, accept it.\n",
      "Iran is also a signed of the NPT and the IAEA.\n",
      "I'd offer Iran a deal.\n",
      "An hour later, an Israeli helicopter fired missiles at a car in Gaza City, killing two Hamas officials and at least five other people.\n",
      "In addition, it offered the United States and Israel a way to work around Mr. Arafat.\n",
      "Abbas told the summit he would end the \"armed intefadeh,\" renounced \"terrorism against the Israelis wherever they might be\" and alluded to the disarming of militants.\n",
      "But White House spokesman Ari Fleischer said yesterday: \"The steps the Iranians claim to have taken in terms of capturing al-Qa'ida are insufficient.\"\n",
      "Two Kuwaitis and six Palestinians with Jordanian passports were among the suspects, the official said.\n",
      "ISRAELI soldiers knocked down empty mobile homes and water towers in 10 tiny West Bank settlement outposts overnight as part of a US-backed Mideast peace plan.\n",
      "Others with such a status are Egypt, Israel, and Australia.\n",
      "The army said the raid, which comes just days after Israeli troops shot and killed Abdullah Kawasme, the Hamas leader in the city, targeted militants in Hamas.\n",
      "Bush plans to meet with Israeli Prime Minister Ariel Sharon and the new Palestinian prime minister, Mahmoud Abbas, in the Jordanian port of Aqaba on Wednesday.\n",
      "U.S. and European leaders pledged on Wednesday to work together to keep Iran from developing nuclear weapons, presenting a united front after months of bitter acrimony over Iraq.\n",
      "switzerland's trade and diplomatic relations with iran have been criticized in recent months after foreign minister micheline calmy-rey traveled to tehran in march 2008 to sign a deal with iran's state gas firm. \n",
      "the international atomic energy agency reached an agreement with iranian officials that stated there were no remaining issues and ambiguities regarding iran's nuclear program and activities. \n",
      "iran insists that the program is aimed solely at peaceful pursuits such as the generation of \n",
      "iran is the most prolific applier of the death penalty in the world after china. \n",
      "iran is the most prolific applier of the death penalty in the world after china. \n",
      "the united states government has accused the iranian government of trying to develop nuclear weapons under the cover of a civilian nuclear program. \n",
      "iran's nuclear projects are for peaceful purposes. \n",
      "zabol is a town in southeastern iran. \n",
      "the iranian government stated-- the iranian nuclear program remains peaceful. \n",
      "many of those executed in iran are hanged in public. \n",
      "the united states and the allies of the united states believe iran is pursuing nuclear arms. \n",
      "egypt and jordan have signed the nuclear nonproliferation treaty and have long called for a middle east free of weapons of mass destruction. \n",
      "\n",
      "--------------------\n",
      "\n"
     ]
    }
   ],
   "source": [
    "# inspect a few sentences from each cluster\n",
    "# are there any well-defined patterns?\n",
    "kmeans = kmeans = KMeans(n_clusters=20)\n",
    "kmeans.fit(all_sentences_embeddings)\n",
    "inspect_scores_and_clusters(train_df, all_sentences_embeddings, kmeans, 20)"
   ]
  },
  {
   "cell_type": "code",
   "execution_count": 142,
   "metadata": {
    "collapsed": true
   },
   "outputs": [],
   "source": [
    "def compare_sentence_predictions(random_score, train_df, e1, e2, kmeans, verbose=False):\n",
    "    # get the embeddings\n",
    "    emb1 = e1[random_score]\n",
    "    emb2 = e2[random_score]\n",
    "\n",
    "    # get the sentences\n",
    "    S1 = list(train_df['S1'])[random_score]\n",
    "    S2 = list(train_df['S2'])[random_score]\n",
    "\n",
    "    # make a prediction\n",
    "    preds = kmeans.predict([emb1, emb2])\n",
    "    if verbose:\n",
    "        print ('S1 = {0}, S2 = {1}, Predicted Clusters = {2}\\n\\n'.format(S1, S2, preds))\n",
    "    \n",
    "    return preds"
   ]
  },
  {
   "cell_type": "code",
   "execution_count": 143,
   "metadata": {
    "collapsed": false
   },
   "outputs": [],
   "source": [
    "def evaluate_cluster_accuracy(train_df, kmeans, e1, e2, target):\n",
    "    # does the cluster algorithm put two high-similarity sentences within the same cluster?\n",
    "    all_sentences = list(train_df['S1']) + list(train_df['S2'])\n",
    "    real_scores = train_df['similarity']\n",
    "\n",
    "    # find all scores with high similarities\n",
    "    high_similarities = np.where(train_df['similarity'] == target)[0]\n",
    "    # choose one randomly\n",
    "    random_score = np.random.choice(high_similarities)\n",
    "\n",
    "    compare_sentence_predictions(random_score, train_df, e1, e2, kmeans, verbose=True)\n",
    "\n",
    "    correct = 0\n",
    "    for i in high_similarities:\n",
    "        preds = compare_sentence_predictions(i, train_df, e1, e2, kmeans)\n",
    "        if preds[0] == preds[1]:\n",
    "            correct += 1\n",
    "\n",
    "    print ('Accuracy = {0}'.format(correct / float(len(high_similarities))))"
   ]
  },
  {
   "cell_type": "code",
   "execution_count": 144,
   "metadata": {
    "collapsed": false
   },
   "outputs": [
    {
     "name": "stdout",
     "output_type": "stream",
     "text": [
      "Evaluating score 0\n",
      "S1 = Iran, a large important partner for Russia: Novak, S2 = Iran reiterates support for Iraq, Syria, Predicted Clusters = [18  1]\n",
      "\n",
      "\n",
      "Accuracy = 0.2359081419624217\n",
      "Evaluating score 1\n",
      "S1 = Yes, it is possible to publish a paper on model analysis., S2 = Yes, it is hard to publish in a peer reviewed journal., Predicted Clusters = [17 17]\n",
      "\n",
      "\n",
      "Accuracy = 0.7210144927536232\n",
      "Evaluating score 2\n",
      "S1 = That is your problem, not your supervisor's., S2 = Work with your supervisor and your team to solve the problem., Predicted Clusters = [14 17]\n",
      "\n",
      "\n",
      "Accuracy = 0.7839721254355401\n",
      "Evaluating score 3\n",
      "S1 = 7 killed in attacks in Iraq, S2 = 16 killed in series of attacks in Iraq, Predicted Clusters = [7 7]\n",
      "\n",
      "\n",
      "Accuracy = 0.8202531645569621\n",
      "Evaluating score 4\n",
      "S1 = A man is taking out the insides of a green pepper., S2 = Someone is removing the seeds from a bell pepper., Predicted Clusters = [12 12]\n",
      "\n",
      "\n",
      "Accuracy = 0.8558951965065502\n",
      "Evaluating score 5\n",
      "S1 = Two people walking on the beach at sunset., S2 = Two people walking along the shore at sunset., Predicted Clusters = [2 2]\n",
      "\n",
      "\n",
      "Accuracy = 0.9281767955801105\n"
     ]
    }
   ],
   "source": [
    "for i in range(6):\n",
    "    print ('Evaluating score {0}'.format(i))\n",
    "    evaluate_cluster_accuracy(train_df, kmeans, e1, e2, i)"
   ]
  },
  {
   "cell_type": "code",
   "execution_count": null,
   "metadata": {
    "collapsed": true
   },
   "outputs": [],
   "source": []
  }
 ],
 "metadata": {
  "anaconda-cloud": {},
  "kernelspec": {
   "display_name": "Python 3",
   "language": "python",
   "name": "python3"
  },
  "language_info": {
   "codemirror_mode": {
    "name": "ipython",
    "version": 3
   },
   "file_extension": ".py",
   "mimetype": "text/x-python",
   "name": "python",
   "nbconvert_exporter": "python",
   "pygments_lexer": "ipython3",
   "version": "3.7.6"
  }
 },
 "nbformat": 4,
 "nbformat_minor": 1
}
