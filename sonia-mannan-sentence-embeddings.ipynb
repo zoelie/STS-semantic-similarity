{
 "cells": [
  {
   "cell_type": "code",
   "execution_count": 7,
   "metadata": {
    "collapsed": false
   },
   "outputs": [],
   "source": [
    "import csv\n",
    "import math\n",
    "import matplotlib.pyplot as plt\n",
    "import numpy as np\n",
    "import nltk\n",
    "import os\n",
    "import pandas as pd\n",
    "\n",
    "from scipy.stats import pearsonr\n",
    "from collections import Counter\n",
    "from nltk.corpus import stopwords\n",
    "from sklearn.metrics import mean_squared_error"
   ]
  },
  {
   "cell_type": "code",
   "execution_count": 8,
   "metadata": {
    "collapsed": false
   },
   "outputs": [],
   "source": [
    "TRAIN_DATA = './datasets/sts-train.csv'\n",
    "TEST_DATA = './datasets/sts-test.csv'\n",
    "CWD = os.getcwd()"
   ]
  },
  {
   "cell_type": "code",
   "execution_count": 30,
   "metadata": {
    "collapsed": false
   },
   "outputs": [],
   "source": [
    "sts_dev = pd.read_table(\n",
    "    TRAIN_DATA,\n",
    "    error_bad_lines=False,\n",
    "    skip_blank_lines=True,\n",
    "    usecols=[4, 5, 6],\n",
    "    names=[\"similarity\", \"S1\", \"S2\"])\n",
    "\n",
    "sts_test = pd.read_table(\n",
    "    TEST_DATA,\n",
    "    error_bad_lines=False,\n",
    "    quoting=csv.QUOTE_NONE,\n",
    "    skip_blank_lines=True,\n",
    "    usecols=[4, 5, 6],\n",
    "    names=[\"similarity\", \"S1\", \"S2\"])"
   ]
  },
  {
   "cell_type": "code",
   "execution_count": 31,
   "metadata": {
    "collapsed": false
   },
   "outputs": [],
   "source": [
    "train_df = pd.concat([sts_dev, sts_test])"
   ]
  },
  {
   "cell_type": "code",
   "execution_count": 32,
   "metadata": {
    "collapsed": false
   },
   "outputs": [
    {
     "data": {
      "text/plain": [
       "7090"
      ]
     },
     "execution_count": 32,
     "metadata": {},
     "output_type": "execute_result"
    }
   ],
   "source": [
    "len(train_df)"
   ]
  },
  {
   "cell_type": "code",
   "execution_count": 34,
   "metadata": {
    "collapsed": false
   },
   "outputs": [],
   "source": [
    "train_df['S2'] = [str(x) for x in train_df['S2']]"
   ]
  },
  {
   "cell_type": "code",
   "execution_count": 35,
   "metadata": {
    "collapsed": false
   },
   "outputs": [
    {
     "name": "stdout",
     "output_type": "stream",
     "text": [
      "WARNING:tensorflow:5 out of the last 8 calls to <function recreate_function.<locals>.restored_function_body at 0x12752d560> triggered tf.function retracing. Tracing is expensive and the excessive number of tracings could be due to (1) creating @tf.function repeatedly in a loop, (2) passing tensors with different shapes, (3) passing Python objects instead of tensors. For (1), please define your @tf.function outside of the loop. For (2), @tf.function has experimental_relax_shapes=True option that relaxes argument shapes that can avoid unnecessary retracing. For (3), please refer to https://www.tensorflow.org/tutorials/customization/performance#python_or_tensor_args and https://www.tensorflow.org/api_docs/python/tf/function for  more details.\n"
     ]
    },
    {
     "name": "stderr",
     "output_type": "stream",
     "text": [
      "WARNING:tensorflow:5 out of the last 8 calls to <function recreate_function.<locals>.restored_function_body at 0x12752d560> triggered tf.function retracing. Tracing is expensive and the excessive number of tracings could be due to (1) creating @tf.function repeatedly in a loop, (2) passing tensors with different shapes, (3) passing Python objects instead of tensors. For (1), please define your @tf.function outside of the loop. For (2), @tf.function has experimental_relax_shapes=True option that relaxes argument shapes that can avoid unnecessary retracing. For (3), please refer to https://www.tensorflow.org/tutorials/customization/performance#python_or_tensor_args and https://www.tensorflow.org/api_docs/python/tf/function for  more details.\n"
     ]
    },
    {
     "name": "stdout",
     "output_type": "stream",
     "text": [
      "module https://tfhub.dev/google/universal-sentence-encoder/4 loaded\n"
     ]
    }
   ],
   "source": [
    "from absl import logging\n",
    "\n",
    "import tensorflow as tf\n",
    "\n",
    "import tensorflow_hub as hub\n",
    "import matplotlib.pyplot as plt\n",
    "import numpy as np\n",
    "import os\n",
    "import pandas as pd\n",
    "import re\n",
    "import seaborn as sns\n",
    "\n",
    "module_url = \"https://tfhub.dev/google/universal-sentence-encoder/4\"\n",
    "model = hub.load(module_url)\n",
    "print (\"module %s loaded\" % module_url)\n",
    "def embed(input):\n",
    "    return model(input)"
   ]
  },
  {
   "cell_type": "code",
   "execution_count": null,
   "metadata": {
    "collapsed": false
   },
   "outputs": [
    {
     "name": "stdout",
     "output_type": "stream",
     "text": [
      "0         A plane is taking off.\n",
      "0    A girl is styling her hair.\n",
      "Name: S1, dtype: object\n"
     ]
    }
   ],
   "source": [
    "# embeddings produce a 512-length vector representing the sentence context\n",
    "sample = train_df['S1'][0]\n",
    "print (sample)\n",
    "message_embeddings = embed([sample])\n",
    "print (message_embeddings.shape)"
   ]
  },
  {
   "cell_type": "markdown",
   "metadata": {},
   "source": [
    "### Qualitatively Evaluate Embeddings on a Small Sample by Plotting a Heatmap"
   ]
  },
  {
   "cell_type": "code",
   "execution_count": 13,
   "metadata": {
    "collapsed": true
   },
   "outputs": [],
   "source": [
    "# given sentence pairs that have been evaluated together create a heatmap\n",
    "# features = sentence embeddings, labels = sentences\n",
    "# first half corresponds to second half\n",
    "def plot_similarity(labels, features, rotation):\n",
    "    M = int(len(features) / 2)\n",
    "    text_cutoff = 50\n",
    "    \n",
    "    labels = [label[:text_cutoff] for label in labels]\n",
    "    corr = np.inner(features[:M], features[M:])\n",
    "    sns.set(font_scale=1.2)\n",
    "    g = sns.heatmap(\n",
    "      corr,\n",
    "      xticklabels=labels[:M],\n",
    "      yticklabels=labels[M:],\n",
    "      vmin=0,\n",
    "      vmax=1,\n",
    "      cmap=\"YlOrRd\")\n",
    "    g.set_xticklabels(labels[:M], rotation=rotation)\n",
    "    g.set_title(\"Semantic Textual Similarity\")\n",
    "    g.get_figure().savefig(\"./sonia-mannan-sentence-embeddings-results/sample_heatmap.png\", bbox_inches='tight')\n",
    "\n",
    "def run_and_plot(messages_):\n",
    "    message_embeddings_ = embed(messages_)\n",
    "    plot_similarity(messages_, message_embeddings_, 90)"
   ]
  },
  {
   "cell_type": "code",
   "execution_count": 14,
   "metadata": {
    "collapsed": false
   },
   "outputs": [
    {
     "name": "stdout",
     "output_type": "stream",
     "text": [
      "S(0         A plane is taking off.\n",
      "0    A girl is styling her hair.\n",
      "Name: S1, dtype: object, 0     An air plane is taking off.\n",
      "0    A girl is brushing her hair.\n",
      "Name: S2, dtype: object) = 5.0\n",
      "S(1             A man is playing a large flute.\n",
      "1    A group of men play soccer on the beach.\n",
      "Name: S1, dtype: object, 1                           A man is playing a flute.\n",
      "1    A group of boys are playing soccer on the beach.\n",
      "Name: S2, dtype: object) = 3.8\n",
      "S(2    A man is spreading shreded cheese on a pizza.\n",
      "2    One woman is measuring another woman's ankle.\n",
      "Name: S1, dtype: object, 2    A man is spreading shredded cheese on an uncoo...\n",
      "2              A woman measures another woman's ankle.\n",
      "Name: S2, dtype: object) = 3.8\n",
      "S(3       Three men are playing chess.\n",
      "3    A man is cutting up a cucumber.\n",
      "Name: S1, dtype: object, 3      Two men are playing chess.\n",
      "3    A man is slicing a cucumber.\n",
      "Name: S2, dtype: object) = 2.6\n",
      "S(4    A man is playing the cello.\n",
      "4       A man is playing a harp.\n",
      "Name: S1, dtype: object, 4    A man seated is playing the cello.\n",
      "4          A man is playing a keyboard.\n",
      "Name: S2, dtype: object) = 4.25\n"
     ]
    },
    {
     "data": {
      "image/png": "[encoded data removed]",
      "text/plain": [
       "<Figure size 432x288 with 2 Axes>"
      ]
     },
     "metadata": {},
     "output_type": "display_data"
    }
   ],
   "source": [
    "messages = list(train_df['S1'][:5]) + list(train_df['S2'][:5])\n",
    "similarities = train_df['similarity'][:5]\n",
    "for i in range(len(similarities)):\n",
    "    print ('S({0}, {1}) = {2}'.format(train_df['S1'][i], train_df['S2'][i], similarities[i]))\n",
    "run_and_plot(messages)"
   ]
  },
  {
   "cell_type": "markdown",
   "metadata": {},
   "source": [
    "### Quantitively Evaluate Embeddings by Calculating Cosine Similarities"
   ]
  },
  {
   "cell_type": "code",
   "execution_count": 15,
   "metadata": {
    "collapsed": true
   },
   "outputs": [],
   "source": [
    "def magnitude(e1):\n",
    "    return np.sqrt(np.sum(np.square(e1)))"
   ]
  },
  {
   "cell_type": "code",
   "execution_count": 16,
   "metadata": {
    "collapsed": true
   },
   "outputs": [],
   "source": [
    "def cosine_similarity(e1, e2):\n",
    "    return (np.dot(e1, e2) / (magnitude(e1) * magnitude(e2)))"
   ]
  },
  {
   "cell_type": "code",
   "execution_count": 36,
   "metadata": {
    "collapsed": false,
    "scrolled": false
   },
   "outputs": [
    {
     "name": "stdout",
     "output_type": "stream",
     "text": [
      "WARNING:tensorflow:6 out of the last 9 calls to <function recreate_function.<locals>.restored_function_body at 0x126b75a70> triggered tf.function retracing. Tracing is expensive and the excessive number of tracings could be due to (1) creating @tf.function repeatedly in a loop, (2) passing tensors with different shapes, (3) passing Python objects instead of tensors. For (1), please define your @tf.function outside of the loop. For (2), @tf.function has experimental_relax_shapes=True option that relaxes argument shapes that can avoid unnecessary retracing. For (3), please refer to https://www.tensorflow.org/tutorials/customization/performance#python_or_tensor_args and https://www.tensorflow.org/api_docs/python/tf/function for  more details.\n"
     ]
    },
    {
     "name": "stderr",
     "output_type": "stream",
     "text": [
      "WARNING:tensorflow:6 out of the last 9 calls to <function recreate_function.<locals>.restored_function_body at 0x126b75a70> triggered tf.function retracing. Tracing is expensive and the excessive number of tracings could be due to (1) creating @tf.function repeatedly in a loop, (2) passing tensors with different shapes, (3) passing Python objects instead of tensors. For (1), please define your @tf.function outside of the loop. For (2), @tf.function has experimental_relax_shapes=True option that relaxes argument shapes that can avoid unnecessary retracing. For (3), please refer to https://www.tensorflow.org/tutorials/customization/performance#python_or_tensor_args and https://www.tensorflow.org/api_docs/python/tf/function for  more details.\n"
     ]
    }
   ],
   "source": [
    "assert train_df['similarity'].shape[0] == train_df['S2'].shape[0] == train_df['S1'].shape[0]\n",
    "\n",
    "# get embeddings for each sentence pair, 5,749 x 512\n",
    "e1 = tf.nn.l2_normalize(embed(train_df['S1']), axis=1)\n",
    "e2 = tf.nn.l2_normalize(embed(train_df['S2']), axis=1)\n",
    "\n",
    "# take the cosine similarity between each embedding\n",
    "calculated_similarities = np.array([cosine_similarity(x, y) for x, y in zip(e1, e2)])\n",
    "actual_scores = train_df['similarity']\n",
    "\n",
    "# calculate the pearson correlation\n",
    "pearson_correlation = pearsonr(calculated_similarities, actual_scores)"
   ]
  },
  {
   "cell_type": "markdown",
   "metadata": {},
   "source": [
    "### Pearson correlation measures similarity between two variables\n",
    "1. -1 = opposite, 0 = neatral, 1 = same -> higher score means they are more similar. We expect the correlation between calculated and real scores to be high\n",
    "2. Without dropping malformed lines: 0.64\n",
    "3. With dropping malformed lines: 0.778\n"
   ]
  },
  {
   "cell_type": "code",
   "execution_count": 37,
   "metadata": {
    "collapsed": false
   },
   "outputs": [
    {
     "name": "stdout",
     "output_type": "stream",
     "text": [
      "Pearson correlation coefficient = 0.7784817445535114\n",
      "p-value = 0.0\n"
     ]
    }
   ],
   "source": [
    "print('Pearson correlation coefficient = {0}\\np-value = {1}'.format(\n",
    "    pearson_correlation[0], pearson_correlation[1]))"
   ]
  },
  {
   "cell_type": "markdown",
   "metadata": {},
   "source": [
    "#### We can also calculate the RMSE between calculated and real scores by interpolating calculated scores between 0-5\n",
    "1. Perfect RMSE = 0\n",
    "2. Random RMSE = 2.1492 -> randomly generate an array of 0-5\n",
    "3. Actual RMSE = 1.167 -> not perfect but better than randomly guessing\n",
    "4. Actual RMSE drop lines = 1.195"
   ]
  },
  {
   "cell_type": "code",
   "execution_count": 41,
   "metadata": {
    "collapsed": false
   },
   "outputs": [
    {
     "name": "stdout",
     "output_type": "stream",
     "text": [
      "Actual RMSE 1.1954601701698726\n"
     ]
    }
   ],
   "source": [
    "calculated_scores = np.interp(calculated_similarities, (calculated_similarities.min(), \\\n",
    "                                                        calculated_similarities.max()), (0, +5))\n",
    "print ('Actual RMSE', mean_squared_error(actual_scores, calculated_scores, squared=False))"
   ]
  },
  {
   "cell_type": "code",
   "execution_count": 42,
   "metadata": {
    "collapsed": false
   },
   "outputs": [
    {
     "name": "stdout",
     "output_type": "stream",
     "text": [
      "Perfect RMSE 0.0\n"
     ]
    }
   ],
   "source": [
    "print ('Perfect RMSE', mean_squared_error(actual_scores, actual_scores, squared=False))"
   ]
  },
  {
   "cell_type": "code",
   "execution_count": 43,
   "metadata": {
    "collapsed": false
   },
   "outputs": [
    {
     "name": "stdout",
     "output_type": "stream",
     "text": [
      "Random RMSE 2.162028148244892\n"
     ]
    }
   ],
   "source": [
    "print ('Random RMSE', mean_squared_error(actual_scores, np.random.randint(5, size=len(actual_scores)), squared=False))"
   ]
  },
  {
   "cell_type": "code",
   "execution_count": null,
   "metadata": {
    "collapsed": true
   },
   "outputs": [],
   "source": []
  }
 ],
 "metadata": {
  "anaconda-cloud": {},
  "kernelspec": {
   "display_name": "Python 3",
   "language": "python",
   "name": "python3"
  },
  "language_info": {
   "codemirror_mode": {
    "name": "ipython",
    "version": 3
   },
   "file_extension": ".py",
   "mimetype": "text/x-python",
   "name": "python",
   "nbconvert_exporter": "python",
   "pygments_lexer": "ipython3",
   "version": "3.7.6"
  }
 },
 "nbformat": 4,
 "nbformat_minor": 1
}
